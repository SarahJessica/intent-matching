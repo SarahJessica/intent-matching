{
 "cells": [
  {
   "cell_type": "code",
   "execution_count": 1,
   "metadata": {},
   "outputs": [],
   "source": [
    "import pandas as pd"
   ]
  },
  {
   "cell_type": "code",
   "execution_count": 2,
   "metadata": {},
   "outputs": [],
   "source": [
    "df = pd.read_csv('./data/training-data-with-entities.csv')"
   ]
  },
  {
   "cell_type": "code",
   "execution_count": 3,
   "metadata": {},
   "outputs": [
    {
     "data": {
      "text/html": [
       "<div>\n",
       "<style scoped>\n",
       "    .dataframe tbody tr th:only-of-type {\n",
       "        vertical-align: middle;\n",
       "    }\n",
       "\n",
       "    .dataframe tbody tr th {\n",
       "        vertical-align: top;\n",
       "    }\n",
       "\n",
       "    .dataframe thead th {\n",
       "        text-align: right;\n",
       "    }\n",
       "</style>\n",
       "<table border=\"1\" class=\"dataframe\">\n",
       "  <thead>\n",
       "    <tr style=\"text-align: right;\">\n",
       "      <th></th>\n",
       "      <th>Intent</th>\n",
       "      <th>Utterance</th>\n",
       "      <th>Entitiy</th>\n",
       "      <th>Id</th>\n",
       "    </tr>\n",
       "  </thead>\n",
       "  <tbody>\n",
       "    <tr>\n",
       "      <td>0</td>\n",
       "      <td>PlayRadioIntent</td>\n",
       "      <td>start playing radio w. m. ninety five point six</td>\n",
       "      <td>radio w. m. ninety five point six</td>\n",
       "      <td>bbc_wm</td>\n",
       "    </tr>\n",
       "    <tr>\n",
       "      <td>1</td>\n",
       "      <td>PlayRadioIntent</td>\n",
       "      <td>start radio shropshire please</td>\n",
       "      <td>radio shropshire</td>\n",
       "      <td>bbc_radio_shropshire</td>\n",
       "    </tr>\n",
       "    <tr>\n",
       "      <td>2</td>\n",
       "      <td>PlayRadioIntent</td>\n",
       "      <td>let me listen to b. b. c. london please</td>\n",
       "      <td>b. b. c. london</td>\n",
       "      <td>bbc_london</td>\n",
       "    </tr>\n",
       "  </tbody>\n",
       "</table>\n",
       "</div>"
      ],
      "text/plain": [
       "            Intent                                        Utterance  \\\n",
       "0  PlayRadioIntent  start playing radio w. m. ninety five point six   \n",
       "1  PlayRadioIntent                    start radio shropshire please   \n",
       "2  PlayRadioIntent          let me listen to b. b. c. london please   \n",
       "\n",
       "                             Entitiy                    Id  \n",
       "0  radio w. m. ninety five point six                bbc_wm  \n",
       "1                   radio shropshire  bbc_radio_shropshire  \n",
       "2                    b. b. c. london            bbc_london  "
      ]
     },
     "execution_count": 3,
     "metadata": {},
     "output_type": "execute_result"
    }
   ],
   "source": [
    "df.head(3)"
   ]
  },
  {
   "cell_type": "markdown",
   "metadata": {},
   "source": [
    "## How many PlayPodcastIntent Utterances contain  the word 'podcast'?"
   ]
  },
  {
   "cell_type": "code",
   "execution_count": 4,
   "metadata": {},
   "outputs": [
    {
     "name": "stdout",
     "output_type": "stream",
     "text": [
      "Number of PlayPodcastIntent Utterances that feature 'podcast' at all :  1072070\n"
     ]
    }
   ],
   "source": [
    "seriesPodcastIntentsWithPodcast = df.apply(lambda x: True if x['Intent'] == 'PlayPodcastIntent' and 'podcast' in x['Utterance'] else False, axis=1)\n",
    "\n",
    "numOfRows = len(seriesPodcastIntentsWithPodcast[seriesPodcastIntentsWithPodcast == True].index)\n",
    " \n",
    "print('Number of PlayPodcastIntent Utterances that feature \\'podcast\\' at all : ', numOfRows)\n"
   ]
  },
  {
   "cell_type": "markdown",
   "metadata": {},
   "source": [
    "## How many PlayRadioIntent Utterances contain  the word 'radio'?"
   ]
  },
  {
   "cell_type": "code",
   "execution_count": 5,
   "metadata": {},
   "outputs": [
    {
     "name": "stdout",
     "output_type": "stream",
     "text": [
      "Number of PlayRadioIntent Utterances that feature 'radio' at all :  9842\n"
     ]
    }
   ],
   "source": [
    "seriesRadioIntentsWithRadio = df.apply(lambda x: True if x['Intent'] == 'PlayRadioIntent' and 'radio' in x['Utterance'] else False, axis=1)\n",
    " \n",
    "numOfRows = len(seriesRadioIntentsWithRadio[seriesRadioIntentsWithRadio == True].index)\n",
    " \n",
    "print('Number of PlayRadioIntent Utterances that feature \\'radio\\' at all : ', numOfRows)\n"
   ]
  },
  {
   "cell_type": "markdown",
   "metadata": {},
   "source": [
    "## How many PlayPodcastIntent Utterances contain  the word 'radio'?"
   ]
  },
  {
   "cell_type": "code",
   "execution_count": 6,
   "metadata": {},
   "outputs": [
    {
     "name": "stdout",
     "output_type": "stream",
     "text": [
      "Number of PlayPodcastIntent Utterances that feature 'radio' at all :  1066674\n"
     ]
    }
   ],
   "source": [
    "seriesPodcastIntentsWithRadio = df.apply(lambda x: True if x['Intent'] == 'PlayPodcastIntent' and 'radio' in x['Utterance'] else False, axis=1)\n",
    "\n",
    "numOfRows = len(seriesPodcastIntentsWithRadio[seriesPodcastIntentsWithRadio == True].index)\n",
    " \n",
    "print('Number of PlayPodcastIntent Utterances that feature \\'radio\\' at all : ', numOfRows)\n"
   ]
  },
  {
   "cell_type": "markdown",
   "metadata": {},
   "source": [
    "## How many PlayRadioIntent Utterances contain  the word 'podast'?"
   ]
  },
  {
   "cell_type": "code",
   "execution_count": 7,
   "metadata": {},
   "outputs": [
    {
     "name": "stdout",
     "output_type": "stream",
     "text": [
      "Number of PlayPodcastIntent Utterances that feature 'podcast' at all :  0\n"
     ]
    }
   ],
   "source": [
    "seriesRadioIntentsWithPodcast = df.apply(lambda x: True if x['Intent'] == 'PlayRadioIntent' and 'podcast' in x['Utterance'] else False, axis=1)\n",
    "\n",
    "numOfRows = len(seriesRadioIntentsWithPodcast[seriesRadioIntentsWithPodcast == True].index)\n",
    " \n",
    "print('Number of PlayPodcastIntent Utterances that feature \\'podcast\\' at all : ', numOfRows)"
   ]
  },
  {
   "cell_type": "markdown",
   "metadata": {},
   "source": [
    "If the utterance contains the word 'podcast' then it is extremely unlikely that the user is asking for a radio station. This could be useful.\n",
    "\n",
    "This means that a manual rule could be applied so that that if the utterance contains the word 'podcast' then a it will automatically be mapped to `PlayPodcastIntent` and would not need to go through any further prediction algorithm."
   ]
  },
  {
   "cell_type": "code",
   "execution_count": 8,
   "metadata": {},
   "outputs": [
    {
     "data": {
      "text/html": [
       "<div>\n",
       "<style scoped>\n",
       "    .dataframe tbody tr th:only-of-type {\n",
       "        vertical-align: middle;\n",
       "    }\n",
       "\n",
       "    .dataframe tbody tr th {\n",
       "        vertical-align: top;\n",
       "    }\n",
       "\n",
       "    .dataframe thead th {\n",
       "        text-align: right;\n",
       "    }\n",
       "</style>\n",
       "<table border=\"1\" class=\"dataframe\">\n",
       "  <thead>\n",
       "    <tr style=\"text-align: right;\">\n",
       "      <th></th>\n",
       "      <th>Intent</th>\n",
       "      <th>Utterance</th>\n",
       "      <th>Entitiy</th>\n",
       "      <th>Id</th>\n",
       "    </tr>\n",
       "  </thead>\n",
       "  <tbody>\n",
       "    <tr>\n",
       "      <td>1976576</td>\n",
       "      <td>PlayPodcastIntent</td>\n",
       "      <td>start podcast five live science podcast bbc ra...</td>\n",
       "      <td>five live science podcast bbc radio five live</td>\n",
       "      <td>p02pc9ny</td>\n",
       "    </tr>\n",
       "    <tr>\n",
       "      <td>1976577</td>\n",
       "      <td>PlayPodcastIntent</td>\n",
       "      <td>let me hear bbc newcastle rebecca o'neill</td>\n",
       "      <td>bbc newcastle rebecca o'neill</td>\n",
       "      <td>p06nzv9h</td>\n",
       "    </tr>\n",
       "    <tr>\n",
       "      <td>1976578</td>\n",
       "      <td>PlayPodcastIntent</td>\n",
       "      <td>continue listening to bbc world service world ...</td>\n",
       "      <td>bbc world service world update</td>\n",
       "      <td>p007dhp8</td>\n",
       "    </tr>\n",
       "    <tr>\n",
       "      <td>1976579</td>\n",
       "      <td>PlayPodcastIntent</td>\n",
       "      <td>start playing the five faces of leonardo please</td>\n",
       "      <td>the five faces of leonardo</td>\n",
       "      <td>m0004l8g</td>\n",
       "    </tr>\n",
       "    <tr>\n",
       "      <td>1976580</td>\n",
       "      <td>PlayPodcastIntent</td>\n",
       "      <td>can I hear podcast b. b. c. radio cumbria joe ...</td>\n",
       "      <td>b. b. c. radio cumbria joe costin</td>\n",
       "      <td>p001d72n</td>\n",
       "    </tr>\n",
       "  </tbody>\n",
       "</table>\n",
       "</div>"
      ],
      "text/plain": [
       "                    Intent                                          Utterance  \\\n",
       "1976576  PlayPodcastIntent  start podcast five live science podcast bbc ra...   \n",
       "1976577  PlayPodcastIntent          let me hear bbc newcastle rebecca o'neill   \n",
       "1976578  PlayPodcastIntent  continue listening to bbc world service world ...   \n",
       "1976579  PlayPodcastIntent    start playing the five faces of leonardo please   \n",
       "1976580  PlayPodcastIntent  can I hear podcast b. b. c. radio cumbria joe ...   \n",
       "\n",
       "                                               Entitiy        Id  \n",
       "1976576  five live science podcast bbc radio five live  p02pc9ny  \n",
       "1976577                  bbc newcastle rebecca o'neill  p06nzv9h  \n",
       "1976578                 bbc world service world update  p007dhp8  \n",
       "1976579                     the five faces of leonardo  m0004l8g  \n",
       "1976580              b. b. c. radio cumbria joe costin  p001d72n  "
      ]
     },
     "execution_count": 8,
     "metadata": {},
     "output_type": "execute_result"
    }
   ],
   "source": [
    "df.tail()"
   ]
  },
  {
   "cell_type": "markdown",
   "metadata": {},
   "source": [
    "## How Would the Model Perform on the other Radio Stations?"
   ]
  },
  {
   "cell_type": "code",
   "execution_count": 9,
   "metadata": {},
   "outputs": [],
   "source": [
    "radio_intent_df = df[~(df.Intent != 'PlayRadioIntent')].copy()"
   ]
  },
  {
   "cell_type": "code",
   "execution_count": 11,
   "metadata": {},
   "outputs": [
    {
     "data": {
      "text/plain": [
       "(16761, 4)"
      ]
     },
     "execution_count": 11,
     "metadata": {},
     "output_type": "execute_result"
    }
   ],
   "source": [
    "radio_intent_df.shape"
   ]
  },
  {
   "cell_type": "markdown",
   "metadata": {},
   "source": [
    "### Import the Model "
   ]
  },
  {
   "cell_type": "code",
   "execution_count": 12,
   "metadata": {},
   "outputs": [],
   "source": [
    "import pickle\n",
    "model = pickle.load(open('trained_model.pickle', 'rb'))"
   ]
  },
  {
   "cell_type": "markdown",
   "metadata": {},
   "source": [
    "A quick testing to ensure that the model has imported correctly"
   ]
  },
  {
   "cell_type": "code",
   "execution_count": 13,
   "metadata": {},
   "outputs": [
    {
     "data": {
      "text/plain": [
       "array(['PlayPodcastIntent', 'PlayRadioIntent'], dtype=object)"
      ]
     },
     "execution_count": 13,
     "metadata": {},
     "output_type": "execute_result"
    }
   ],
   "source": [
    "model.predict(['the cat sat on the radio', 'play b. b. c. radio two please'])"
   ]
  },
  {
   "cell_type": "markdown",
   "metadata": {},
   "source": [
    "## Using the Model to Classify alongside the Manual Rule"
   ]
  },
  {
   "cell_type": "code",
   "execution_count": 15,
   "metadata": {},
   "outputs": [],
   "source": [
    "df['Correct?'] = df.apply(\n",
    "    lambda x: True if 'podcast' in x['Utterance']\n",
    "    or model.predict([x['Utterance']]) == x['Intent'] \n",
    "    else False, axis=1)\n"
   ]
  },
  {
   "cell_type": "code",
   "execution_count": 26,
   "metadata": {},
   "outputs": [
    {
     "data": {
      "text/html": [
       "<div>\n",
       "<style scoped>\n",
       "    .dataframe tbody tr th:only-of-type {\n",
       "        vertical-align: middle;\n",
       "    }\n",
       "\n",
       "    .dataframe tbody tr th {\n",
       "        vertical-align: top;\n",
       "    }\n",
       "\n",
       "    .dataframe thead th {\n",
       "        text-align: right;\n",
       "    }\n",
       "</style>\n",
       "<table border=\"1\" class=\"dataframe\">\n",
       "  <thead>\n",
       "    <tr style=\"text-align: right;\">\n",
       "      <th></th>\n",
       "      <th>Intent</th>\n",
       "      <th>Utterance</th>\n",
       "      <th>Entitiy</th>\n",
       "      <th>Id</th>\n",
       "      <th>Correct?</th>\n",
       "    </tr>\n",
       "  </thead>\n",
       "  <tbody>\n",
       "    <tr>\n",
       "      <td>0</td>\n",
       "      <td>PlayRadioIntent</td>\n",
       "      <td>start playing radio w. m. ninety five point six</td>\n",
       "      <td>radio w. m. ninety five point six</td>\n",
       "      <td>bbc_wm</td>\n",
       "      <td>True</td>\n",
       "    </tr>\n",
       "    <tr>\n",
       "      <td>1</td>\n",
       "      <td>PlayRadioIntent</td>\n",
       "      <td>start radio shropshire please</td>\n",
       "      <td>radio shropshire</td>\n",
       "      <td>bbc_radio_shropshire</td>\n",
       "      <td>True</td>\n",
       "    </tr>\n",
       "    <tr>\n",
       "      <td>2</td>\n",
       "      <td>PlayRadioIntent</td>\n",
       "      <td>let me listen to b. b. c. london please</td>\n",
       "      <td>b. b. c. london</td>\n",
       "      <td>bbc_london</td>\n",
       "      <td>True</td>\n",
       "    </tr>\n",
       "    <tr>\n",
       "      <td>3</td>\n",
       "      <td>PlayRadioIntent</td>\n",
       "      <td>find me wales radio</td>\n",
       "      <td>wales radio</td>\n",
       "      <td>bbc_radio_wales_fm</td>\n",
       "      <td>True</td>\n",
       "    </tr>\n",
       "    <tr>\n",
       "      <td>4</td>\n",
       "      <td>PlayRadioIntent</td>\n",
       "      <td>can I play b. b. c. york please</td>\n",
       "      <td>b. b. c. york</td>\n",
       "      <td>bbc_radio_york</td>\n",
       "      <td>True</td>\n",
       "    </tr>\n",
       "  </tbody>\n",
       "</table>\n",
       "</div>"
      ],
      "text/plain": [
       "            Intent                                        Utterance  \\\n",
       "0  PlayRadioIntent  start playing radio w. m. ninety five point six   \n",
       "1  PlayRadioIntent                    start radio shropshire please   \n",
       "2  PlayRadioIntent          let me listen to b. b. c. london please   \n",
       "3  PlayRadioIntent                              find me wales radio   \n",
       "4  PlayRadioIntent                  can I play b. b. c. york please   \n",
       "\n",
       "                             Entitiy                    Id  Correct?  \n",
       "0  radio w. m. ninety five point six                bbc_wm      True  \n",
       "1                   radio shropshire  bbc_radio_shropshire      True  \n",
       "2                    b. b. c. london            bbc_london      True  \n",
       "3                        wales radio    bbc_radio_wales_fm      True  \n",
       "4                      b. b. c. york        bbc_radio_york      True  "
      ]
     },
     "execution_count": 26,
     "metadata": {},
     "output_type": "execute_result"
    }
   ],
   "source": [
    "df.head()"
   ]
  },
  {
   "cell_type": "code",
   "execution_count": 28,
   "metadata": {},
   "outputs": [
    {
     "data": {
      "text/plain": [
       "True     1976153\n",
       "False        428\n",
       "Name: Correct?, dtype: int64"
      ]
     },
     "execution_count": 28,
     "metadata": {},
     "output_type": "execute_result"
    }
   ],
   "source": [
    "df['Correct?'].value_counts()"
   ]
  },
  {
   "cell_type": "markdown",
   "metadata": {},
   "source": [
    "The accuracy from just using the model, when tested on the training set was 0.9997369199907922. "
   ]
  },
  {
   "cell_type": "code",
   "execution_count": 31,
   "metadata": {},
   "outputs": [
    {
     "data": {
      "text/plain": [
       "'The accuracy is now 0.9997834175795093 which is slightly more accurate.'"
      ]
     },
     "execution_count": 31,
     "metadata": {},
     "output_type": "execute_result"
    }
   ],
   "source": [
    "f'The accuracy is now {1 - (428 / 1976153)} which is slightly more accurate.'"
   ]
  },
  {
   "cell_type": "code",
   "execution_count": null,
   "metadata": {},
   "outputs": [],
   "source": []
  }
 ],
 "metadata": {
  "kernelspec": {
   "display_name": "Python 3",
   "language": "python",
   "name": "python3"
  },
  "language_info": {
   "codemirror_mode": {
    "name": "ipython",
    "version": 3
   },
   "file_extension": ".py",
   "mimetype": "text/x-python",
   "name": "python",
   "nbconvert_exporter": "python",
   "pygments_lexer": "ipython3",
   "version": "3.7.4"
  }
 },
 "nbformat": 4,
 "nbformat_minor": 2
}
