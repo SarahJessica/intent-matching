{
 "cells": [
  {
   "cell_type": "markdown",
   "metadata": {},
   "source": [
    "# Initial Investigations\n",
    "## Importing the Data\n",
    "I have already written a JS sript that changed the data from the `interaction-model.json` to another JSON document that contains all the full utterances for each intent. "
   ]
  },
  {
   "cell_type": "markdown",
   "metadata": {
    "slideshow": {
     "slide_type": "slide"
    }
   },
   "source": [
    "On order to work with the data I need to read in the JSON document, the JSON import will convert the JSON document into a Python dictionary. For ease of use convert it to a [Pandas DataFrame](https://pandas.pydata.org/pandas-docs/stable/reference/api/pandas.DataFrame.html). "
   ]
  },
  {
   "cell_type": "code",
   "execution_count": 1,
   "metadata": {},
   "outputs": [],
   "source": [
    "import pandas as pd\n",
    "import json"
   ]
  },
  {
   "cell_type": "code",
   "execution_count": 2,
   "metadata": {},
   "outputs": [],
   "source": [
    "with open('./data/training-data.json') as training_data:\n",
    "    training_data_json = json.load(training_data)"
   ]
  },
  {
   "cell_type": "markdown",
   "metadata": {},
   "source": [
    "Checking that the data has been read in as expected."
   ]
  },
  {
   "cell_type": "code",
   "execution_count": 3,
   "metadata": {},
   "outputs": [
    {
     "data": {
      "text/plain": [
       "['the forum',\n",
       " 'the forum bbc world service',\n",
       " 'bbc world service the forum',\n",
       " 'the forum from bbc world service',\n",
       " 'the forum on bbc world service',\n",
       " 'bbc world the forum',\n",
       " 'the forum b. b. c. world service',\n",
       " 'b. b. c. world service the forum',\n",
       " 'the forum from b. b. c. world service',\n",
       " 'the forum on b. b. c. world service']"
      ]
     },
     "execution_count": 3,
     "metadata": {},
     "output_type": "execute_result"
    }
   ],
   "source": [
    "training_data_json['PodcastOnlyIntent'][:10] # only first 10 items since I know this list is very long."
   ]
  },
  {
   "cell_type": "code",
   "execution_count": 4,
   "metadata": {},
   "outputs": [
    {
     "data": {
      "text/plain": [
       "['what this is about',\n",
       " 'what this programme is about',\n",
       " 'what is this programme about']"
      ]
     },
     "execution_count": 4,
     "metadata": {},
     "output_type": "execute_result"
    }
   ],
   "source": [
    "training_data_json['WhatsPlayingTitleAndSynopsisIntent']"
   ]
  },
  {
   "cell_type": "markdown",
   "metadata": {},
   "source": [
    "I see if I can iterate through the dictionary (I can!). \n",
    "\n",
    "I do this because I am concerned about how the document will read into a DataFrame because the length of each list in the dictionary is very different."
   ]
  },
  {
   "cell_type": "code",
   "execution_count": 5,
   "metadata": {},
   "outputs": [
    {
     "data": {
      "text/plain": [
       "['what this programme is about', 'what is this programme about']"
      ]
     },
     "execution_count": 5,
     "metadata": {},
     "output_type": "execute_result"
    }
   ],
   "source": [
    "# iterate through the python dictionary. Is there need for pandas? \n",
    "[dt for dt in training_data_json['WhatsPlayingTitleAndSynopsisIntent'] if dt not in 'what this is about']"
   ]
  },
  {
   "cell_type": "markdown",
   "metadata": {},
   "source": [
    "As I expected, I had trouble reading in the the data due to the differing lengths of each list. I found I had to orient the DataFrame with the index at the top. I am concerned that this will make the data hard to work with and won't be any more useful than working directly with the native Python dictionary."
   ]
  },
  {
   "cell_type": "code",
   "execution_count": 6,
   "metadata": {},
   "outputs": [],
   "source": [
    "data = pd.DataFrame.from_dict(training_data_json, orient='index')"
   ]
  },
  {
   "cell_type": "markdown",
   "metadata": {},
   "source": [
    "Checking that the data has read in as expected. As is shown below, the lengths of the lists are extremely different. "
   ]
  },
  {
   "cell_type": "code",
   "execution_count": 7,
   "metadata": {},
   "outputs": [
    {
     "data": {
      "text/html": [
       "<div>\n",
       "<style scoped>\n",
       "    .dataframe tbody tr th:only-of-type {\n",
       "        vertical-align: middle;\n",
       "    }\n",
       "\n",
       "    .dataframe tbody tr th {\n",
       "        vertical-align: top;\n",
       "    }\n",
       "\n",
       "    .dataframe thead th {\n",
       "        text-align: right;\n",
       "    }\n",
       "</style>\n",
       "<table border=\"1\" class=\"dataframe\">\n",
       "  <thead>\n",
       "    <tr style=\"text-align: right;\">\n",
       "      <th></th>\n",
       "      <th>0</th>\n",
       "      <th>1</th>\n",
       "      <th>2</th>\n",
       "      <th>3</th>\n",
       "      <th>4</th>\n",
       "      <th>5</th>\n",
       "      <th>6</th>\n",
       "      <th>7</th>\n",
       "      <th>8</th>\n",
       "      <th>9</th>\n",
       "      <th>...</th>\n",
       "      <th>1959810</th>\n",
       "      <th>1959811</th>\n",
       "      <th>1959812</th>\n",
       "      <th>1959813</th>\n",
       "      <th>1959814</th>\n",
       "      <th>1959815</th>\n",
       "      <th>1959816</th>\n",
       "      <th>1959817</th>\n",
       "      <th>1959818</th>\n",
       "      <th>1959819</th>\n",
       "    </tr>\n",
       "  </thead>\n",
       "  <tbody>\n",
       "    <tr>\n",
       "      <td>PlayPodcastIntent</td>\n",
       "      <td>continue the forum</td>\n",
       "      <td>continue the forum bbc world service</td>\n",
       "      <td>continue bbc world service the forum</td>\n",
       "      <td>continue the forum from bbc world service</td>\n",
       "      <td>continue the forum on bbc world service</td>\n",
       "      <td>continue bbc world the forum</td>\n",
       "      <td>continue the forum b. b. c. world service</td>\n",
       "      <td>continue b. b. c. world service the forum</td>\n",
       "      <td>continue the forum from b. b. c. world service</td>\n",
       "      <td>continue the forum on b. b. c. world service</td>\n",
       "      <td>...</td>\n",
       "      <td>activate podcast the reith lectures archive ni...</td>\n",
       "      <td>activate podcast the reith lectures archive ni...</td>\n",
       "      <td>activate podcast bbc radio four the reith lect...</td>\n",
       "      <td>activate podcast the reith lectures archive ni...</td>\n",
       "      <td>activate podcast b. b. c. radio four the reith...</td>\n",
       "      <td>activate podcast letter from america by alista...</td>\n",
       "      <td>activate podcast letter from america by alista...</td>\n",
       "      <td>activate podcast bbc radio four letter from am...</td>\n",
       "      <td>activate podcast letter from america by alista...</td>\n",
       "      <td>activate podcast b. b. c. radio four letter fr...</td>\n",
       "    </tr>\n",
       "    <tr>\n",
       "      <td>PodcastOnlyIntent</td>\n",
       "      <td>the forum</td>\n",
       "      <td>the forum bbc world service</td>\n",
       "      <td>bbc world service the forum</td>\n",
       "      <td>the forum from bbc world service</td>\n",
       "      <td>the forum on bbc world service</td>\n",
       "      <td>bbc world the forum</td>\n",
       "      <td>the forum b. b. c. world service</td>\n",
       "      <td>b. b. c. world service the forum</td>\n",
       "      <td>the forum from b. b. c. world service</td>\n",
       "      <td>the forum on b. b. c. world service</td>\n",
       "      <td>...</td>\n",
       "      <td>None</td>\n",
       "      <td>None</td>\n",
       "      <td>None</td>\n",
       "      <td>None</td>\n",
       "      <td>None</td>\n",
       "      <td>None</td>\n",
       "      <td>None</td>\n",
       "      <td>None</td>\n",
       "      <td>None</td>\n",
       "      <td>None</td>\n",
       "    </tr>\n",
       "    <tr>\n",
       "      <td>PlayRadioIntent</td>\n",
       "      <td>play b. b. c. radio one</td>\n",
       "      <td>play radio one</td>\n",
       "      <td>play bbc radio one</td>\n",
       "      <td>play b. b. c. radio one extra</td>\n",
       "      <td>play bbc radio one extra</td>\n",
       "      <td>play one extra</td>\n",
       "      <td>play radio one extra</td>\n",
       "      <td>play one xtra</td>\n",
       "      <td>play radio one xtra</td>\n",
       "      <td>play bbc radio one xtra</td>\n",
       "      <td>...</td>\n",
       "      <td>None</td>\n",
       "      <td>None</td>\n",
       "      <td>None</td>\n",
       "      <td>None</td>\n",
       "      <td>None</td>\n",
       "      <td>None</td>\n",
       "      <td>None</td>\n",
       "      <td>None</td>\n",
       "      <td>None</td>\n",
       "      <td>None</td>\n",
       "    </tr>\n",
       "    <tr>\n",
       "      <td>RadioOnlyIntent</td>\n",
       "      <td>b. b. c. radio one</td>\n",
       "      <td>radio one</td>\n",
       "      <td>bbc radio one</td>\n",
       "      <td>b. b. c. radio one extra</td>\n",
       "      <td>bbc radio one extra</td>\n",
       "      <td>one extra</td>\n",
       "      <td>radio one extra</td>\n",
       "      <td>one xtra</td>\n",
       "      <td>radio one xtra</td>\n",
       "      <td>bbc radio one xtra</td>\n",
       "      <td>...</td>\n",
       "      <td>None</td>\n",
       "      <td>None</td>\n",
       "      <td>None</td>\n",
       "      <td>None</td>\n",
       "      <td>None</td>\n",
       "      <td>None</td>\n",
       "      <td>None</td>\n",
       "      <td>None</td>\n",
       "      <td>None</td>\n",
       "      <td>None</td>\n",
       "    </tr>\n",
       "    <tr>\n",
       "      <td>WhatsPlayingIntent</td>\n",
       "      <td>who is this d. j.</td>\n",
       "      <td>tell me who the d. j. is</td>\n",
       "      <td>what's this song</td>\n",
       "      <td>what song is this</td>\n",
       "      <td>what tune is this</td>\n",
       "      <td>what song is playing</td>\n",
       "      <td>what song is playing right now</td>\n",
       "      <td>what this song is</td>\n",
       "      <td>what the song title is</td>\n",
       "      <td>who this is</td>\n",
       "      <td>...</td>\n",
       "      <td>None</td>\n",
       "      <td>None</td>\n",
       "      <td>None</td>\n",
       "      <td>None</td>\n",
       "      <td>None</td>\n",
       "      <td>None</td>\n",
       "      <td>None</td>\n",
       "      <td>None</td>\n",
       "      <td>None</td>\n",
       "      <td>None</td>\n",
       "    </tr>\n",
       "    <tr>\n",
       "      <td>WhatsPlayingTitleAndSynopsisIntent</td>\n",
       "      <td>what this is about</td>\n",
       "      <td>what this programme is about</td>\n",
       "      <td>what is this programme about</td>\n",
       "      <td>None</td>\n",
       "      <td>None</td>\n",
       "      <td>None</td>\n",
       "      <td>None</td>\n",
       "      <td>None</td>\n",
       "      <td>None</td>\n",
       "      <td>None</td>\n",
       "      <td>...</td>\n",
       "      <td>None</td>\n",
       "      <td>None</td>\n",
       "      <td>None</td>\n",
       "      <td>None</td>\n",
       "      <td>None</td>\n",
       "      <td>None</td>\n",
       "      <td>None</td>\n",
       "      <td>None</td>\n",
       "      <td>None</td>\n",
       "      <td>None</td>\n",
       "    </tr>\n",
       "    <tr>\n",
       "      <td>WhatStationIsPlayingIntent</td>\n",
       "      <td>what is this station</td>\n",
       "      <td>what channel is this</td>\n",
       "      <td>what channel</td>\n",
       "      <td>what station I am listening to</td>\n",
       "      <td>what station this is</td>\n",
       "      <td>what station</td>\n",
       "      <td>what radio station I am listening to</td>\n",
       "      <td>what radio station this is</td>\n",
       "      <td>what radio station</td>\n",
       "      <td>None</td>\n",
       "      <td>...</td>\n",
       "      <td>None</td>\n",
       "      <td>None</td>\n",
       "      <td>None</td>\n",
       "      <td>None</td>\n",
       "      <td>None</td>\n",
       "      <td>None</td>\n",
       "      <td>None</td>\n",
       "      <td>None</td>\n",
       "      <td>None</td>\n",
       "      <td>None</td>\n",
       "    </tr>\n",
       "  </tbody>\n",
       "</table>\n",
       "<p>7 rows × 1959820 columns</p>\n",
       "</div>"
      ],
      "text/plain": [
       "                                                    0        \\\n",
       "PlayPodcastIntent                        continue the forum   \n",
       "PodcastOnlyIntent                                 the forum   \n",
       "PlayRadioIntent                     play b. b. c. radio one   \n",
       "RadioOnlyIntent                          b. b. c. radio one   \n",
       "WhatsPlayingIntent                        who is this d. j.   \n",
       "WhatsPlayingTitleAndSynopsisIntent       what this is about   \n",
       "WhatStationIsPlayingIntent             what is this station   \n",
       "\n",
       "                                                                 1        \\\n",
       "PlayPodcastIntent                   continue the forum bbc world service   \n",
       "PodcastOnlyIntent                            the forum bbc world service   \n",
       "PlayRadioIntent                                           play radio one   \n",
       "RadioOnlyIntent                                                radio one   \n",
       "WhatsPlayingIntent                              tell me who the d. j. is   \n",
       "WhatsPlayingTitleAndSynopsisIntent          what this programme is about   \n",
       "WhatStationIsPlayingIntent                          what channel is this   \n",
       "\n",
       "                                                                 2        \\\n",
       "PlayPodcastIntent                   continue bbc world service the forum   \n",
       "PodcastOnlyIntent                            bbc world service the forum   \n",
       "PlayRadioIntent                                       play bbc radio one   \n",
       "RadioOnlyIntent                                            bbc radio one   \n",
       "WhatsPlayingIntent                                      what's this song   \n",
       "WhatsPlayingTitleAndSynopsisIntent          what is this programme about   \n",
       "WhatStationIsPlayingIntent                                  what channel   \n",
       "\n",
       "                                                                      3        \\\n",
       "PlayPodcastIntent                   continue the forum from bbc world service   \n",
       "PodcastOnlyIntent                            the forum from bbc world service   \n",
       "PlayRadioIntent                                 play b. b. c. radio one extra   \n",
       "RadioOnlyIntent                                      b. b. c. radio one extra   \n",
       "WhatsPlayingIntent                                          what song is this   \n",
       "WhatsPlayingTitleAndSynopsisIntent                                       None   \n",
       "WhatStationIsPlayingIntent                     what station I am listening to   \n",
       "\n",
       "                                                                    4        \\\n",
       "PlayPodcastIntent                   continue the forum on bbc world service   \n",
       "PodcastOnlyIntent                            the forum on bbc world service   \n",
       "PlayRadioIntent                                    play bbc radio one extra   \n",
       "RadioOnlyIntent                                         bbc radio one extra   \n",
       "WhatsPlayingIntent                                        what tune is this   \n",
       "WhatsPlayingTitleAndSynopsisIntent                                     None   \n",
       "WhatStationIsPlayingIntent                             what station this is   \n",
       "\n",
       "                                                         5        \\\n",
       "PlayPodcastIntent                   continue bbc world the forum   \n",
       "PodcastOnlyIntent                            bbc world the forum   \n",
       "PlayRadioIntent                                   play one extra   \n",
       "RadioOnlyIntent                                        one extra   \n",
       "WhatsPlayingIntent                          what song is playing   \n",
       "WhatsPlayingTitleAndSynopsisIntent                          None   \n",
       "WhatStationIsPlayingIntent                          what station   \n",
       "\n",
       "                                                                      6        \\\n",
       "PlayPodcastIntent                   continue the forum b. b. c. world service   \n",
       "PodcastOnlyIntent                            the forum b. b. c. world service   \n",
       "PlayRadioIntent                                          play radio one extra   \n",
       "RadioOnlyIntent                                               radio one extra   \n",
       "WhatsPlayingIntent                             what song is playing right now   \n",
       "WhatsPlayingTitleAndSynopsisIntent                                       None   \n",
       "WhatStationIsPlayingIntent               what radio station I am listening to   \n",
       "\n",
       "                                                                      7        \\\n",
       "PlayPodcastIntent                   continue b. b. c. world service the forum   \n",
       "PodcastOnlyIntent                            b. b. c. world service the forum   \n",
       "PlayRadioIntent                                                 play one xtra   \n",
       "RadioOnlyIntent                                                      one xtra   \n",
       "WhatsPlayingIntent                                          what this song is   \n",
       "WhatsPlayingTitleAndSynopsisIntent                                       None   \n",
       "WhatStationIsPlayingIntent                         what radio station this is   \n",
       "\n",
       "                                                                           8        \\\n",
       "PlayPodcastIntent                   continue the forum from b. b. c. world service   \n",
       "PodcastOnlyIntent                            the forum from b. b. c. world service   \n",
       "PlayRadioIntent                                                play radio one xtra   \n",
       "RadioOnlyIntent                                                     radio one xtra   \n",
       "WhatsPlayingIntent                                          what the song title is   \n",
       "WhatsPlayingTitleAndSynopsisIntent                                            None   \n",
       "WhatStationIsPlayingIntent                                      what radio station   \n",
       "\n",
       "                                                                         9        \\\n",
       "PlayPodcastIntent                   continue the forum on b. b. c. world service   \n",
       "PodcastOnlyIntent                            the forum on b. b. c. world service   \n",
       "PlayRadioIntent                                          play bbc radio one xtra   \n",
       "RadioOnlyIntent                                               bbc radio one xtra   \n",
       "WhatsPlayingIntent                                                   who this is   \n",
       "WhatsPlayingTitleAndSynopsisIntent                                          None   \n",
       "WhatStationIsPlayingIntent                                                  None   \n",
       "\n",
       "                                    ...  \\\n",
       "PlayPodcastIntent                   ...   \n",
       "PodcastOnlyIntent                   ...   \n",
       "PlayRadioIntent                     ...   \n",
       "RadioOnlyIntent                     ...   \n",
       "WhatsPlayingIntent                  ...   \n",
       "WhatsPlayingTitleAndSynopsisIntent  ...   \n",
       "WhatStationIsPlayingIntent          ...   \n",
       "\n",
       "                                                                              1959810  \\\n",
       "PlayPodcastIntent                   activate podcast the reith lectures archive ni...   \n",
       "PodcastOnlyIntent                                                                None   \n",
       "PlayRadioIntent                                                                  None   \n",
       "RadioOnlyIntent                                                                  None   \n",
       "WhatsPlayingIntent                                                               None   \n",
       "WhatsPlayingTitleAndSynopsisIntent                                               None   \n",
       "WhatStationIsPlayingIntent                                                       None   \n",
       "\n",
       "                                                                              1959811  \\\n",
       "PlayPodcastIntent                   activate podcast the reith lectures archive ni...   \n",
       "PodcastOnlyIntent                                                                None   \n",
       "PlayRadioIntent                                                                  None   \n",
       "RadioOnlyIntent                                                                  None   \n",
       "WhatsPlayingIntent                                                               None   \n",
       "WhatsPlayingTitleAndSynopsisIntent                                               None   \n",
       "WhatStationIsPlayingIntent                                                       None   \n",
       "\n",
       "                                                                              1959812  \\\n",
       "PlayPodcastIntent                   activate podcast bbc radio four the reith lect...   \n",
       "PodcastOnlyIntent                                                                None   \n",
       "PlayRadioIntent                                                                  None   \n",
       "RadioOnlyIntent                                                                  None   \n",
       "WhatsPlayingIntent                                                               None   \n",
       "WhatsPlayingTitleAndSynopsisIntent                                               None   \n",
       "WhatStationIsPlayingIntent                                                       None   \n",
       "\n",
       "                                                                              1959813  \\\n",
       "PlayPodcastIntent                   activate podcast the reith lectures archive ni...   \n",
       "PodcastOnlyIntent                                                                None   \n",
       "PlayRadioIntent                                                                  None   \n",
       "RadioOnlyIntent                                                                  None   \n",
       "WhatsPlayingIntent                                                               None   \n",
       "WhatsPlayingTitleAndSynopsisIntent                                               None   \n",
       "WhatStationIsPlayingIntent                                                       None   \n",
       "\n",
       "                                                                              1959814  \\\n",
       "PlayPodcastIntent                   activate podcast b. b. c. radio four the reith...   \n",
       "PodcastOnlyIntent                                                                None   \n",
       "PlayRadioIntent                                                                  None   \n",
       "RadioOnlyIntent                                                                  None   \n",
       "WhatsPlayingIntent                                                               None   \n",
       "WhatsPlayingTitleAndSynopsisIntent                                               None   \n",
       "WhatStationIsPlayingIntent                                                       None   \n",
       "\n",
       "                                                                              1959815  \\\n",
       "PlayPodcastIntent                   activate podcast letter from america by alista...   \n",
       "PodcastOnlyIntent                                                                None   \n",
       "PlayRadioIntent                                                                  None   \n",
       "RadioOnlyIntent                                                                  None   \n",
       "WhatsPlayingIntent                                                               None   \n",
       "WhatsPlayingTitleAndSynopsisIntent                                               None   \n",
       "WhatStationIsPlayingIntent                                                       None   \n",
       "\n",
       "                                                                              1959816  \\\n",
       "PlayPodcastIntent                   activate podcast letter from america by alista...   \n",
       "PodcastOnlyIntent                                                                None   \n",
       "PlayRadioIntent                                                                  None   \n",
       "RadioOnlyIntent                                                                  None   \n",
       "WhatsPlayingIntent                                                               None   \n",
       "WhatsPlayingTitleAndSynopsisIntent                                               None   \n",
       "WhatStationIsPlayingIntent                                                       None   \n",
       "\n",
       "                                                                              1959817  \\\n",
       "PlayPodcastIntent                   activate podcast bbc radio four letter from am...   \n",
       "PodcastOnlyIntent                                                                None   \n",
       "PlayRadioIntent                                                                  None   \n",
       "RadioOnlyIntent                                                                  None   \n",
       "WhatsPlayingIntent                                                               None   \n",
       "WhatsPlayingTitleAndSynopsisIntent                                               None   \n",
       "WhatStationIsPlayingIntent                                                       None   \n",
       "\n",
       "                                                                              1959818  \\\n",
       "PlayPodcastIntent                   activate podcast letter from america by alista...   \n",
       "PodcastOnlyIntent                                                                None   \n",
       "PlayRadioIntent                                                                  None   \n",
       "RadioOnlyIntent                                                                  None   \n",
       "WhatsPlayingIntent                                                               None   \n",
       "WhatsPlayingTitleAndSynopsisIntent                                               None   \n",
       "WhatStationIsPlayingIntent                                                       None   \n",
       "\n",
       "                                                                              1959819  \n",
       "PlayPodcastIntent                   activate podcast b. b. c. radio four letter fr...  \n",
       "PodcastOnlyIntent                                                                None  \n",
       "PlayRadioIntent                                                                  None  \n",
       "RadioOnlyIntent                                                                  None  \n",
       "WhatsPlayingIntent                                                               None  \n",
       "WhatsPlayingTitleAndSynopsisIntent                                               None  \n",
       "WhatStationIsPlayingIntent                                                       None  \n",
       "\n",
       "[7 rows x 1959820 columns]"
      ]
     },
     "execution_count": 7,
     "metadata": {},
     "output_type": "execute_result"
    }
   ],
   "source": [
    "data"
   ]
  },
  {
   "cell_type": "markdown",
   "metadata": {},
   "source": [
    "Checking how I would access data since I am not used to working with data oriented this way in a DataFrame. I am still unconvinced of the benefits of using a DataFrame over working directly with the dictionary."
   ]
  },
  {
   "cell_type": "code",
   "execution_count": 8,
   "metadata": {},
   "outputs": [
    {
     "data": {
      "text/plain": [
       "'continue darryl morris b. b. c. radio manchester'"
      ]
     },
     "execution_count": 8,
     "metadata": {},
     "output_type": "execute_result"
    }
   ],
   "source": [
    "data.at['PlayPodcastIntent', 6374]"
   ]
  },
  {
   "cell_type": "code",
   "execution_count": 9,
   "metadata": {},
   "outputs": [
    {
     "data": {
      "text/plain": [
       "'continue darryl morris b. b. c. radio manchester'"
      ]
     },
     "execution_count": 9,
     "metadata": {},
     "output_type": "execute_result"
    }
   ],
   "source": [
    "# comparing with getting the same data directly from the dictionary.\n",
    "training_data_json['PlayPodcastIntent'][6374]"
   ]
  },
  {
   "cell_type": "code",
   "execution_count": 10,
   "metadata": {},
   "outputs": [
    {
     "data": {
      "text/plain": [
       "0                    what is this station\n",
       "1                    what channel is this\n",
       "2                            what channel\n",
       "3          what station I am listening to\n",
       "4                    what station this is\n",
       "5                            what station\n",
       "6    what radio station I am listening to\n",
       "7              what radio station this is\n",
       "8                      what radio station\n",
       "9                                    None\n",
       "Name: WhatStationIsPlayingIntent, dtype: object"
      ]
     },
     "execution_count": 10,
     "metadata": {},
     "output_type": "execute_result"
    }
   ],
   "source": [
    "data.loc['WhatStationIsPlayingIntent'][:10]"
   ]
  },
  {
   "cell_type": "code",
   "execution_count": 11,
   "metadata": {},
   "outputs": [
    {
     "data": {
      "text/plain": [
       "0                                continue the forum\n",
       "1              continue the forum bbc world service\n",
       "2              continue bbc world service the forum\n",
       "3         continue the forum from bbc world service\n",
       "4           continue the forum on bbc world service\n",
       "5                      continue bbc world the forum\n",
       "6         continue the forum b. b. c. world service\n",
       "7         continue b. b. c. world service the forum\n",
       "8    continue the forum from b. b. c. world service\n",
       "9      continue the forum on b. b. c. world service\n",
       "Name: PlayPodcastIntent, dtype: object"
      ]
     },
     "execution_count": 11,
     "metadata": {},
     "output_type": "execute_result"
    }
   ],
   "source": [
    "data.loc['PlayPodcastIntent'][:10]"
   ]
  },
  {
   "cell_type": "markdown",
   "metadata": {},
   "source": [
    "Even though the text from amazon would not contain punctuation such as parenthesis, I have noticed that some entities contain them. I suspect that this is a mistake by whoever entered this data to be read into the interaction model. Full stops, however, are usually returned by the speech to text service especially when the user said an initialism like \"BBC\".\n",
    "\n",
    "All the text is already lowercase."
   ]
  },
  {
   "cell_type": "code",
   "execution_count": 12,
   "metadata": {},
   "outputs": [
    {
     "data": {
      "text/plain": [
       "'activate podcast b. b. c. radio four letter from america by alistair cooke the early years (1940s 1950s and 1960s)'"
      ]
     },
     "execution_count": 12,
     "metadata": {},
     "output_type": "execute_result"
    }
   ],
   "source": [
    "data.at['PlayPodcastIntent', 1959819]"
   ]
  },
  {
   "cell_type": "code",
   "execution_count": 13,
   "metadata": {},
   "outputs": [
    {
     "data": {
      "text/plain": [
       "'activate podcast letter from america by alistair cooke the early years (1940s 1950s and 1960s) b. b. c. radio four'"
      ]
     },
     "execution_count": 13,
     "metadata": {},
     "output_type": "execute_result"
    }
   ],
   "source": [
    "data.at['PlayPodcastIntent', 1959818]"
   ]
  },
  {
   "cell_type": "code",
   "execution_count": 14,
   "metadata": {},
   "outputs": [],
   "source": [
    "sentenceWithPunc=data.at['PlayPodcastIntent', 1959817]"
   ]
  },
  {
   "cell_type": "markdown",
   "metadata": {},
   "source": [
    "Checking the shape of the data. There are 7 classes and each is 1959820 items long, but I am aware that most of these are 'None'. This isn't very useful."
   ]
  },
  {
   "cell_type": "code",
   "execution_count": 15,
   "metadata": {},
   "outputs": [
    {
     "data": {
      "text/plain": [
       "(7, 1959820)"
      ]
     },
     "execution_count": 15,
     "metadata": {},
     "output_type": "execute_result"
    }
   ],
   "source": [
    "data.shape"
   ]
  },
  {
   "cell_type": "markdown",
   "metadata": {},
   "source": [
    "## Removing Stop Words\n",
    "[Stop words](https://en.wikipedia.org/wiki/Stop_words) are commonly used word that do not generally help with deriving meaning during natural language processing (NLP). I am deciding to remove them here (at least initially), but I wonder if in this case, since each utterance is so short, whether it would be best to keep them in."
   ]
  },
  {
   "cell_type": "code",
   "execution_count": 16,
   "metadata": {},
   "outputs": [
    {
     "name": "stderr",
     "output_type": "stream",
     "text": [
      "[nltk_data] Downloading package stopwords to\n",
      "[nltk_data]     /Users/leives01/nltk_data...\n",
      "[nltk_data]   Package stopwords is already up-to-date!\n"
     ]
    },
    {
     "data": {
      "text/plain": [
       "True"
      ]
     },
     "execution_count": 16,
     "metadata": {},
     "output_type": "execute_result"
    }
   ],
   "source": [
    "import nltk\n",
    "nltk.download('stopwords')"
   ]
  },
  {
   "cell_type": "code",
   "execution_count": 17,
   "metadata": {},
   "outputs": [],
   "source": [
    "from string import punctuation\n",
    "from nltk.corpus import stopwords"
   ]
  },
  {
   "cell_type": "code",
   "execution_count": 18,
   "metadata": {},
   "outputs": [],
   "source": [
    "stopwords=set(stopwords.words('english')+list(punctuation))"
   ]
  },
  {
   "cell_type": "markdown",
   "metadata": {},
   "source": [
    "I see if I can tokenize the words (break each string up into a list of words) so that I can then remove the stopwords. I had trouble getting the NLTK `word_tokenize` method to work. I finally, after a lot of internet searching, found I had to download 'punkt'. "
   ]
  },
  {
   "cell_type": "code",
   "execution_count": 19,
   "metadata": {},
   "outputs": [
    {
     "name": "stderr",
     "output_type": "stream",
     "text": [
      "[nltk_data] Downloading package punkt to /Users/leives01/nltk_data...\n",
      "[nltk_data]   Unzipping tokenizers/punkt.zip.\n"
     ]
    },
    {
     "data": {
      "text/plain": [
       "True"
      ]
     },
     "execution_count": 19,
     "metadata": {},
     "output_type": "execute_result"
    }
   ],
   "source": [
    "from nltk.tokenize import word_tokenize\n",
    "nltk.download('punkt')"
   ]
  },
  {
   "cell_type": "code",
   "execution_count": 20,
   "metadata": {},
   "outputs": [
    {
     "data": {
      "text/plain": [
       "['Try', 'this', 'sentence', 'here', '.']"
      ]
     },
     "execution_count": 20,
     "metadata": {},
     "output_type": "execute_result"
    }
   ],
   "source": [
    "word_tokenize('Try this sentence here.')"
   ]
  },
  {
   "cell_type": "code",
   "execution_count": 21,
   "metadata": {},
   "outputs": [
    {
     "data": {
      "text/plain": [
       "['activate',\n",
       " 'podcast',\n",
       " 'bbc',\n",
       " 'radio',\n",
       " 'four',\n",
       " 'letter',\n",
       " 'america',\n",
       " 'alistair',\n",
       " 'cooke',\n",
       " 'early',\n",
       " 'years',\n",
       " '1940s',\n",
       " '1950s',\n",
       " '1960s']"
      ]
     },
     "execution_count": 21,
     "metadata": {},
     "output_type": "execute_result"
    }
   ],
   "source": [
    "[word for word in word_tokenize(sentenceWithPunc) if word not in stopwords]"
   ]
  },
  {
   "cell_type": "markdown",
   "metadata": {},
   "source": [
    "## Bag of Words and TF-IDF\n",
    "\n",
    "### What is Bag of Words?\n",
    "A [Bag of Words](https://machinelearningmastery.com/gentle-introduction-bag-words-model/) model is a way of representing text data when modeling text with machine learning algorithms. It is a representation of text that describes the occurrence of words within a document. It involves two things:\n",
    "1. A vocabulary of known words.\n",
    "1. A measure of the presence of known words.\n",
    "It is called a “bag” of words, because any information about the order or structure of words in the document is discarded. The model is only concerned with whether known words occur in the document, not where in the document. Here I am going to use TF-IDF as the measure of presence of known words.\n",
    "\n",
    "### What is TF-IDF?\n",
    "[term frequency–inverse document frequency](https://en.wikipedia.org/wiki/Tf%E2%80%93idf) \n",
    "\n",
    "... is a numerical statistic that is intended to reflect how important a word is to a document in a collection or corpus.[1] It is often used as a weighting factor in searches of information retrieval, text mining, and user modeling. The tf–idf value increases proportionally to the number of times a word appears in the document and is offset by the number of documents in the corpus that contain the word, which helps to adjust for the fact that some words appear more frequently in general. tf–idf is one of the most popular term-weighting schemes today; 83% of text-based recommender systems in digital libraries use tf–idf.\n",
    "\n",
    "* Term Frequency: is a scoring of the frequency of the word in the current document.\n",
    "* Inverse Document Frequency: is a scoring of how rare the word is across documents."
   ]
  },
  {
   "cell_type": "code",
   "execution_count": 22,
   "metadata": {},
   "outputs": [],
   "source": [
    "import sklearn\n",
    "from sklearn.feature_extraction.text import TfidfVectorizer"
   ]
  },
  {
   "cell_type": "markdown",
   "metadata": {},
   "source": [
    "The `TfidfVectorizer` creates the Bag of Words 'vocabulary bag' and perfoms the TF-IDF vectorization together in one step."
   ]
  },
  {
   "cell_type": "code",
   "execution_count": 23,
   "metadata": {},
   "outputs": [],
   "source": [
    "vectorizer1=TfidfVectorizer(max_df=0.5,min_df=2,stop_words=stopwords)"
   ]
  },
  {
   "cell_type": "code",
   "execution_count": 24,
   "metadata": {},
   "outputs": [],
   "source": [
    "# using the sklearn built in stop_words for english rather than my own for comparison. \n",
    "vectorizer2=TfidfVectorizer(max_df=0.5,min_df=2,stop_words='english')"
   ]
  },
  {
   "cell_type": "code",
   "execution_count": 25,
   "metadata": {},
   "outputs": [],
   "source": [
    "X1 = vectorizer1.fit_transform(training_data_json['PlayRadioIntent'])"
   ]
  },
  {
   "cell_type": "code",
   "execution_count": 26,
   "metadata": {},
   "outputs": [],
   "source": [
    "X2 = vectorizer2.fit_transform(training_data_json['PlayRadioIntent'])"
   ]
  },
  {
   "cell_type": "markdown",
   "metadata": {},
   "source": [
    "From what is printed out below, the built in `stop_words='english'` seems to have removed more words. This has also affected the weightings. "
   ]
  },
  {
   "cell_type": "code",
   "execution_count": 27,
   "metadata": {},
   "outputs": [
    {
     "data": {
      "text/plain": [
       "<16761x98 sparse matrix of type '<class 'numpy.float64'>'\n",
       "\twith 54550 stored elements in Compressed Sparse Row format>"
      ]
     },
     "execution_count": 27,
     "metadata": {},
     "output_type": "execute_result"
    }
   ],
   "source": [
    "X1"
   ]
  },
  {
   "cell_type": "code",
   "execution_count": 28,
   "metadata": {},
   "outputs": [
    {
     "data": {
      "text/plain": [
       "<16761x89 sparse matrix of type '<class 'numpy.float64'>'\n",
       "\twith 42299 stored elements in Compressed Sparse Row format>"
      ]
     },
     "execution_count": 28,
     "metadata": {},
     "output_type": "execute_result"
    }
   ],
   "source": [
    "X2"
   ]
  },
  {
   "cell_type": "code",
   "execution_count": 29,
   "metadata": {},
   "outputs": [
    {
     "name": "stdout",
     "output_type": "stream",
     "text": [
      "  (0, 48)\t0.6802645092751256\n",
      "  (0, 25)\t0.5636176454553009\n",
      "  (0, 3)\t0.29976642843186957\n",
      "  (0, 65)\t0.3601602914499266\n"
     ]
    }
   ],
   "source": [
    "print(X1[30])"
   ]
  },
  {
   "cell_type": "code",
   "execution_count": 30,
   "metadata": {},
   "outputs": [
    {
     "name": "stdout",
     "output_type": "stream",
     "text": [
      "  (0, 44)\t0.8235290841639401\n",
      "  (0, 3)\t0.36289762129829173\n",
      "  (0, 60)\t0.43601050903865124\n"
     ]
    }
   ],
   "source": [
    "print(X2[30])"
   ]
  },
  {
   "cell_type": "markdown",
   "metadata": {},
   "source": [
    "## Working with the CSV file Instead\n",
    "\n",
    "I have decided that it would be better if my DataFrame was not so sparce because I have concluded that there is no benefit of using the DataFrame over a native Python dictionary. Therefore, a DataFrame built from a CSV file would be better because it would not be sparce and could be oriented the 'normal' way. I have made another JS script to convert the JSON training data into a CSV document. "
   ]
  },
  {
   "cell_type": "markdown",
   "metadata": {},
   "source": [
    "For completeness, I import things again where I feel it will help me understand where I am at and what is going on. "
   ]
  },
  {
   "cell_type": "code",
   "execution_count": 31,
   "metadata": {},
   "outputs": [],
   "source": [
    "import pandas as pd"
   ]
  },
  {
   "cell_type": "code",
   "execution_count": 32,
   "metadata": {},
   "outputs": [],
   "source": [
    "intents_df = pd.read_csv('./data/training-data.csv')"
   ]
  },
  {
   "cell_type": "markdown",
   "metadata": {},
   "source": [
    "This looks so much better to work with 😅"
   ]
  },
  {
   "cell_type": "code",
   "execution_count": 33,
   "metadata": {},
   "outputs": [
    {
     "data": {
      "text/html": [
       "<div>\n",
       "<style scoped>\n",
       "    .dataframe tbody tr th:only-of-type {\n",
       "        vertical-align: middle;\n",
       "    }\n",
       "\n",
       "    .dataframe tbody tr th {\n",
       "        vertical-align: top;\n",
       "    }\n",
       "\n",
       "    .dataframe thead th {\n",
       "        text-align: right;\n",
       "    }\n",
       "</style>\n",
       "<table border=\"1\" class=\"dataframe\">\n",
       "  <thead>\n",
       "    <tr style=\"text-align: right;\">\n",
       "      <th></th>\n",
       "      <th>Intent</th>\n",
       "      <th>Utterance</th>\n",
       "    </tr>\n",
       "  </thead>\n",
       "  <tbody>\n",
       "    <tr>\n",
       "      <td>1995041</td>\n",
       "      <td>WhatsPlayingTitleAndSynopsisIntent</td>\n",
       "      <td>what this is about</td>\n",
       "    </tr>\n",
       "    <tr>\n",
       "      <td>1995042</td>\n",
       "      <td>WhatsPlayingTitleAndSynopsisIntent</td>\n",
       "      <td>what this programme is about</td>\n",
       "    </tr>\n",
       "    <tr>\n",
       "      <td>1995043</td>\n",
       "      <td>WhatsPlayingTitleAndSynopsisIntent</td>\n",
       "      <td>what is this programme about</td>\n",
       "    </tr>\n",
       "    <tr>\n",
       "      <td>1995044</td>\n",
       "      <td>WhatStationIsPlayingIntent</td>\n",
       "      <td>what is this station</td>\n",
       "    </tr>\n",
       "    <tr>\n",
       "      <td>1995045</td>\n",
       "      <td>WhatStationIsPlayingIntent</td>\n",
       "      <td>what channel is this</td>\n",
       "    </tr>\n",
       "    <tr>\n",
       "      <td>1995046</td>\n",
       "      <td>WhatStationIsPlayingIntent</td>\n",
       "      <td>what channel</td>\n",
       "    </tr>\n",
       "    <tr>\n",
       "      <td>1995047</td>\n",
       "      <td>WhatStationIsPlayingIntent</td>\n",
       "      <td>what station I am listening to</td>\n",
       "    </tr>\n",
       "    <tr>\n",
       "      <td>1995048</td>\n",
       "      <td>WhatStationIsPlayingIntent</td>\n",
       "      <td>what station this is</td>\n",
       "    </tr>\n",
       "    <tr>\n",
       "      <td>1995049</td>\n",
       "      <td>WhatStationIsPlayingIntent</td>\n",
       "      <td>what station</td>\n",
       "    </tr>\n",
       "    <tr>\n",
       "      <td>1995050</td>\n",
       "      <td>WhatStationIsPlayingIntent</td>\n",
       "      <td>what radio station I am listening to</td>\n",
       "    </tr>\n",
       "    <tr>\n",
       "      <td>1995051</td>\n",
       "      <td>WhatStationIsPlayingIntent</td>\n",
       "      <td>what radio station this is</td>\n",
       "    </tr>\n",
       "    <tr>\n",
       "      <td>1995052</td>\n",
       "      <td>WhatStationIsPlayingIntent</td>\n",
       "      <td>what radio station</td>\n",
       "    </tr>\n",
       "  </tbody>\n",
       "</table>\n",
       "</div>"
      ],
      "text/plain": [
       "                                     Intent  \\\n",
       "1995041  WhatsPlayingTitleAndSynopsisIntent   \n",
       "1995042  WhatsPlayingTitleAndSynopsisIntent   \n",
       "1995043  WhatsPlayingTitleAndSynopsisIntent   \n",
       "1995044          WhatStationIsPlayingIntent   \n",
       "1995045          WhatStationIsPlayingIntent   \n",
       "1995046          WhatStationIsPlayingIntent   \n",
       "1995047          WhatStationIsPlayingIntent   \n",
       "1995048          WhatStationIsPlayingIntent   \n",
       "1995049          WhatStationIsPlayingIntent   \n",
       "1995050          WhatStationIsPlayingIntent   \n",
       "1995051          WhatStationIsPlayingIntent   \n",
       "1995052          WhatStationIsPlayingIntent   \n",
       "\n",
       "                                    Utterance  \n",
       "1995041                    what this is about  \n",
       "1995042          what this programme is about  \n",
       "1995043          what is this programme about  \n",
       "1995044                  what is this station  \n",
       "1995045                  what channel is this  \n",
       "1995046                          what channel  \n",
       "1995047        what station I am listening to  \n",
       "1995048                  what station this is  \n",
       "1995049                          what station  \n",
       "1995050  what radio station I am listening to  \n",
       "1995051            what radio station this is  \n",
       "1995052                    what radio station  "
      ]
     },
     "execution_count": 33,
     "metadata": {},
     "output_type": "execute_result"
    }
   ],
   "source": [
    "intents_df.tail(12)"
   ]
  },
  {
   "cell_type": "code",
   "execution_count": 34,
   "metadata": {},
   "outputs": [
    {
     "data": {
      "text/plain": [
       "(1995053, 2)"
      ]
     },
     "execution_count": 34,
     "metadata": {},
     "output_type": "execute_result"
    }
   ],
   "source": [
    "intents_df.shape"
   ]
  },
  {
   "cell_type": "markdown",
   "metadata": {},
   "source": [
    "## Splitting out 20% for testing later\n",
    "It is standard practice to split out a bit of the training data to test the model later. This is done with the sklearn `train_test_split`."
   ]
  },
  {
   "cell_type": "code",
   "execution_count": 35,
   "metadata": {},
   "outputs": [],
   "source": [
    "from sklearn.model_selection import train_test_split"
   ]
  },
  {
   "cell_type": "code",
   "execution_count": 36,
   "metadata": {},
   "outputs": [],
   "source": [
    "X = intents_df['Utterance'] # data to train from"
   ]
  },
  {
   "cell_type": "code",
   "execution_count": 37,
   "metadata": {},
   "outputs": [],
   "source": [
    "Y = intents_df['Intent'] # answers"
   ]
  },
  {
   "cell_type": "markdown",
   "metadata": {},
   "source": [
    "`train_test_split` shuffles the data for you."
   ]
  },
  {
   "cell_type": "code",
   "execution_count": 38,
   "metadata": {},
   "outputs": [],
   "source": [
    "x_train, x_test, y_train, y_test = train_test_split(X, Y, test_size=0.2) # 20% of data held for testing"
   ]
  },
  {
   "cell_type": "code",
   "execution_count": 39,
   "metadata": {},
   "outputs": [
    {
     "data": {
      "text/plain": [
       "((1596042,), (1596042,))"
      ]
     },
     "execution_count": 39,
     "metadata": {},
     "output_type": "execute_result"
    }
   ],
   "source": [
    "x_train.shape, y_train.shape"
   ]
  },
  {
   "cell_type": "code",
   "execution_count": 40,
   "metadata": {},
   "outputs": [
    {
     "data": {
      "text/plain": [
       "((399011,), (399011,))"
      ]
     },
     "execution_count": 40,
     "metadata": {},
     "output_type": "execute_result"
    }
   ],
   "source": [
    "x_test.shape, y_test.shape"
   ]
  },
  {
   "cell_type": "markdown",
   "metadata": {},
   "source": [
    "Resources: [Text Classification](https://www.youtube.com/watch?v=5xDE06RRMFk), [Parameter Tuning](https://www.youtube.com/watch?v=CArkneSPNr4)"
   ]
  },
  {
   "cell_type": "markdown",
   "metadata": {},
   "source": [
    "## Initial Attempt at Text Classification"
   ]
  },
  {
   "cell_type": "markdown",
   "metadata": {},
   "source": [
    "To have all this in one place, helping me mentally as I experiment, I re-made `stopwords`."
   ]
  },
  {
   "cell_type": "code",
   "execution_count": 41,
   "metadata": {},
   "outputs": [
    {
     "name": "stderr",
     "output_type": "stream",
     "text": [
      "[nltk_data] Downloading package stopwords to\n",
      "[nltk_data]     /Users/leives01/nltk_data...\n",
      "[nltk_data]   Package stopwords is already up-to-date!\n"
     ]
    }
   ],
   "source": [
    "import nltk\n",
    "nltk.download('stopwords')\n",
    "\n",
    "from string import punctuation\n",
    "from nltk.corpus import stopwords\n",
    "\n",
    "stopwords=set(stopwords.words('english')+list(punctuation))"
   ]
  },
  {
   "cell_type": "code",
   "execution_count": 42,
   "metadata": {},
   "outputs": [],
   "source": [
    "from nltk.tokenize import word_tokenize"
   ]
  },
  {
   "cell_type": "markdown",
   "metadata": {},
   "source": [
    "Making a new class in my pandas dataframe of tokenized utterances that had their stop words removed. All the text is already in lowercase with minimal punctuation. I therefore do not need to do much cleaning of the data."
   ]
  },
  {
   "cell_type": "code",
   "execution_count": 43,
   "metadata": {},
   "outputs": [],
   "source": [
    "intents_df['processed_utterance'] = intents_df['Utterance'].apply(lambda x: ' '.join([word for word in word_tokenize(x) if word not in stopwords]))\n"
   ]
  },
  {
   "cell_type": "code",
   "execution_count": 44,
   "metadata": {},
   "outputs": [
    {
     "data": {
      "text/html": [
       "<div>\n",
       "<style scoped>\n",
       "    .dataframe tbody tr th:only-of-type {\n",
       "        vertical-align: middle;\n",
       "    }\n",
       "\n",
       "    .dataframe tbody tr th {\n",
       "        vertical-align: top;\n",
       "    }\n",
       "\n",
       "    .dataframe thead th {\n",
       "        text-align: right;\n",
       "    }\n",
       "</style>\n",
       "<table border=\"1\" class=\"dataframe\">\n",
       "  <thead>\n",
       "    <tr style=\"text-align: right;\">\n",
       "      <th></th>\n",
       "      <th>Intent</th>\n",
       "      <th>Utterance</th>\n",
       "      <th>processed_utterance</th>\n",
       "    </tr>\n",
       "  </thead>\n",
       "  <tbody>\n",
       "    <tr>\n",
       "      <td>0</td>\n",
       "      <td>PlayPodcastIntent</td>\n",
       "      <td>continue the forum</td>\n",
       "      <td>continue forum</td>\n",
       "    </tr>\n",
       "    <tr>\n",
       "      <td>1</td>\n",
       "      <td>PlayPodcastIntent</td>\n",
       "      <td>continue the forum bbc world service</td>\n",
       "      <td>continue forum bbc world service</td>\n",
       "    </tr>\n",
       "    <tr>\n",
       "      <td>2</td>\n",
       "      <td>PlayPodcastIntent</td>\n",
       "      <td>continue bbc world service the forum</td>\n",
       "      <td>continue bbc world service forum</td>\n",
       "    </tr>\n",
       "    <tr>\n",
       "      <td>3</td>\n",
       "      <td>PlayPodcastIntent</td>\n",
       "      <td>continue the forum from bbc world service</td>\n",
       "      <td>continue forum bbc world service</td>\n",
       "    </tr>\n",
       "    <tr>\n",
       "      <td>4</td>\n",
       "      <td>PlayPodcastIntent</td>\n",
       "      <td>continue the forum on bbc world service</td>\n",
       "      <td>continue forum bbc world service</td>\n",
       "    </tr>\n",
       "  </tbody>\n",
       "</table>\n",
       "</div>"
      ],
      "text/plain": [
       "              Intent                                  Utterance  \\\n",
       "0  PlayPodcastIntent                         continue the forum   \n",
       "1  PlayPodcastIntent       continue the forum bbc world service   \n",
       "2  PlayPodcastIntent       continue bbc world service the forum   \n",
       "3  PlayPodcastIntent  continue the forum from bbc world service   \n",
       "4  PlayPodcastIntent    continue the forum on bbc world service   \n",
       "\n",
       "                processed_utterance  \n",
       "0                    continue forum  \n",
       "1  continue forum bbc world service  \n",
       "2  continue bbc world service forum  \n",
       "3  continue forum bbc world service  \n",
       "4  continue forum bbc world service  "
      ]
     },
     "execution_count": 44,
     "metadata": {},
     "output_type": "execute_result"
    }
   ],
   "source": [
    "intents_df.head()"
   ]
  },
  {
   "cell_type": "code",
   "execution_count": 45,
   "metadata": {},
   "outputs": [
    {
     "data": {
      "text/html": [
       "<div>\n",
       "<style scoped>\n",
       "    .dataframe tbody tr th:only-of-type {\n",
       "        vertical-align: middle;\n",
       "    }\n",
       "\n",
       "    .dataframe tbody tr th {\n",
       "        vertical-align: top;\n",
       "    }\n",
       "\n",
       "    .dataframe thead th {\n",
       "        text-align: right;\n",
       "    }\n",
       "</style>\n",
       "<table border=\"1\" class=\"dataframe\">\n",
       "  <thead>\n",
       "    <tr style=\"text-align: right;\">\n",
       "      <th></th>\n",
       "      <th>Intent</th>\n",
       "      <th>Utterance</th>\n",
       "      <th>processed_utterance</th>\n",
       "    </tr>\n",
       "  </thead>\n",
       "  <tbody>\n",
       "    <tr>\n",
       "      <td>1995048</td>\n",
       "      <td>WhatStationIsPlayingIntent</td>\n",
       "      <td>what station this is</td>\n",
       "      <td>station</td>\n",
       "    </tr>\n",
       "    <tr>\n",
       "      <td>1995049</td>\n",
       "      <td>WhatStationIsPlayingIntent</td>\n",
       "      <td>what station</td>\n",
       "      <td>station</td>\n",
       "    </tr>\n",
       "    <tr>\n",
       "      <td>1995050</td>\n",
       "      <td>WhatStationIsPlayingIntent</td>\n",
       "      <td>what radio station I am listening to</td>\n",
       "      <td>radio station I listening</td>\n",
       "    </tr>\n",
       "    <tr>\n",
       "      <td>1995051</td>\n",
       "      <td>WhatStationIsPlayingIntent</td>\n",
       "      <td>what radio station this is</td>\n",
       "      <td>radio station</td>\n",
       "    </tr>\n",
       "    <tr>\n",
       "      <td>1995052</td>\n",
       "      <td>WhatStationIsPlayingIntent</td>\n",
       "      <td>what radio station</td>\n",
       "      <td>radio station</td>\n",
       "    </tr>\n",
       "  </tbody>\n",
       "</table>\n",
       "</div>"
      ],
      "text/plain": [
       "                             Intent                             Utterance  \\\n",
       "1995048  WhatStationIsPlayingIntent                  what station this is   \n",
       "1995049  WhatStationIsPlayingIntent                          what station   \n",
       "1995050  WhatStationIsPlayingIntent  what radio station I am listening to   \n",
       "1995051  WhatStationIsPlayingIntent            what radio station this is   \n",
       "1995052  WhatStationIsPlayingIntent                    what radio station   \n",
       "\n",
       "               processed_utterance  \n",
       "1995048                    station  \n",
       "1995049                    station  \n",
       "1995050  radio station I listening  \n",
       "1995051              radio station  \n",
       "1995052              radio station  "
      ]
     },
     "execution_count": 45,
     "metadata": {},
     "output_type": "execute_result"
    }
   ],
   "source": [
    "intents_df.tail()"
   ]
  },
  {
   "cell_type": "code",
   "execution_count": 46,
   "metadata": {},
   "outputs": [
    {
     "data": {
      "text/plain": [
       "0                           continue the forum\n",
       "1         continue the forum bbc world service\n",
       "2         continue bbc world service the forum\n",
       "3    continue the forum from bbc world service\n",
       "4      continue the forum on bbc world service\n",
       "Name: Utterance, dtype: object"
      ]
     },
     "execution_count": 46,
     "metadata": {},
     "output_type": "execute_result"
    }
   ],
   "source": [
    "intents_df.Utterance.head()"
   ]
  },
  {
   "cell_type": "code",
   "execution_count": 47,
   "metadata": {},
   "outputs": [
    {
     "data": {
      "text/plain": [
       "(1995053, 3)"
      ]
     },
     "execution_count": 47,
     "metadata": {},
     "output_type": "execute_result"
    }
   ],
   "source": [
    "intents_df.shape"
   ]
  },
  {
   "cell_type": "code",
   "execution_count": 48,
   "metadata": {},
   "outputs": [],
   "source": [
    "from sklearn.model_selection import train_test_split"
   ]
  },
  {
   "cell_type": "code",
   "execution_count": 49,
   "metadata": {},
   "outputs": [],
   "source": [
    "X = intents_df['processed_utterance'] # data to train from\n",
    "Y = intents_df['Intent'] # answers"
   ]
  },
  {
   "cell_type": "markdown",
   "metadata": {},
   "source": [
    "Again, I put aside 20% of the data."
   ]
  },
  {
   "cell_type": "code",
   "execution_count": 50,
   "metadata": {},
   "outputs": [],
   "source": [
    "x_train, x_test, y_train, y_test = train_test_split(X, Y, test_size=0.2) # 20% of data held for testing"
   ]
  },
  {
   "cell_type": "code",
   "execution_count": 51,
   "metadata": {},
   "outputs": [],
   "source": [
    "from sklearn.feature_extraction.text import TfidfVectorizer\n",
    "#creates the bag of words matrix and tfidf vectorizer in one method call\n",
    "\n",
    "from sklearn.pipeline import Pipeline\n",
    "from sklearn.feature_selection import SelectKBest, chi2\n",
    "from sklearn.svm import LinearSVC"
   ]
  },
  {
   "cell_type": "markdown",
   "metadata": {},
   "source": [
    "I initially set the maximum number of iterations to 3000 but it didn't converge."
   ]
  },
  {
   "cell_type": "code",
   "execution_count": 52,
   "metadata": {},
   "outputs": [],
   "source": [
    "pipeline = Pipeline([('vect', TfidfVectorizer(ngram_range=(1,2), sublinear_tf=True)),\n",
    "                     ('chi', SelectKBest(chi2, k=10000)),\n",
    "                     ('clf', LinearSVC(C=1.0, penalty='l1', max_iter=10000, dual=False))])"
   ]
  },
  {
   "cell_type": "code",
   "execution_count": 53,
   "metadata": {},
   "outputs": [
    {
     "name": "stderr",
     "output_type": "stream",
     "text": [
      "/anaconda3/envs/dissertation/lib/python3.7/site-packages/sklearn/svm/base.py:929: ConvergenceWarning: Liblinear failed to converge, increase the number of iterations.\n",
      "  \"the number of iterations.\", ConvergenceWarning)\n"
     ]
    }
   ],
   "source": [
    "model = pipeline.fit(x_train, y_train)"
   ]
  },
  {
   "cell_type": "code",
   "execution_count": 54,
   "metadata": {},
   "outputs": [],
   "source": [
    "vectorizer = model.named_steps['vect']\n",
    "chi = model.named_steps['chi']\n",
    "clf = model.named_steps['clf']"
   ]
  },
  {
   "cell_type": "code",
   "execution_count": 55,
   "metadata": {},
   "outputs": [],
   "source": [
    "import numpy as np"
   ]
  },
  {
   "cell_type": "code",
   "execution_count": 56,
   "metadata": {},
   "outputs": [],
   "source": [
    "feature_names = vectorizer.get_feature_names()\n",
    "feature_names = [feature_names[i] for i in chi.get_support(indices=True)]\n",
    "feature_names = np.asarray(feature_names)"
   ]
  },
  {
   "cell_type": "code",
   "execution_count": 57,
   "metadata": {},
   "outputs": [],
   "source": [
    "target_names = [ 'PlayPodcastIntent', 'PodcastOnlyIntent', 'PlayRadioIntent', 'RadioOnlyIntent', 'WhatsPlayingIntent', 'WhatsPlayingTitleAndSynopsisIntent', 'WhatStationIsPlayingIntent']\n"
   ]
  },
  {
   "cell_type": "markdown",
   "metadata": {},
   "source": [
    "Listing out the top ten keywords for each class"
   ]
  },
  {
   "cell_type": "code",
   "execution_count": 58,
   "metadata": {},
   "outputs": [
    {
     "name": "stdout",
     "output_type": "stream",
     "text": [
      "PlayPodcastIntent: hear listen start begin play please launch continue resume podcast\n",
      "PodcastOnlyIntent: cwr gaidheal cambridge sports extra coventry midlands devon leicester jersey norfolk\n",
      "PlayRadioIntent: get job service listen fresh start global news naked podcast radio hour h2o early start let get listen play\n",
      "RadioOnlyIntent: gaidheal 3cr swindon southampton somerset tees newcastle coventry cymru radio\n",
      "WhatsPlayingIntent: get oxford get physical get please get podcast get radio get saturday get sheffield zoo channel station\n",
      "WhatsPlayingTitleAndSynopsisIntent: song title artist singing right listening song playing sings song band singing playing song\n",
      "WhatStationIsPlayingIntent: get oxford get physical get please get podcast get radio get saturday get scotland get one zoo programme\n"
     ]
    }
   ],
   "source": [
    "# top 10 keywords per class\n",
    "for i, label in enumerate(target_names):\n",
    "    top10 = np.argsort(clf.coef_[i])[-10:]\n",
    "    print('%s: %s' %(label, ' '.join(feature_names[top10])))"
   ]
  },
  {
   "cell_type": "markdown",
   "metadata": {},
   "source": [
    "I was e"
   ]
  },
  {
   "cell_type": "code",
   "execution_count": 59,
   "metadata": {},
   "outputs": [
    {
     "data": {
      "text/plain": [
       "0.9989448912435998"
      ]
     },
     "execution_count": 59,
     "metadata": {},
     "output_type": "execute_result"
    }
   ],
   "source": [
    "#accuracy score\n",
    "model.score(x_test, y_test)"
   ]
  },
  {
   "cell_type": "code",
   "execution_count": 60,
   "metadata": {},
   "outputs": [
    {
     "data": {
      "text/plain": [
       "array(['PlayPodcastIntent'], dtype=object)"
      ]
     },
     "execution_count": 60,
     "metadata": {},
     "output_type": "execute_result"
    }
   ],
   "source": [
    "model.predict(['can i listen to the new bbc womens show'])"
   ]
  },
  {
   "cell_type": "code",
   "execution_count": 61,
   "metadata": {},
   "outputs": [
    {
     "data": {
      "text/plain": [
       "array(['PlayPodcastIntent'], dtype=object)"
      ]
     },
     "execution_count": 61,
     "metadata": {},
     "output_type": "execute_result"
    }
   ],
   "source": [
    "model.predict(['i want to listen to bbc radio four'])"
   ]
  },
  {
   "cell_type": "code",
   "execution_count": 62,
   "metadata": {},
   "outputs": [
    {
     "data": {
      "text/plain": [
       "array(['PlayPodcastIntent'], dtype=object)"
      ]
     },
     "execution_count": 62,
     "metadata": {},
     "output_type": "execute_result"
    }
   ],
   "source": [
    "model.predict(['listen to bbc radio four'])"
   ]
  },
  {
   "cell_type": "code",
   "execution_count": 63,
   "metadata": {},
   "outputs": [
    {
     "data": {
      "text/plain": [
       "array(['PlayPodcastIntent'], dtype=object)"
      ]
     },
     "execution_count": 63,
     "metadata": {},
     "output_type": "execute_result"
    }
   ],
   "source": [
    "model.predict(['can you play bbc radio four'])"
   ]
  },
  {
   "cell_type": "code",
   "execution_count": 64,
   "metadata": {},
   "outputs": [
    {
     "data": {
      "text/plain": [
       "array(['PodcastOnlyIntent'], dtype=object)"
      ]
     },
     "execution_count": 64,
     "metadata": {},
     "output_type": "execute_result"
    }
   ],
   "source": [
    "model.predict(['bbc radio four'])"
   ]
  },
  {
   "cell_type": "code",
   "execution_count": 65,
   "metadata": {},
   "outputs": [
    {
     "data": {
      "text/plain": [
       "array(['PodcastOnlyIntent'], dtype=object)"
      ]
     },
     "execution_count": 65,
     "metadata": {},
     "output_type": "execute_result"
    }
   ],
   "source": [
    "model.predict(['what am i listening to'])"
   ]
  },
  {
   "cell_type": "code",
   "execution_count": 66,
   "metadata": {},
   "outputs": [
    {
     "data": {
      "text/plain": [
       "array(['WhatsPlayingIntent'], dtype=object)"
      ]
     },
     "execution_count": 66,
     "metadata": {},
     "output_type": "execute_result"
    }
   ],
   "source": [
    "model.predict(['what artist is singing'])"
   ]
  },
  {
   "cell_type": "markdown",
   "metadata": {},
   "source": [
    "## Conclusions and Next Steps\n",
    "\n",
    "I am happy in that I have concluded that my data can be read in, processed and classified. However, the results of the classification model are disappointing.\n",
    "\n",
    "The high accuracy level was only achieved because of the imbalance in classes of the Dataset. I [need to look at ways to overcome this](https://machinelearningmastery.com/tactics-to-combat-imbalanced-classes-in-your-machine-learning-dataset/) and implement them. \n",
    "\n",
    "Depending on the outcome, I should also consider parameter tuning."
   ]
  },
  {
   "cell_type": "code",
   "execution_count": null,
   "metadata": {},
   "outputs": [],
   "source": []
  }
 ],
 "metadata": {
  "kernelspec": {
   "display_name": "Python 3",
   "language": "python",
   "name": "python3"
  },
  "language_info": {
   "codemirror_mode": {
    "name": "ipython",
    "version": 3
   },
   "file_extension": ".py",
   "mimetype": "text/x-python",
   "name": "python",
   "nbconvert_exporter": "python",
   "pygments_lexer": "ipython3",
   "version": "3.7.4"
  }
 },
 "nbformat": 4,
 "nbformat_minor": 2
}
