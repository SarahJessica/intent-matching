{
 "cells": [
  {
   "cell_type": "code",
   "execution_count": 2,
   "metadata": {},
   "outputs": [],
   "source": [
    "import pandas as pd\n",
    "import json"
   ]
  },
  {
   "cell_type": "code",
   "execution_count": 2,
   "metadata": {},
   "outputs": [],
   "source": [
    "with open('./data/training-data.json') as training_data:\n",
    "    training_data_json = json.load(training_data)"
   ]
  },
  {
   "cell_type": "code",
   "execution_count": 52,
   "metadata": {},
   "outputs": [
    {
     "data": {
      "text/plain": [
       "['the forum',\n",
       " 'the forum bbc world service',\n",
       " 'bbc world service the forum',\n",
       " 'the forum from bbc world service',\n",
       " 'the forum on bbc world service',\n",
       " 'bbc world the forum',\n",
       " 'the forum b. b. c. world service',\n",
       " 'b. b. c. world service the forum',\n",
       " 'the forum from b. b. c. world service',\n",
       " 'the forum on b. b. c. world service',\n",
       " 'b. b. c. world the forum',\n",
       " 'scott dalton',\n",
       " 'scott dalton bbc radio lincolnshire',\n",
       " 'bbc radio lincolnshire scott dalton',\n",
       " 'scott dalton b. b. c. radio lincolnshire',\n",
       " 'b. b. c. radio lincolnshire scott dalton',\n",
       " 'the zoe ball breakfast show',\n",
       " 'the zoe ball breakfast show bbc radio two',\n",
       " 'bbc radio two the zoe ball breakfast show',\n",
       " 'the zoe ball show',\n",
       " 'the zoe ball breakfast show b. b. c. radio two',\n",
       " 'b. b. c. radio two the zoe ball breakfast show',\n",
       " 'graham liver',\n",
       " 'graham liver bbc radio lancashire',\n",
       " 'bbc radio lancashire graham liver',\n",
       " 'graham liver b. b. c. radio lancashire',\n",
       " 'b. b. c. radio lancashire graham liver',\n",
       " 'tony snell in the morning',\n",
       " 'tony snell in the morning bbc radio merseyside',\n",
       " 'bbc radio merseyside tony snell in the morning',\n",
       " 'tony snell in the morning b. b. c. radio merseyside',\n",
       " 'b. b. c. radio merseyside tony snell in the morning',\n",
       " 'the write stuff',\n",
       " 'the write stuff bbc radio four extra',\n",
       " 'bbc radio four extra the write stuff',\n",
       " 'the write stuff b. b. c. radio four extra',\n",
       " 'b. b. c. radio four extra the write stuff',\n",
       " 'b. b. c. minute',\n",
       " 'bbc minute bbc world service',\n",
       " 'bbc world service bbc minute',\n",
       " 'bbc minute',\n",
       " 'b. b. c. minute b. b. c. world service',\n",
       " 'b. b. c. world service b. b. c. minute',\n",
       " 'steve harris',\n",
       " 'steve harris bbc radio solent',\n",
       " 'bbc radio solent steve harris',\n",
       " 'steve harris b. b. c. radio solent',\n",
       " 'b. b. c. radio solent steve harris',\n",
       " 'radio ulster news',\n",
       " 'radio ulster news bbc radio ulster',\n",
       " 'bbc radio ulster radio ulster news',\n",
       " 'radio ulster news b. b. c. radio ulster',\n",
       " 'b. b. c. radio ulster radio ulster news',\n",
       " 'radio foyle news',\n",
       " 'radio foyle news bbc radio foyle',\n",
       " 'bbc radio foyle radio foyle news',\n",
       " 'radio foyle news b. b. c. radio foyle',\n",
       " 'b. b. c. radio foyle radio foyle news',\n",
       " 'oscar pearson',\n",
       " 'oscar pearson bbc radio guernsey',\n",
       " 'bbc radio guernsey oscar pearson',\n",
       " 'oscar pearson b. b. c. radio guernsey',\n",
       " 'b. b. c. radio guernsey oscar pearson',\n",
       " 'andy collins',\n",
       " 'andy collins bbc three counties radio',\n",
       " 'bbc three counties radio andy collins',\n",
       " 'andy collins b. b. c. three counties radio',\n",
       " 'b. b. c. three counties radio andy collins',\n",
       " 'the wake up call',\n",
       " 'the wake up call bbc radio kent',\n",
       " 'bbc radio kent the wake up call',\n",
       " 'the wake up call b. b. c. radio kent',\n",
       " 'b. b. c. radio kent the wake up call',\n",
       " 'chelsea at breakfast',\n",
       " 'chelsea at breakfast bbc radio manchester',\n",
       " 'bbc radio manchester chelsea at breakfast',\n",
       " 'chelsea at breakfast b. b. c. radio manchester',\n",
       " 'b. b. c. radio manchester chelsea at breakfast',\n",
       " 'sam and daz at breakfast',\n",
       " 'sam and daz at breakfast bbc w. m. ninety five point six',\n",
       " 'bbc w. m. ninety five point six sam and daz at breakfast',\n",
       " 'sam and daz at breakfast b. b. c. w. m. ninety five point six',\n",
       " 'b. b. c. w. m. ninety five point six sam and daz at breakfast',\n",
       " 'john acres',\n",
       " 'john acres bbc radio stoke',\n",
       " 'bbc radio stoke john acres',\n",
       " 'john acres b. b. c. radio stoke',\n",
       " 'b. b. c. radio stoke john acres',\n",
       " 'ben prater',\n",
       " 'ben prater bbc wiltshire',\n",
       " 'bbc wiltshire ben prater',\n",
       " 'ben prater b. b. c. wiltshire',\n",
       " 'b. b. c. wiltshire ben prater',\n",
       " 'sussex breakfast',\n",
       " 'sussex breakfast bbc sussex',\n",
       " 'bbc sussex sussex breakfast',\n",
       " 'sussex breakfast b. b. c. sussex',\n",
       " 'b. b. c. sussex sussex breakfast',\n",
       " 'gordon sparks and laura james',\n",
       " 'gordon sparks and laura james bbc radio devon',\n",
       " 'bbc radio devon gordon sparks and laura james',\n",
       " 'gordon sparks and laura james b. b. c. radio devon',\n",
       " 'b. b. c. radio devon gordon sparks and laura james',\n",
       " 'mark cummings',\n",
       " 'mark cummings bbc radio gloucestershire',\n",
       " 'bbc radio gloucestershire mark cummings',\n",
       " 'mark cummings b. b. c. radio gloucestershire',\n",
       " 'b. b. c. radio gloucestershire mark cummings',\n",
       " 'andy whittaker and sarah julian',\n",
       " 'andy whittaker and sarah julian bbc radio nottingham',\n",
       " 'bbc radio nottingham andy whittaker and sarah julian',\n",
       " 'andy whittaker and sarah julian b. b. c. radio nottingham',\n",
       " 'b. b. c. radio nottingham andy whittaker and sarah julian',\n",
       " 'elliott and toni at breakfast',\n",
       " 'elliott and toni at breakfast bbc hereford and worcester',\n",
       " 'bbc hereford and worcester elliott and toni at breakfast',\n",
       " 'elliott and toni at breakfast b. b. c. hereford and worcester',\n",
       " 'b. b. c. hereford and worcester elliott and toni at breakfast',\n",
       " 'eric smith and clare ashford',\n",
       " 'eric smith and clare ashford bbc radio shropshire',\n",
       " 'bbc radio shropshire eric smith and clare ashford',\n",
       " 'eric smith and clare ashford b. b. c. radio shropshire',\n",
       " 'b. b. c. radio shropshire eric smith and clare ashford',\n",
       " 'emma britton',\n",
       " 'emma britton bbc radio bristol',\n",
       " 'bbc radio bristol emma britton',\n",
       " 'emma britton b. b. c. radio bristol',\n",
       " 'b. b. c. radio bristol emma britton',\n",
       " 'claire carter',\n",
       " 'claire carter bbc somerset',\n",
       " 'bbc somerset claire carter',\n",
       " 'claire carter b. b. c. somerset',\n",
       " 'b. b. c. somerset claire carter',\n",
       " 'ady dayman and jo hayward',\n",
       " 'ady dayman and jo hayward bbc radio leicester',\n",
       " 'bbc radio leicester ady dayman and jo hayward',\n",
       " 'ady dayman and jo hayward b. b. c. radio leicester',\n",
       " 'b. b. c. radio leicester ady dayman and jo hayward',\n",
       " 'ian skye',\n",
       " 'ian skye bbc radio derby',\n",
       " 'bbc radio derby ian skye',\n",
       " 'ian skye b. b. c. radio derby',\n",
       " 'b. b. c. radio derby ian skye',\n",
       " 'james hand',\n",
       " 'james hand bbc radio jersey',\n",
       " 'bbc radio jersey james hand',\n",
       " 'james hand b. b. c. radio jersey',\n",
       " 'b. b. c. radio jersey james hand',\n",
       " 'five live breakfast',\n",
       " 'five live breakfast bbc radio five live',\n",
       " 'bbc radio five live five live breakfast',\n",
       " 'five live breakfast b. b. c. radio five live',\n",
       " 'b. b. c. radio five live five live breakfast',\n",
       " 'the richard stead breakfast show',\n",
       " 'the richard stead breakfast show bbc radio leeds',\n",
       " 'bbc radio leeds the richard stead breakfast show',\n",
       " 'the richard stead breakfast show b. b. c. radio leeds',\n",
       " 'b. b. c. radio leeds the richard stead breakfast show',\n",
       " 'james piekos',\n",
       " 'james piekos bbc radio humberside',\n",
       " 'bbc radio humberside james piekos',\n",
       " 'james piekos b. b. c. radio humberside',\n",
       " 'b. b. c. radio humberside james piekos',\n",
       " 'the breakfast show',\n",
       " 'the breakfast show bbc radio foyle',\n",
       " 'bbc radio foyle the breakfast show',\n",
       " 'the breakfast show b. b. c. radio foyle',\n",
       " 'b. b. c. radio foyle the breakfast show',\n",
       " 'breakfast',\n",
       " 'breakfast bbc radio three',\n",
       " 'bbc radio three breakfast',\n",
       " 'breakfast b. b. c. radio three',\n",
       " 'b. b. c. radio three breakfast',\n",
       " 'annabel amos',\n",
       " 'annabel amos bbc radio northampton',\n",
       " 'bbc radio northampton annabel amos',\n",
       " 'annabel amos b. b. c. radio northampton',\n",
       " 'b. b. c. radio northampton annabel amos',\n",
       " 'the breakfast show with trish adudu',\n",
       " 'the breakfast show with trish adudu bbc coventry and warwickshire',\n",
       " 'bbc coventry and warwickshire the breakfast show with trish adudu',\n",
       " 'the breakfast show with trish adudu b. b. c. coventry and warwickshire',\n",
       " 'b. b. c. coventry and warwickshire the breakfast show with trish adudu',\n",
       " 'breakfast with ben and sonia',\n",
       " 'breakfast with ben and sonia bbc essex',\n",
       " 'bbc essex breakfast with ben and sonia',\n",
       " 'breakfast with ben and sonia b. b. c. essex',\n",
       " 'b. b. c. essex breakfast with ben and sonia',\n",
       " 'aithris na maidne',\n",
       " 'aithris na maidne bbc radio nan gàidheal',\n",
       " 'bbc radio nan gàidheal aithris na maidne',\n",
       " 'aithris na maidne b. b. c. radio nan gàidheal',\n",
       " 'b. b. c. radio nan gàidheal aithris na maidne',\n",
       " 'toby foster at breakfast',\n",
       " 'toby foster at breakfast bbc radio sheffield',\n",
       " 'bbc radio sheffield toby foster at breakfast',\n",
       " 'toby foster at breakfast b. b. c. radio sheffield',\n",
       " 'b. b. c. radio sheffield toby foster at breakfast',\n",
       " 'b. b. c. tees breakfast',\n",
       " 'bbc tees breakfast bbc tees',\n",
       " 'bbc tees bbc tees breakfast',\n",
       " 'bbc tees breakfast',\n",
       " 'b. b. c. tees breakfast b. b. c. tees',\n",
       " 'b. b. c. tees b. b. c. tees breakfast',\n",
       " 'julie skentelbery and james churchfield',\n",
       " 'julie skentelbery and james churchfield bbc radio cornwall',\n",
       " 'bbc radio cornwall julie skentelbery and james churchfield',\n",
       " 'julie skentelbery and james churchfield b. b. c. radio cornwall',\n",
       " 'b. b. c. radio cornwall julie skentelbery and james churchfield',\n",
       " 'breakfast on b. b. c. surrey',\n",
       " 'breakfast on bbc surrey',\n",
       " 'mike zeller',\n",
       " 'mike zeller bbc radio cumbria',\n",
       " 'bbc radio cumbria mike zeller',\n",
       " 'mike zeller b. b. c. radio cumbria',\n",
       " 'b. b. c. radio cumbria mike zeller',\n",
       " 'thordis fridriksson',\n",
       " 'thordis fridriksson bbc radio cambridgeshire',\n",
       " 'bbc radio cambridgeshire thordis fridriksson',\n",
       " 'thordis fridriksson b. b. c. radio cambridgeshire',\n",
       " 'b. b. c. radio cambridgeshire thordis fridriksson',\n",
       " 'georgey spanswick at breakfast',\n",
       " 'georgey spanswick at breakfast bbc radio york',\n",
       " 'bbc radio york georgey spanswick at breakfast',\n",
       " 'georgey spanswick at breakfast b. b. c. radio york',\n",
       " 'b. b. c. radio york georgey spanswick at breakfast',\n",
       " 'witness history',\n",
       " 'witness history bbc world service',\n",
       " 'bbc world service witness history',\n",
       " 'witness',\n",
       " 'witness history b. b. c. world service',\n",
       " 'b. b. c. world service witness history',\n",
       " 'good morning scotland',\n",
       " 'good morning scotland bbc radio scotland',\n",
       " 'bbc radio scotland good morning scotland',\n",
       " 'good morning scotland b. b. c. radio scotland',\n",
       " 'b. b. c. radio scotland good morning scotland',\n",
       " 'yesterday in parliament',\n",
       " 'yesterday in parliament bbc radio four',\n",
       " 'bbc radio four yesterday in parliament',\n",
       " 'yesterday in parliament b. b. c. radio four',\n",
       " 'b. b. c. radio four yesterday in parliament',\n",
       " 'sporting witness',\n",
       " 'sporting witness bbc world service',\n",
       " 'bbc world service sporting witness',\n",
       " 'sporting witness b. b. c. world service',\n",
       " 'b. b. c. world service sporting witness',\n",
       " 'the goon show',\n",
       " 'the goon show bbc radio four extra',\n",
       " 'bbc radio four extra the goon show',\n",
       " 'the goon show b. b. c. radio four extra',\n",
       " 'b. b. c. radio four extra the goon show',\n",
       " 'business daily',\n",
       " 'business daily bbc world service',\n",
       " 'bbc world service business daily',\n",
       " 'business daily b. b. c. world service',\n",
       " 'b. b. c. world service business daily',\n",
       " 'today',\n",
       " 'today bbc radio four',\n",
       " 'bbc radio four today',\n",
       " 'today programme',\n",
       " 'today b. b. c. radio four',\n",
       " 'b. b. c. radio four today',\n",
       " 'post cyntaf',\n",
       " 'post cyntaf bbc radio cymru',\n",
       " 'bbc radio cymru post cyntaf',\n",
       " 'post cyntaf b. b. c. radio cymru',\n",
       " 'b. b. c. radio cymru post cyntaf',\n",
       " 'sioe frecwast',\n",
       " 'sioe frecwast bbc radio cymru two',\n",
       " 'bbc radio cymru two sioe frecwast',\n",
       " 'sioe frecwast b. b. c. radio cymru two',\n",
       " 'b. b. c. radio cymru two sioe frecwast',\n",
       " 'radio wales breakfast with claire summers',\n",
       " 'radio wales breakfast with claire summers bbc radio wales',\n",
       " 'bbc radio wales radio wales breakfast with claire summers',\n",
       " 'radio wales breakfast with claire summers b. b. c. radio wales',\n",
       " 'b. b. c. radio wales radio wales breakfast with claire summers',\n",
       " 'newsday',\n",
       " 'newsday bbc world service',\n",
       " 'bbc world service newsday',\n",
       " 'newsday b. b. c. world service',\n",
       " 'b. b. c. world service newsday',\n",
       " 'benny hill',\n",
       " 'benny hill bbc radio four extra',\n",
       " 'bbc radio four extra benny hill',\n",
       " 'benny hill b. b. c. radio four extra',\n",
       " 'b. b. c. radio four extra benny hill',\n",
       " 'around orkney',\n",
       " 'around orkney bbc radio scotland',\n",
       " 'bbc radio scotland around orkney',\n",
       " 'around orkney b. b. c. radio scotland',\n",
       " 'b. b. c. radio scotland around orkney',\n",
       " 'b. b. c. sports news',\n",
       " 'bbc sports news bbc radio five live',\n",
       " 'bbc radio five live bbc sports news',\n",
       " 'bbc sports news',\n",
       " 'b. b. c. sports news b. b. c. radio five live',\n",
       " 'b. b. c. radio five live b. b. c. sports news',\n",
       " 'dot',\n",
       " 'dot bbc radio four',\n",
       " 'bbc radio four dot',\n",
       " 'dot b. b. c. radio four',\n",
       " 'b. b. c. radio four dot',\n",
       " 'chris hawkins',\n",
       " 'chris hawkins bbc radio six music',\n",
       " 'bbc radio six music chris hawkins',\n",
       " 'chris hawkins b. b. c. radio six music',\n",
       " 'b. b. c. radio six music chris hawkins',\n",
       " 'good morning ulster',\n",
       " 'good morning ulster bbc radio ulster',\n",
       " 'bbc radio ulster good morning ulster',\n",
       " 'good morning ulster b. b. c. radio ulster',\n",
       " 'b. b. c. radio ulster good morning ulster',\n",
       " 'paul beesley',\n",
       " 'paul beesley bbc radio merseyside',\n",
       " 'bbc radio merseyside paul beesley',\n",
       " 'paul beesley b. b. c. radio merseyside',\n",
       " 'b. b. c. radio merseyside paul beesley',\n",
       " 'steve madden',\n",
       " 'steve madden bbc radio berkshire',\n",
       " 'bbc radio berkshire steve madden',\n",
       " 'steve madden b. b. c. radio berkshire',\n",
       " 'b. b. c. radio berkshire steve madden',\n",
       " 'gilly hope',\n",
       " 'gilly hope bbc newcastle',\n",
       " 'bbc newcastle gilly hope',\n",
       " 'gilly hope b. b. c. newcastle',\n",
       " 'b. b. c. newcastle gilly hope',\n",
       " \"ben stevenson's early breakfast\",\n",
       " \"ben stevenson's early breakfast bbc radio cambridgeshire\",\n",
       " \"bbc radio cambridgeshire ben stevenson's early breakfast\",\n",
       " \"ben stevenson's early breakfast b. b. c. radio cambridgeshire\",\n",
       " \"b. b. c. radio cambridgeshire ben stevenson's early breakfast\",\n",
       " 'petrie hosken',\n",
       " 'petrie hosken bbc radio london',\n",
       " 'bbc radio london petrie hosken',\n",
       " 'petrie hosken b. b. c. radio london',\n",
       " 'b. b. c. radio london petrie hosken',\n",
       " 'luke deal',\n",
       " 'luke deal bbc radio suffolk',\n",
       " 'bbc radio suffolk luke deal',\n",
       " 'luke deal b. b. c. radio suffolk',\n",
       " 'b. b. c. radio suffolk luke deal',\n",
       " 'sophie law',\n",
       " 'sophie law bbc radio oxford',\n",
       " 'bbc radio oxford sophie law',\n",
       " 'sophie law b. b. c. radio oxford',\n",
       " 'b. b. c. radio oxford sophie law',\n",
       " 'steve bailey on b. b. c. local radio',\n",
       " 'steve bailey bbc local radio',\n",
       " 'bbc local radio steve bailey',\n",
       " 'steve bailey on bbc local radio',\n",
       " 'steve bailey b. b. c. local radio',\n",
       " 'b. b. c. local radio steve bailey',\n",
       " 'our classical century',\n",
       " 'our classical century bbc radio',\n",
       " 'bbc radio our classical century',\n",
       " 'our classical century b. b. c. radio',\n",
       " 'b. b. c. radio our classical century',\n",
       " 'jordan north',\n",
       " 'jordan north bbc radio one',\n",
       " 'bbc radio one jordan north',\n",
       " 'jordan north b. b. c. radio one',\n",
       " 'b. b. c. radio one jordan north',\n",
       " 'daniel jenkins-jones',\n",
       " 'daniel jenkins-jones bbc radio cymru',\n",
       " 'bbc radio cymru daniel jenkins-jones',\n",
       " 'daniel jenkins-jones b. b. c. radio cymru',\n",
       " 'b. b. c. radio cymru daniel jenkins-jones',\n",
       " 'simon clarke',\n",
       " 'simon clarke bbc radio solent',\n",
       " 'bbc radio solent simon clarke',\n",
       " 'simon clarke b. b. c. radio solent',\n",
       " 'b. b. c. radio solent simon clarke',\n",
       " 'wally webb',\n",
       " 'wally webb bbc local radio',\n",
       " 'bbc local radio wally webb',\n",
       " 'wally webb b. b. c. local radio',\n",
       " 'b. b. c. local radio wally webb',\n",
       " 'through the night',\n",
       " 'through the night bbc radio three',\n",
       " 'bbc radio three through the night',\n",
       " 'through the night b. b. c. radio three',\n",
       " 'b. b. c. radio three through the night',\n",
       " 'good morning',\n",
       " 'good morning bbc local radio',\n",
       " 'bbc local radio good morning',\n",
       " 'good morning b. b. c. local radio',\n",
       " 'b. b. c. local radio good morning',\n",
       " 'richard corrie',\n",
       " 'richard corrie bbc radio cumbria',\n",
       " 'bbc radio cumbria richard corrie',\n",
       " 'richard corrie b. b. c. radio cumbria',\n",
       " 'b. b. c. radio cumbria richard corrie',\n",
       " 'julie enfield investigates',\n",
       " 'julie enfield investigates bbc radio four extra',\n",
       " 'bbc radio four extra julie enfield investigates',\n",
       " 'julie enfield investigates b. b. c. radio four extra',\n",
       " 'b. b. c. radio four extra julie enfield investigates',\n",
       " 'den siegertsz',\n",
       " 'den siegertsz bbc radio stoke',\n",
       " 'bbc radio stoke den siegertsz',\n",
       " 'den siegertsz b. b. c. radio stoke',\n",
       " 'b. b. c. radio stoke den siegertsz',\n",
       " 'vanessa feltz',\n",
       " 'vanessa feltz bbc radio two',\n",
       " 'bbc radio two vanessa feltz',\n",
       " 'vanessa feltz b. b. c. radio two',\n",
       " 'b. b. c. radio two vanessa feltz',\n",
       " 'sports update',\n",
       " 'sports update bbc world service',\n",
       " 'bbc world service sports update',\n",
       " 'sports update b. b. c. world service',\n",
       " 'b. b. c. world service sports update',\n",
       " 'laura james',\n",
       " 'laura james bbc radio devon',\n",
       " 'bbc radio devon laura james',\n",
       " 'laura james b. b. c. radio devon',\n",
       " 'b. b. c. radio devon laura james',\n",
       " 'mollie green',\n",
       " 'mollie green bbc w. m. ninety five point six',\n",
       " 'bbc w. m. ninety five point six mollie green',\n",
       " 'mollie green b. b. c. w. m. ninety five point six',\n",
       " 'b. b. c. w. m. ninety five point six mollie green',\n",
       " 'the early start',\n",
       " 'the early start bbc local radio',\n",
       " 'bbc local radio the early start',\n",
       " 'the early start b. b. c. local radio',\n",
       " 'b. b. c. local radio the early start',\n",
       " 'tony lyman',\n",
       " 'tony lyman bbc local radio',\n",
       " 'bbc local radio tony lyman',\n",
       " 'tony lyman b. b. c. local radio',\n",
       " 'b. b. c. local radio tony lyman',\n",
       " 'wake up to money',\n",
       " 'wake up to money bbc radio five live',\n",
       " 'bbc radio five live wake up to money',\n",
       " 'wake up to money b. b. c. radio five live',\n",
       " 'b. b. c. radio five live wake up to money',\n",
       " 'the early call',\n",
       " 'the early call bbc radio kent',\n",
       " 'bbc radio kent the early call',\n",
       " 'the early call b. b. c. radio kent',\n",
       " 'b. b. c. radio kent the early call',\n",
       " 'rob jelly',\n",
       " 'rob jelly bbc essex',\n",
       " 'bbc essex rob jelly',\n",
       " 'rob jelly b. b. c. essex',\n",
       " 'b. b. c. essex rob jelly',\n",
       " 'richard williams',\n",
       " 'richard williams bbc coventry and warwickshire',\n",
       " 'bbc coventry and warwickshire richard williams',\n",
       " 'richard williams b. b. c. coventry and warwickshire',\n",
       " 'b. b. c. coventry and warwickshire richard williams',\n",
       " 'naomi kennedy',\n",
       " 'naomi kennedy bbc radio cornwall',\n",
       " 'bbc radio cornwall naomi kennedy',\n",
       " 'naomi kennedy b. b. c. radio cornwall',\n",
       " 'b. b. c. radio cornwall naomi kennedy',\n",
       " 'andrew nash',\n",
       " 'andrew nash bbc hereford and worcester',\n",
       " 'bbc hereford and worcester andrew nash',\n",
       " 'andrew nash b. b. c. hereford and worcester',\n",
       " 'b. b. c. hereford and worcester andrew nash',\n",
       " 'mark crossley',\n",
       " 'mark crossley bbc radio manchester',\n",
       " 'bbc radio manchester mark crossley',\n",
       " 'mark crossley b. b. c. radio manchester',\n",
       " 'b. b. c. radio manchester mark crossley',\n",
       " 'farming today',\n",
       " 'farming today bbc radio four',\n",
       " 'bbc radio four farming today',\n",
       " 'farming today b. b. c. radio four',\n",
       " 'b. b. c. radio four farming today',\n",
       " 'prayer for the day',\n",
       " 'prayer for the day bbc radio four',\n",
       " 'bbc radio four prayer for the day',\n",
       " 'prayer for the day b. b. c. radio four',\n",
       " 'b. b. c. radio four prayer for the day',\n",
       " 'shipping forecast',\n",
       " 'shipping forecast bbc radio four',\n",
       " 'bbc radio four shipping forecast',\n",
       " 'shipping forecast b. b. c. radio four',\n",
       " 'b. b. c. radio four shipping forecast',\n",
       " 'the newsroom',\n",
       " 'the newsroom bbc world service',\n",
       " 'bbc world service the newsroom',\n",
       " 'the newsroom b. b. c. world service',\n",
       " 'b. b. c. world service the newsroom',\n",
       " 'morning reports',\n",
       " 'morning reports bbc radio five live',\n",
       " 'bbc radio five live morning reports',\n",
       " 'morning reports b. b. c. radio five live',\n",
       " 'b. b. c. radio five live morning reports',\n",
       " 'up all night',\n",
       " 'up all night bbc radio five live',\n",
       " 'bbc radio five live up all night',\n",
       " 'up all night b. b. c. radio five live',\n",
       " 'b. b. c. radio five live up all night',\n",
       " \"six music's jukebox\",\n",
       " \"six music's jukebox bbc radio six music\",\n",
       " \"bbc radio six music six music's jukebox\",\n",
       " \"six music's jukebox b. b. c. radio six music\",\n",
       " \"b. b. c. radio six music six music's jukebox\",\n",
       " \"don't you forget about me\",\n",
       " \"don't you forget about me bbc radio four\",\n",
       " \"bbc radio four don't you forget about me\",\n",
       " \"don't you forget about me b. b. c. radio four\",\n",
       " \"b. b. c. radio four don't you forget about me\",\n",
       " 'dotun adebayo',\n",
       " 'dotun adebayo bbc radio london',\n",
       " 'bbc radio london dotun adebayo',\n",
       " 'dotun adebayo b. b. c. radio london',\n",
       " 'b. b. c. radio london dotun adebayo',\n",
       " 'mary anne hobbs hit reset mix',\n",
       " 'mary anne hobbs hit reset mix bbc radio six music',\n",
       " 'bbc radio six music mary anne hobbs hit reset mix',\n",
       " 'mary anne hobbs hit reset mix b. b. c. radio six music',\n",
       " 'b. b. c. radio six music mary anne hobbs hit reset mix',\n",
       " \"radio one's workout mix\",\n",
       " \"radio one's workout mix bbc radio one\",\n",
       " \"bbc radio one radio one's workout mix\",\n",
       " \"radio one's workout mix b. b. c. radio one\",\n",
       " \"b. b. c. radio one radio one's workout mix\",\n",
       " 'the food chain',\n",
       " 'the food chain bbc world service',\n",
       " 'bbc world service the food chain',\n",
       " 'the food chain b. b. c. world service',\n",
       " 'b. b. c. world service the food chain',\n",
       " 'one extra mixes',\n",
       " 'one extra mixes bbc radio one extra',\n",
       " 'bbc radio one extra one extra mixes',\n",
       " 'one extra mixes b. b. c. radio one extra',\n",
       " 'b. b. c. radio one extra one extra mixes',\n",
       " 'the inquiry',\n",
       " 'the inquiry bbc world service',\n",
       " 'bbc world service the inquiry',\n",
       " 'the inquiry b. b. c. world service',\n",
       " 'b. b. c. world service the inquiry',\n",
       " 'six music live hour',\n",
       " 'six music live hour bbc radio six music',\n",
       " 'bbc radio six music six music live hour',\n",
       " 'six music live hour b. b. c. radio six music',\n",
       " 'b. b. c. radio six music six music live hour',\n",
       " \"radio one's live lounge uncovered\",\n",
       " \"radio one's live lounge uncovered bbc radio one\",\n",
       " \"bbc radio one radio one's live lounge uncovered\",\n",
       " \"radio one's live lounge uncovered b. b. c. radio one\",\n",
       " \"b. b. c. radio one radio one's live lounge uncovered\",\n",
       " 'benji b',\n",
       " 'benji b bbc radio one',\n",
       " 'bbc radio one benji b',\n",
       " 'benji b b. b. c. radio one',\n",
       " 'b. b. c. radio one benji b',\n",
       " 'oj borg',\n",
       " 'oj borg bbc radio two',\n",
       " 'bbc radio two oj borg',\n",
       " 'oh jay borg',\n",
       " 'oj borg b. b. c. radio two',\n",
       " 'b. b. c. radio two oj borg',\n",
       " 'business matters',\n",
       " 'business matters bbc world service',\n",
       " 'bbc world service business matters',\n",
       " 'business matters b. b. c. world service',\n",
       " 'b. b. c. world service business matters',\n",
       " 'nick risby',\n",
       " 'nick risby bbc local radio',\n",
       " 'bbc local radio nick risby',\n",
       " 'nick risby b. b. c. local radio',\n",
       " 'b. b. c. local radio nick risby',\n",
       " 'david sheppard',\n",
       " 'david sheppard bbc local radio',\n",
       " 'bbc local radio david sheppard',\n",
       " 'david sheppard b. b. c. local radio',\n",
       " 'b. b. c. local radio david sheppard',\n",
       " 'six music recommends',\n",
       " 'six music recommends bbc radio six music',\n",
       " 'bbc radio six music six music recommends',\n",
       " 'six music recommends b. b. c. radio six music',\n",
       " 'b. b. c. radio six music six music recommends',\n",
       " \"radio one's indie show with jack saunders\",\n",
       " \"radio one's indie show with jack saunders bbc radio one\",\n",
       " \"bbc radio one radio one's indie show with jack saunders\",\n",
       " 'jack saunders',\n",
       " \"radio one's indie show with jack saunders b. b. c. radio one\",\n",
       " \"b. b. c. radio one radio one's indie show with jack saunders\",\n",
       " 'paul miller',\n",
       " 'paul miller bbc local radio',\n",
       " 'bbc local radio paul miller',\n",
       " 'paul miller b. b. c. local radio',\n",
       " 'b. b. c. local radio paul miller',\n",
       " 'chris baxter',\n",
       " 'chris baxter bbc local radio',\n",
       " 'bbc local radio chris baxter',\n",
       " 'chris baxter b. b. c. local radio',\n",
       " 'b. b. c. local radio chris baxter',\n",
       " 'asian network playlists',\n",
       " 'asian network playlists bbc asian network',\n",
       " 'bbc asian network asian network playlists',\n",
       " 'asian network playlists b. b. c. asian network',\n",
       " 'b. b. c. asian network asian network playlists',\n",
       " 'graham torrington',\n",
       " 'graham torrington bbc local radio',\n",
       " 'bbc local radio graham torrington',\n",
       " 'graham torrington b. b. c. local radio',\n",
       " 'b. b. c. local radio graham torrington',\n",
       " 'steffen peddie',\n",
       " 'steffen peddie bbc local radio',\n",
       " 'bbc local radio steffen peddie',\n",
       " 'steffen peddie b. b. c. local radio',\n",
       " 'b. b. c. local radio steffen peddie',\n",
       " 'duncan barkes',\n",
       " 'duncan barkes bbc radio london',\n",
       " 'bbc radio london duncan barkes',\n",
       " 'duncan barkes b. b. c. radio london',\n",
       " 'b. b. c. radio london duncan barkes',\n",
       " 'the itimms playlist',\n",
       " 'the itimms playlist bbc radio cumbria',\n",
       " 'bbc radio cumbria the itimms playlist',\n",
       " 'the itimms playlist b. b. c. radio cumbria',\n",
       " 'b. b. c. radio cumbria the itimms playlist',\n",
       " 'snoochie shy',\n",
       " 'snoochie shy bbc radio one extra',\n",
       " 'bbc radio one extra snoochie shy',\n",
       " 'snoochie shy b. b. c. radio one extra',\n",
       " 'b. b. c. radio one extra snoochie shy',\n",
       " 'russell walker',\n",
       " 'russell walker bbc local radio',\n",
       " 'bbc local radio russell walker',\n",
       " 'russell walker b. b. c. local radio',\n",
       " 'b. b. c. local radio russell walker',\n",
       " 'chris needs',\n",
       " 'chris needs bbc radio wales',\n",
       " 'bbc radio wales chris needs',\n",
       " 'chris needs b. b. c. radio wales',\n",
       " 'b. b. c. radio wales chris needs',\n",
       " 'sarah brett',\n",
       " 'sarah brett bbc radio five live',\n",
       " 'bbc radio five live sarah brett',\n",
       " 'sarah brett b. b. c. radio five live',\n",
       " 'b. b. c. radio five live sarah brett',\n",
       " \"allan beswick's late night phone-in\",\n",
       " \"allan beswick's late night phone-in bbc local radio\",\n",
       " \"bbc local radio allan beswick's late night phone-in\",\n",
       " \"allan beswick's late night phone-in b. b. c. local radio\",\n",
       " \"b. b. c. local radio allan beswick's late night phone-in\",\n",
       " 'late junction',\n",
       " 'late junction bbc radio three',\n",
       " 'bbc radio three late junction',\n",
       " 'late junction b. b. c. radio three',\n",
       " 'b. b. c. radio three late junction',\n",
       " 'midnight news',\n",
       " 'midnight news bbc radio four',\n",
       " 'bbc radio four midnight news',\n",
       " 'midnight news b. b. c. radio four',\n",
       " 'b. b. c. radio four midnight news',\n",
       " \"asian network's mixtape series with bobby friction\",\n",
       " \"asian network's mixtape series with bobby friction bbc asian network\",\n",
       " \"bbc asian network asian network's mixtape series with bobby friction\",\n",
       " \"asian network's mixtape series with bobby friction b. b. c. asian network\",\n",
       " \"b. b. c. asian network asian network's mixtape series with bobby friction\",\n",
       " \"i think i've got a problem\",\n",
       " \"i think i've got a problem bbc radio four extra\",\n",
       " \"bbc radio four extra i think i've got a problem\",\n",
       " \"i think i've got a problem b. b. c. radio four extra\",\n",
       " \"b. b. c. radio four extra i think i've got a problem\",\n",
       " 'geraint lloyd',\n",
       " 'geraint lloyd bbc radio cymru',\n",
       " 'bbc radio cymru geraint lloyd',\n",
       " 'geraint lloyd b. b. c. radio cymru',\n",
       " 'b. b. c. radio cymru geraint lloyd',\n",
       " 'linda mcdermott',\n",
       " 'linda mcdermott bbc radio merseyside',\n",
       " 'bbc radio merseyside linda mcdermott',\n",
       " 'linda mcdermott b. b. c. radio merseyside',\n",
       " 'b. b. c. radio merseyside linda mcdermott',\n",
       " 'mobeen azhar',\n",
       " 'mobeen azhar bbc asian network',\n",
       " 'bbc asian network mobeen azhar',\n",
       " 'mobeen azhar b. b. c. asian network',\n",
       " 'b. b. c. asian network mobeen azhar',\n",
       " 'ian timms',\n",
       " 'ian timms bbc radio cumbria',\n",
       " 'bbc radio cumbria ian timms',\n",
       " 'ian timms b. b. c. radio cumbria',\n",
       " 'b. b. c. radio cumbria ian timms',\n",
       " 'gideon coe',\n",
       " 'gideon coe bbc radio six music',\n",
       " 'bbc radio six music gideon coe',\n",
       " 'gideon coe b. b. c. radio six music',\n",
       " 'b. b. c. radio six music gideon coe',\n",
       " 'today in parliament',\n",
       " 'today in parliament bbc radio four',\n",
       " 'bbc radio four today in parliament',\n",
       " 'today in parliament b. b. c. radio four',\n",
       " 'b. b. c. radio four today in parliament',\n",
       " \"trevor nelson's rhythm nation\",\n",
       " \"trevor nelson's rhythm nation bbc radio two\",\n",
       " \"bbc radio two trevor nelson's rhythm nation\",\n",
       " 'trevor nelson',\n",
       " \"trevor nelson's rhythm nation b. b. c. radio two\",\n",
       " \"b. b. c. radio two trevor nelson's rhythm nation\",\n",
       " 'world business report',\n",
       " 'world business report bbc world service',\n",
       " 'bbc world service world business report',\n",
       " 'world business report b. b. c. world service',\n",
       " 'b. b. c. world service world business report',\n",
       " 'the late show with eve blair',\n",
       " 'the late show with eve blair bbc radio ulster',\n",
       " 'bbc radio ulster the late show with eve blair',\n",
       " 'the late show with eve blair b. b. c. radio ulster',\n",
       " 'b. b. c. radio ulster the late show with eve blair',\n",
       " 'nurse',\n",
       " 'nurse bbc radio four',\n",
       " 'bbc radio four nurse',\n",
       " 'nurse b. b. c. radio four',\n",
       " 'b. b. c. radio four nurse',\n",
       " 'sports news',\n",
       " 'sports news bbc world service',\n",
       " 'bbc world service sports news',\n",
       " 'sports news b. b. c. world service',\n",
       " 'b. b. c. world service sports news',\n",
       " 'the east coast listening post',\n",
       " 'the east coast listening post bbc radio four',\n",
       " 'bbc radio four the east coast listening post',\n",
       " 'the east coast listening post b. b. c. radio four',\n",
       " 'b. b. c. radio four the east coast listening post',\n",
       " 'b. b. c. premier league update edition one',\n",
       " 'bbc premier league update edition one bbc world service',\n",
       " 'bbc world service bbc premier league update edition one',\n",
       " 'bbc premier league update edition one',\n",
       " 'b. b. c. premier league update edition one b. b. c. world service',\n",
       " 'b. b. c. world service b. b. c. premier league update edition one',\n",
       " 'the essay',\n",
       " 'the essay bbc radio three',\n",
       " 'bbc radio three the essay',\n",
       " 'the essay b. b. c. radio three',\n",
       " 'b. b. c. radio three the essay',\n",
       " 'travelling folk',\n",
       " 'travelling folk bbc radio scotland',\n",
       " 'bbc radio scotland travelling folk',\n",
       " 'travelling folk b. b. c. radio scotland',\n",
       " 'b. b. c. radio scotland travelling folk',\n",
       " 'rickie melvin and charlie',\n",
       " 'rickie melvin and charlie bbc radio one',\n",
       " 'bbc radio one rickie melvin and charlie',\n",
       " 'rickie melvin and charlie b. b. c. radio one',\n",
       " 'b. b. c. radio one rickie melvin and charlie',\n",
       " 'one extra residency',\n",
       " 'one extra residency bbc radio one extra',\n",
       " 'bbc radio one extra one extra residency',\n",
       " 'one extra residency b. b. c. radio one extra',\n",
       " 'b. b. c. radio one extra one extra residency',\n",
       " 'comedy club extra',\n",
       " 'comedy club extra bbc radio four extra',\n",
       " 'bbc radio four extra comedy club extra',\n",
       " 'comedy club extra b. b. c. radio four extra',\n",
       " 'b. b. c. radio four extra comedy club extra',\n",
       " 'soundscapes with stephen mccauley',\n",
       " 'soundscapes with stephen mccauley bbc radio ulster',\n",
       " 'bbc radio ulster soundscapes with stephen mccauley',\n",
       " 'soundscapes with stephen mccauley b. b. c. radio ulster',\n",
       " 'b. b. c. radio ulster soundscapes with stephen mccauley',\n",
       " 'the world tonight',\n",
       " 'the world tonight bbc radio four',\n",
       " 'bbc radio four the world tonight',\n",
       " 'the world tonight b. b. c. radio four',\n",
       " 'b. b. c. radio four the world tonight',\n",
       " 'the problem with adam bloom',\n",
       " 'the problem with adam bloom bbc radio four extra',\n",
       " 'bbc radio four extra the problem with adam bloom',\n",
       " 'the problem with adam bloom b. b. c. radio four extra',\n",
       " 'b. b. c. radio four extra the problem with adam bloom',\n",
       " 'free thinking',\n",
       " 'free thinking bbc radio three',\n",
       " 'bbc radio three free thinking',\n",
       " 'free thinking b. b. c. radio three',\n",
       " 'b. b. c. radio three free thinking',\n",
       " 'five live sport',\n",
       " 'five live sport bbc radio five live',\n",
       " 'bbc radio five live five live sport',\n",
       " 'five live sport b. b. c. radio five live',\n",
       " 'b. b. c. radio five live five live sport',\n",
       " 'the b. b. c. radio oxford residency',\n",
       " 'the bbc radio oxford residency bbc radio oxford',\n",
       " 'bbc radio oxford the bbc radio oxford residency',\n",
       " 'the bbc radio oxford residency',\n",
       " 'the b. b. c. radio oxford residency b. b. c. radio oxford',\n",
       " 'b. b. c. radio oxford the b. b. c. radio oxford residency',\n",
       " 'charlie taylor',\n",
       " 'charlie taylor bbc somerset',\n",
       " 'bbc somerset charlie taylor',\n",
       " 'charlie taylor b. b. c. somerset',\n",
       " 'b. b. c. somerset charlie taylor',\n",
       " 'the dead good show',\n",
       " 'the dead good show bbc radio manchester',\n",
       " 'bbc radio manchester the dead good show',\n",
       " 'the dead good show b. b. c. radio manchester',\n",
       " 'b. b. c. radio manchester the dead good show',\n",
       " 'radio three in concert',\n",
       " 'radio three in concert bbc radio three',\n",
       " 'bbc radio three radio three in concert',\n",
       " 'radio three in concert b. b. c. radio three',\n",
       " 'b. b. c. radio three radio three in concert',\n",
       " 'awr werin lisa gwilym',\n",
       " 'awr werin lisa gwilym bbc radio cymru',\n",
       " 'bbc radio cymru awr werin lisa gwilym',\n",
       " 'awr werin lisa gwilym b. b. c. radio cymru',\n",
       " 'b. b. c. radio cymru awr werin lisa gwilym',\n",
       " 'bob fischer',\n",
       " 'bob fischer bbc tees',\n",
       " 'bbc tees bob fischer',\n",
       " 'bob fischer b. b. c. tees',\n",
       " 'b. b. c. tees bob fischer',\n",
       " \"the seven o'clock show\",\n",
       " \"the seven o'clock show bbc radio shropshire\",\n",
       " \"bbc radio shropshire the seven o'clock show\",\n",
       " \"the seven o'clock show b. b. c. radio shropshire\",\n",
       " \"b. b. c. radio shropshire the seven o'clock show\",\n",
       " 'new traditions with greg russell',\n",
       " 'new traditions with greg russell bbc radio sheffield',\n",
       " 'bbc radio sheffield new traditions with greg russell',\n",
       " 'new traditions with greg russell b. b. c. radio sheffield',\n",
       " 'b. b. c. radio sheffield new traditions with greg russell',\n",
       " 'the evening show on b. b. c. hereford and worcester',\n",
       " 'the evening show bbc hereford and worcester',\n",
       " 'bbc hereford and worcester the evening show',\n",
       " 'the evening show on bbc hereford and worcester',\n",
       " 'the evening show b. b. c. hereford and worcester',\n",
       " 'b. b. c. hereford and worcester the evening show',\n",
       " 'michael chequer',\n",
       " 'michael chequer bbc radio devon',\n",
       " 'bbc radio devon michael chequer',\n",
       " 'michael chequer b. b. c. radio devon',\n",
       " 'b. b. c. radio devon michael chequer',\n",
       " 'newshour',\n",
       " 'newshour bbc world service',\n",
       " 'bbc world service newshour',\n",
       " 'newshour b. b. c. world service',\n",
       " 'b. b. c. world service newshour',\n",
       " 'upbeat with sandra godley',\n",
       " 'upbeat with sandra godley bbc coventry and warwickshire',\n",
       " 'bbc coventry and warwickshire upbeat with sandra godley',\n",
       " 'upbeat with sandra godley b. b. c. coventry and warwickshire',\n",
       " 'b. b. c. coventry and warwickshire upbeat with sandra godley',\n",
       " 'the scene with judi love',\n",
       " 'the scene with judi love bbc radio london',\n",
       " 'bbc radio london the scene with judi love',\n",
       " 'the scene with judi love b. b. c. radio london',\n",
       " 'b. b. c. radio london the scene with judi love',\n",
       " 'fiona mills',\n",
       " 'fiona mills bbc radio humberside',\n",
       " 'bbc radio humberside fiona mills',\n",
       " 'fiona mills b. b. c. radio humberside',\n",
       " 'b. b. c. radio humberside fiona mills',\n",
       " 'bobby friction',\n",
       " 'bobby friction bbc asian network',\n",
       " 'bbc asian network bobby friction',\n",
       " 'bobby friction b. b. c. asian network',\n",
       " 'b. b. c. asian network bobby friction',\n",
       " 'the evening show on b. b. c. newcastle',\n",
       " 'the evening show bbc newcastle',\n",
       " 'bbc newcastle the evening show',\n",
       " 'the evening show on bbc newcastle',\n",
       " 'the evening show b. b. c. newcastle',\n",
       " 'b. b. c. newcastle the evening show',\n",
       " 'b. b. c. radio guernsey on shuffle',\n",
       " 'bbc radio guernsey on shuffle bbc radio guernsey',\n",
       " 'bbc radio guernsey bbc radio guernsey on shuffle',\n",
       " 'bbc radio guernsey on shuffle',\n",
       " 'b. b. c. radio guernsey on shuffle b. b. c. radio guernsey',\n",
       " 'b. b. c. radio guernsey b. b. c. radio guernsey on shuffle',\n",
       " 'b. b. c. music introducing in cambridgeshire',\n",
       " 'bbc music introducing in cambridgeshire bbc radio cambridgeshire',\n",
       " 'bbc radio cambridgeshire bbc music introducing in cambridgeshire',\n",
       " 'bbc music introducing in cambridgeshire',\n",
       " 'b. b. c. music introducing in cambridgeshire b. b. c. radio cambridgeshire',\n",
       " 'b. b. c. radio cambridgeshire b. b. c. music introducing in cambridgeshire',\n",
       " 'after the watershed',\n",
       " 'after the watershed bbc surrey',\n",
       " 'bbc surrey after the watershed',\n",
       " 'after the watershed b. b. c. surrey',\n",
       " 'b. b. c. surrey after the watershed',\n",
       " 'lucas yeomans',\n",
       " 'lucas yeomans bbc radio stoke',\n",
       " 'bbc radio stoke lucas yeomans',\n",
       " 'lucas yeomans b. b. c. radio stoke',\n",
       " 'b. b. c. radio stoke lucas yeomans',\n",
       " 'your essex',\n",
       " 'your essex bbc essex',\n",
       " 'bbc essex your essex',\n",
       " 'your essex b. b. c. essex',\n",
       " 'b. b. c. essex your essex',\n",
       " 'wah yan jee sing',\n",
       " 'wah yan jee sing bbc radio ulster',\n",
       " 'bbc radio ulster wah yan jee sing',\n",
       " 'wah yan jee sing b. b. c. radio ulster',\n",
       " 'b. b. c. radio ulster wah yan jee sing',\n",
       " 'summaya',\n",
       " 'summaya bbc radio nottingham',\n",
       " 'bbc radio nottingham summaya',\n",
       " 'summaya b. b. c. radio nottingham',\n",
       " 'b. b. c. radio nottingham summaya',\n",
       " 'stephanie newenhouse',\n",
       " 'stephanie newenhouse bbc radio solent',\n",
       " 'bbc radio solent stephanie newenhouse',\n",
       " 'stephanie newenhouse b. b. c. radio solent',\n",
       " 'b. b. c. radio solent stephanie newenhouse',\n",
       " 'danyl johnson',\n",
       " 'danyl johnson bbc radio berkshire',\n",
       " 'bbc radio berkshire danyl johnson',\n",
       " 'danyl johnson b. b. c. radio berkshire',\n",
       " 'b. b. c. radio berkshire danyl johnson',\n",
       " 'upload with adam crowther',\n",
       " 'upload with adam crowther bbc radio bristol',\n",
       " 'bbc radio bristol upload with adam crowther',\n",
       " 'upload with adam crowther b. b. c. radio bristol',\n",
       " 'b. b. c. radio bristol upload with adam crowther',\n",
       " 'the african and caribbean show',\n",
       " 'the african and caribbean show bbc radio leicester',\n",
       " 'bbc radio leicester the african and caribbean show',\n",
       " 'the african and caribbean show b. b. c. radio leicester',\n",
       " 'b. b. c. radio leicester the african and caribbean show',\n",
       " 'rated',\n",
       " 'rated bbc radio leeds',\n",
       " 'bbc radio leeds rated',\n",
       " 'rated b. b. c. radio leeds',\n",
       " 'b. b. c. radio leeds rated',\n",
       " 'the gathering',\n",
       " 'the gathering bbc radio cumbria',\n",
       " 'bbc radio cumbria the gathering',\n",
       " 'the gathering b. b. c. radio cumbria',\n",
       " 'b. b. c. radio cumbria the gathering',\n",
       " 'the folk show with mark radcliffe',\n",
       " 'the folk show with mark radcliffe bbc radio two',\n",
       " 'bbc radio two the folk show with mark radcliffe',\n",
       " 'the folk show',\n",
       " 'mark radcliffe',\n",
       " 'mark radcliffe on radio two',\n",
       " 'the folk show with mark radcliffe b. b. c. radio two',\n",
       " 'b. b. c. radio two the folk show with mark radcliffe',\n",
       " 'sasha simone',\n",
       " 'sasha simone bbc w. m. ninety five point six',\n",
       " 'bbc w. m. ninety five point six sasha simone',\n",
       " 'sasha simone b. b. c. w. m. ninety five point six',\n",
       " 'b. b. c. w. m. ninety five point six sasha simone',\n",
       " 'tim wheeler',\n",
       " 'tim wheeler bbc radio northampton',\n",
       " 'bbc radio northampton tim wheeler',\n",
       " 'tim wheeler b. b. c. radio northampton',\n",
       " 'b. b. c. radio northampton tim wheeler',\n",
       " 'on the air with',\n",
       " 'on the air with bbc radio kent',\n",
       " 'bbc radio kent on the air with',\n",
       " 'on the air with b. b. c. radio kent',\n",
       " 'b. b. c. radio kent on the air with',\n",
       " 'b. b. c. music re-introducing with stephen foster',\n",
       " 'bbc music re-introducing with stephen foster bbc radio suffolk',\n",
       " 'bbc radio suffolk bbc music re-introducing with stephen foster',\n",
       " 'bbc music re-introducing with stephen foster',\n",
       " 'b. b. c. music re-introducing with stephen foster b. b. c. radio suffolk',\n",
       " 'b. b. c. radio suffolk b. b. c. music re-introducing with stephen foster',\n",
       " 'later with lydia',\n",
       " 'later with lydia bbc radio lancashire',\n",
       " 'bbc radio lancashire later with lydia',\n",
       " 'later with lydia b. b. c. radio lancashire',\n",
       " 'b. b. c. radio lancashire later with lydia',\n",
       " 'the music man',\n",
       " 'the music man bbc radio lincolnshire',\n",
       " 'bbc radio lincolnshire the music man',\n",
       " 'the music man b. b. c. radio lincolnshire',\n",
       " 'b. b. c. radio lincolnshire the music man',\n",
       " 'the top floor',\n",
       " 'the top floor bbc radio derby',\n",
       " 'bbc radio derby the top floor',\n",
       " 'the top floor b. b. c. radio derby',\n",
       " 'b. b. c. radio derby the top floor',\n",
       " 'the social on b. b. c. radio norfolk',\n",
       " 'the social bbc radio norfolk',\n",
       " 'bbc radio norfolk the social',\n",
       " 'the social on bbc radio norfolk',\n",
       " 'the social b. b. c. radio norfolk',\n",
       " 'b. b. c. radio norfolk the social',\n",
       " 'b. b. c. radio jersey on shuffle',\n",
       " 'bbc radio jersey on shuffle bbc radio jersey',\n",
       " 'bbc radio jersey bbc radio jersey on shuffle',\n",
       " 'bbc radio jersey on shuffle',\n",
       " 'b. b. c. radio jersey on shuffle b. b. c. radio jersey',\n",
       " 'b. b. c. radio jersey b. b. c. radio jersey on shuffle',\n",
       " 'the residency on b. b. c. radio gloucestershire',\n",
       " 'the residency bbc radio gloucestershire',\n",
       " 'bbc radio gloucestershire the residency',\n",
       " 'the residency on bbc radio gloucestershire',\n",
       " 'the residency b. b. c. radio gloucestershire',\n",
       " 'b. b. c. radio gloucestershire the residency',\n",
       " 'wild about wiltshire',\n",
       " 'wild about wiltshire bbc wiltshire',\n",
       " 'bbc wiltshire wild about wiltshire',\n",
       " 'wild about wiltshire b. b. c. wiltshire',\n",
       " ...]"
      ]
     },
     "execution_count": 52,
     "metadata": {},
     "output_type": "execute_result"
    }
   ],
   "source": [
    "training_data_json['PodcastOnlyIntent']"
   ]
  },
  {
   "cell_type": "code",
   "execution_count": 40,
   "metadata": {},
   "outputs": [
    {
     "data": {
      "text/plain": [
       "['what this is about',\n",
       " 'what this programme is about',\n",
       " 'what is this programme about']"
      ]
     },
     "execution_count": 40,
     "metadata": {},
     "output_type": "execute_result"
    }
   ],
   "source": [
    "training_data_json['WhatsPlayingTitleAndSynopsisIntent']"
   ]
  },
  {
   "cell_type": "code",
   "execution_count": 50,
   "metadata": {},
   "outputs": [
    {
     "data": {
      "text/plain": [
       "['what this programme is about', 'what is this programme about']"
      ]
     },
     "execution_count": 50,
     "metadata": {},
     "output_type": "execute_result"
    }
   ],
   "source": [
    "# iterate through the python dictionary. Is there need for pandas? \n",
    "[dt for dt in training_data_json['WhatsPlayingTitleAndSynopsisIntent'] if dt not in 'what this is about']"
   ]
  },
  {
   "cell_type": "code",
   "execution_count": 3,
   "metadata": {},
   "outputs": [],
   "source": [
    "data = pd.DataFrame.from_dict(training_data_json, orient='index')"
   ]
  },
  {
   "cell_type": "code",
   "execution_count": 4,
   "metadata": {},
   "outputs": [
    {
     "data": {
      "text/html": [
       "<div>\n",
       "<style scoped>\n",
       "    .dataframe tbody tr th:only-of-type {\n",
       "        vertical-align: middle;\n",
       "    }\n",
       "\n",
       "    .dataframe tbody tr th {\n",
       "        vertical-align: top;\n",
       "    }\n",
       "\n",
       "    .dataframe thead th {\n",
       "        text-align: right;\n",
       "    }\n",
       "</style>\n",
       "<table border=\"1\" class=\"dataframe\">\n",
       "  <thead>\n",
       "    <tr style=\"text-align: right;\">\n",
       "      <th></th>\n",
       "      <th>0</th>\n",
       "      <th>1</th>\n",
       "      <th>2</th>\n",
       "      <th>3</th>\n",
       "      <th>4</th>\n",
       "      <th>5</th>\n",
       "      <th>6</th>\n",
       "      <th>7</th>\n",
       "      <th>8</th>\n",
       "      <th>9</th>\n",
       "      <th>...</th>\n",
       "      <th>1959810</th>\n",
       "      <th>1959811</th>\n",
       "      <th>1959812</th>\n",
       "      <th>1959813</th>\n",
       "      <th>1959814</th>\n",
       "      <th>1959815</th>\n",
       "      <th>1959816</th>\n",
       "      <th>1959817</th>\n",
       "      <th>1959818</th>\n",
       "      <th>1959819</th>\n",
       "    </tr>\n",
       "  </thead>\n",
       "  <tbody>\n",
       "    <tr>\n",
       "      <td>PlayPodcastIntent</td>\n",
       "      <td>continue the forum</td>\n",
       "      <td>continue the forum bbc world service</td>\n",
       "      <td>continue bbc world service the forum</td>\n",
       "      <td>continue the forum from bbc world service</td>\n",
       "      <td>continue the forum on bbc world service</td>\n",
       "      <td>continue bbc world the forum</td>\n",
       "      <td>continue the forum b. b. c. world service</td>\n",
       "      <td>continue b. b. c. world service the forum</td>\n",
       "      <td>continue the forum from b. b. c. world service</td>\n",
       "      <td>continue the forum on b. b. c. world service</td>\n",
       "      <td>...</td>\n",
       "      <td>activate podcast the reith lectures archive ni...</td>\n",
       "      <td>activate podcast the reith lectures archive ni...</td>\n",
       "      <td>activate podcast bbc radio four the reith lect...</td>\n",
       "      <td>activate podcast the reith lectures archive ni...</td>\n",
       "      <td>activate podcast b. b. c. radio four the reith...</td>\n",
       "      <td>activate podcast letter from america by alista...</td>\n",
       "      <td>activate podcast letter from america by alista...</td>\n",
       "      <td>activate podcast bbc radio four letter from am...</td>\n",
       "      <td>activate podcast letter from america by alista...</td>\n",
       "      <td>activate podcast b. b. c. radio four letter fr...</td>\n",
       "    </tr>\n",
       "    <tr>\n",
       "      <td>PodcastOnlyIntent</td>\n",
       "      <td>the forum</td>\n",
       "      <td>the forum bbc world service</td>\n",
       "      <td>bbc world service the forum</td>\n",
       "      <td>the forum from bbc world service</td>\n",
       "      <td>the forum on bbc world service</td>\n",
       "      <td>bbc world the forum</td>\n",
       "      <td>the forum b. b. c. world service</td>\n",
       "      <td>b. b. c. world service the forum</td>\n",
       "      <td>the forum from b. b. c. world service</td>\n",
       "      <td>the forum on b. b. c. world service</td>\n",
       "      <td>...</td>\n",
       "      <td>None</td>\n",
       "      <td>None</td>\n",
       "      <td>None</td>\n",
       "      <td>None</td>\n",
       "      <td>None</td>\n",
       "      <td>None</td>\n",
       "      <td>None</td>\n",
       "      <td>None</td>\n",
       "      <td>None</td>\n",
       "      <td>None</td>\n",
       "    </tr>\n",
       "    <tr>\n",
       "      <td>PlayRadioIntent</td>\n",
       "      <td>play b. b. c. radio one</td>\n",
       "      <td>play radio one</td>\n",
       "      <td>play bbc radio one</td>\n",
       "      <td>play b. b. c. radio one extra</td>\n",
       "      <td>play bbc radio one extra</td>\n",
       "      <td>play one extra</td>\n",
       "      <td>play radio one extra</td>\n",
       "      <td>play one xtra</td>\n",
       "      <td>play radio one xtra</td>\n",
       "      <td>play bbc radio one xtra</td>\n",
       "      <td>...</td>\n",
       "      <td>None</td>\n",
       "      <td>None</td>\n",
       "      <td>None</td>\n",
       "      <td>None</td>\n",
       "      <td>None</td>\n",
       "      <td>None</td>\n",
       "      <td>None</td>\n",
       "      <td>None</td>\n",
       "      <td>None</td>\n",
       "      <td>None</td>\n",
       "    </tr>\n",
       "    <tr>\n",
       "      <td>RadioOnlyIntent</td>\n",
       "      <td>b. b. c. radio one</td>\n",
       "      <td>radio one</td>\n",
       "      <td>bbc radio one</td>\n",
       "      <td>b. b. c. radio one extra</td>\n",
       "      <td>bbc radio one extra</td>\n",
       "      <td>one extra</td>\n",
       "      <td>radio one extra</td>\n",
       "      <td>one xtra</td>\n",
       "      <td>radio one xtra</td>\n",
       "      <td>bbc radio one xtra</td>\n",
       "      <td>...</td>\n",
       "      <td>None</td>\n",
       "      <td>None</td>\n",
       "      <td>None</td>\n",
       "      <td>None</td>\n",
       "      <td>None</td>\n",
       "      <td>None</td>\n",
       "      <td>None</td>\n",
       "      <td>None</td>\n",
       "      <td>None</td>\n",
       "      <td>None</td>\n",
       "    </tr>\n",
       "    <tr>\n",
       "      <td>WhatsPlayingIntent</td>\n",
       "      <td>who is this d. j.</td>\n",
       "      <td>tell me who the d. j. is</td>\n",
       "      <td>what's this song</td>\n",
       "      <td>what song is this</td>\n",
       "      <td>what tune is this</td>\n",
       "      <td>what song is playing</td>\n",
       "      <td>what song is playing right now</td>\n",
       "      <td>what this song is</td>\n",
       "      <td>what the song title is</td>\n",
       "      <td>who this is</td>\n",
       "      <td>...</td>\n",
       "      <td>None</td>\n",
       "      <td>None</td>\n",
       "      <td>None</td>\n",
       "      <td>None</td>\n",
       "      <td>None</td>\n",
       "      <td>None</td>\n",
       "      <td>None</td>\n",
       "      <td>None</td>\n",
       "      <td>None</td>\n",
       "      <td>None</td>\n",
       "    </tr>\n",
       "    <tr>\n",
       "      <td>WhatsPlayingTitleAndSynopsisIntent</td>\n",
       "      <td>what this is about</td>\n",
       "      <td>what this programme is about</td>\n",
       "      <td>what is this programme about</td>\n",
       "      <td>None</td>\n",
       "      <td>None</td>\n",
       "      <td>None</td>\n",
       "      <td>None</td>\n",
       "      <td>None</td>\n",
       "      <td>None</td>\n",
       "      <td>None</td>\n",
       "      <td>...</td>\n",
       "      <td>None</td>\n",
       "      <td>None</td>\n",
       "      <td>None</td>\n",
       "      <td>None</td>\n",
       "      <td>None</td>\n",
       "      <td>None</td>\n",
       "      <td>None</td>\n",
       "      <td>None</td>\n",
       "      <td>None</td>\n",
       "      <td>None</td>\n",
       "    </tr>\n",
       "    <tr>\n",
       "      <td>WhatStationIsPlayingIntent</td>\n",
       "      <td>what is this station</td>\n",
       "      <td>what channel is this</td>\n",
       "      <td>what channel</td>\n",
       "      <td>what station I am listening to</td>\n",
       "      <td>what station this is</td>\n",
       "      <td>what station</td>\n",
       "      <td>what radio station I am listening to</td>\n",
       "      <td>what radio station this is</td>\n",
       "      <td>what radio station</td>\n",
       "      <td>None</td>\n",
       "      <td>...</td>\n",
       "      <td>None</td>\n",
       "      <td>None</td>\n",
       "      <td>None</td>\n",
       "      <td>None</td>\n",
       "      <td>None</td>\n",
       "      <td>None</td>\n",
       "      <td>None</td>\n",
       "      <td>None</td>\n",
       "      <td>None</td>\n",
       "      <td>None</td>\n",
       "    </tr>\n",
       "  </tbody>\n",
       "</table>\n",
       "<p>7 rows × 1959820 columns</p>\n",
       "</div>"
      ],
      "text/plain": [
       "                                                    0        \\\n",
       "PlayPodcastIntent                        continue the forum   \n",
       "PodcastOnlyIntent                                 the forum   \n",
       "PlayRadioIntent                     play b. b. c. radio one   \n",
       "RadioOnlyIntent                          b. b. c. radio one   \n",
       "WhatsPlayingIntent                        who is this d. j.   \n",
       "WhatsPlayingTitleAndSynopsisIntent       what this is about   \n",
       "WhatStationIsPlayingIntent             what is this station   \n",
       "\n",
       "                                                                 1        \\\n",
       "PlayPodcastIntent                   continue the forum bbc world service   \n",
       "PodcastOnlyIntent                            the forum bbc world service   \n",
       "PlayRadioIntent                                           play radio one   \n",
       "RadioOnlyIntent                                                radio one   \n",
       "WhatsPlayingIntent                              tell me who the d. j. is   \n",
       "WhatsPlayingTitleAndSynopsisIntent          what this programme is about   \n",
       "WhatStationIsPlayingIntent                          what channel is this   \n",
       "\n",
       "                                                                 2        \\\n",
       "PlayPodcastIntent                   continue bbc world service the forum   \n",
       "PodcastOnlyIntent                            bbc world service the forum   \n",
       "PlayRadioIntent                                       play bbc radio one   \n",
       "RadioOnlyIntent                                            bbc radio one   \n",
       "WhatsPlayingIntent                                      what's this song   \n",
       "WhatsPlayingTitleAndSynopsisIntent          what is this programme about   \n",
       "WhatStationIsPlayingIntent                                  what channel   \n",
       "\n",
       "                                                                      3        \\\n",
       "PlayPodcastIntent                   continue the forum from bbc world service   \n",
       "PodcastOnlyIntent                            the forum from bbc world service   \n",
       "PlayRadioIntent                                 play b. b. c. radio one extra   \n",
       "RadioOnlyIntent                                      b. b. c. radio one extra   \n",
       "WhatsPlayingIntent                                          what song is this   \n",
       "WhatsPlayingTitleAndSynopsisIntent                                       None   \n",
       "WhatStationIsPlayingIntent                     what station I am listening to   \n",
       "\n",
       "                                                                    4        \\\n",
       "PlayPodcastIntent                   continue the forum on bbc world service   \n",
       "PodcastOnlyIntent                            the forum on bbc world service   \n",
       "PlayRadioIntent                                    play bbc radio one extra   \n",
       "RadioOnlyIntent                                         bbc radio one extra   \n",
       "WhatsPlayingIntent                                        what tune is this   \n",
       "WhatsPlayingTitleAndSynopsisIntent                                     None   \n",
       "WhatStationIsPlayingIntent                             what station this is   \n",
       "\n",
       "                                                         5        \\\n",
       "PlayPodcastIntent                   continue bbc world the forum   \n",
       "PodcastOnlyIntent                            bbc world the forum   \n",
       "PlayRadioIntent                                   play one extra   \n",
       "RadioOnlyIntent                                        one extra   \n",
       "WhatsPlayingIntent                          what song is playing   \n",
       "WhatsPlayingTitleAndSynopsisIntent                          None   \n",
       "WhatStationIsPlayingIntent                          what station   \n",
       "\n",
       "                                                                      6        \\\n",
       "PlayPodcastIntent                   continue the forum b. b. c. world service   \n",
       "PodcastOnlyIntent                            the forum b. b. c. world service   \n",
       "PlayRadioIntent                                          play radio one extra   \n",
       "RadioOnlyIntent                                               radio one extra   \n",
       "WhatsPlayingIntent                             what song is playing right now   \n",
       "WhatsPlayingTitleAndSynopsisIntent                                       None   \n",
       "WhatStationIsPlayingIntent               what radio station I am listening to   \n",
       "\n",
       "                                                                      7        \\\n",
       "PlayPodcastIntent                   continue b. b. c. world service the forum   \n",
       "PodcastOnlyIntent                            b. b. c. world service the forum   \n",
       "PlayRadioIntent                                                 play one xtra   \n",
       "RadioOnlyIntent                                                      one xtra   \n",
       "WhatsPlayingIntent                                          what this song is   \n",
       "WhatsPlayingTitleAndSynopsisIntent                                       None   \n",
       "WhatStationIsPlayingIntent                         what radio station this is   \n",
       "\n",
       "                                                                           8        \\\n",
       "PlayPodcastIntent                   continue the forum from b. b. c. world service   \n",
       "PodcastOnlyIntent                            the forum from b. b. c. world service   \n",
       "PlayRadioIntent                                                play radio one xtra   \n",
       "RadioOnlyIntent                                                     radio one xtra   \n",
       "WhatsPlayingIntent                                          what the song title is   \n",
       "WhatsPlayingTitleAndSynopsisIntent                                            None   \n",
       "WhatStationIsPlayingIntent                                      what radio station   \n",
       "\n",
       "                                                                         9        \\\n",
       "PlayPodcastIntent                   continue the forum on b. b. c. world service   \n",
       "PodcastOnlyIntent                            the forum on b. b. c. world service   \n",
       "PlayRadioIntent                                          play bbc radio one xtra   \n",
       "RadioOnlyIntent                                               bbc radio one xtra   \n",
       "WhatsPlayingIntent                                                   who this is   \n",
       "WhatsPlayingTitleAndSynopsisIntent                                          None   \n",
       "WhatStationIsPlayingIntent                                                  None   \n",
       "\n",
       "                                    ...  \\\n",
       "PlayPodcastIntent                   ...   \n",
       "PodcastOnlyIntent                   ...   \n",
       "PlayRadioIntent                     ...   \n",
       "RadioOnlyIntent                     ...   \n",
       "WhatsPlayingIntent                  ...   \n",
       "WhatsPlayingTitleAndSynopsisIntent  ...   \n",
       "WhatStationIsPlayingIntent          ...   \n",
       "\n",
       "                                                                              1959810  \\\n",
       "PlayPodcastIntent                   activate podcast the reith lectures archive ni...   \n",
       "PodcastOnlyIntent                                                                None   \n",
       "PlayRadioIntent                                                                  None   \n",
       "RadioOnlyIntent                                                                  None   \n",
       "WhatsPlayingIntent                                                               None   \n",
       "WhatsPlayingTitleAndSynopsisIntent                                               None   \n",
       "WhatStationIsPlayingIntent                                                       None   \n",
       "\n",
       "                                                                              1959811  \\\n",
       "PlayPodcastIntent                   activate podcast the reith lectures archive ni...   \n",
       "PodcastOnlyIntent                                                                None   \n",
       "PlayRadioIntent                                                                  None   \n",
       "RadioOnlyIntent                                                                  None   \n",
       "WhatsPlayingIntent                                                               None   \n",
       "WhatsPlayingTitleAndSynopsisIntent                                               None   \n",
       "WhatStationIsPlayingIntent                                                       None   \n",
       "\n",
       "                                                                              1959812  \\\n",
       "PlayPodcastIntent                   activate podcast bbc radio four the reith lect...   \n",
       "PodcastOnlyIntent                                                                None   \n",
       "PlayRadioIntent                                                                  None   \n",
       "RadioOnlyIntent                                                                  None   \n",
       "WhatsPlayingIntent                                                               None   \n",
       "WhatsPlayingTitleAndSynopsisIntent                                               None   \n",
       "WhatStationIsPlayingIntent                                                       None   \n",
       "\n",
       "                                                                              1959813  \\\n",
       "PlayPodcastIntent                   activate podcast the reith lectures archive ni...   \n",
       "PodcastOnlyIntent                                                                None   \n",
       "PlayRadioIntent                                                                  None   \n",
       "RadioOnlyIntent                                                                  None   \n",
       "WhatsPlayingIntent                                                               None   \n",
       "WhatsPlayingTitleAndSynopsisIntent                                               None   \n",
       "WhatStationIsPlayingIntent                                                       None   \n",
       "\n",
       "                                                                              1959814  \\\n",
       "PlayPodcastIntent                   activate podcast b. b. c. radio four the reith...   \n",
       "PodcastOnlyIntent                                                                None   \n",
       "PlayRadioIntent                                                                  None   \n",
       "RadioOnlyIntent                                                                  None   \n",
       "WhatsPlayingIntent                                                               None   \n",
       "WhatsPlayingTitleAndSynopsisIntent                                               None   \n",
       "WhatStationIsPlayingIntent                                                       None   \n",
       "\n",
       "                                                                              1959815  \\\n",
       "PlayPodcastIntent                   activate podcast letter from america by alista...   \n",
       "PodcastOnlyIntent                                                                None   \n",
       "PlayRadioIntent                                                                  None   \n",
       "RadioOnlyIntent                                                                  None   \n",
       "WhatsPlayingIntent                                                               None   \n",
       "WhatsPlayingTitleAndSynopsisIntent                                               None   \n",
       "WhatStationIsPlayingIntent                                                       None   \n",
       "\n",
       "                                                                              1959816  \\\n",
       "PlayPodcastIntent                   activate podcast letter from america by alista...   \n",
       "PodcastOnlyIntent                                                                None   \n",
       "PlayRadioIntent                                                                  None   \n",
       "RadioOnlyIntent                                                                  None   \n",
       "WhatsPlayingIntent                                                               None   \n",
       "WhatsPlayingTitleAndSynopsisIntent                                               None   \n",
       "WhatStationIsPlayingIntent                                                       None   \n",
       "\n",
       "                                                                              1959817  \\\n",
       "PlayPodcastIntent                   activate podcast bbc radio four letter from am...   \n",
       "PodcastOnlyIntent                                                                None   \n",
       "PlayRadioIntent                                                                  None   \n",
       "RadioOnlyIntent                                                                  None   \n",
       "WhatsPlayingIntent                                                               None   \n",
       "WhatsPlayingTitleAndSynopsisIntent                                               None   \n",
       "WhatStationIsPlayingIntent                                                       None   \n",
       "\n",
       "                                                                              1959818  \\\n",
       "PlayPodcastIntent                   activate podcast letter from america by alista...   \n",
       "PodcastOnlyIntent                                                                None   \n",
       "PlayRadioIntent                                                                  None   \n",
       "RadioOnlyIntent                                                                  None   \n",
       "WhatsPlayingIntent                                                               None   \n",
       "WhatsPlayingTitleAndSynopsisIntent                                               None   \n",
       "WhatStationIsPlayingIntent                                                       None   \n",
       "\n",
       "                                                                              1959819  \n",
       "PlayPodcastIntent                   activate podcast b. b. c. radio four letter fr...  \n",
       "PodcastOnlyIntent                                                                None  \n",
       "PlayRadioIntent                                                                  None  \n",
       "RadioOnlyIntent                                                                  None  \n",
       "WhatsPlayingIntent                                                               None  \n",
       "WhatsPlayingTitleAndSynopsisIntent                                               None  \n",
       "WhatStationIsPlayingIntent                                                       None  \n",
       "\n",
       "[7 rows x 1959820 columns]"
      ]
     },
     "execution_count": 4,
     "metadata": {},
     "output_type": "execute_result"
    }
   ],
   "source": [
    "data"
   ]
  },
  {
   "cell_type": "code",
   "execution_count": 5,
   "metadata": {},
   "outputs": [
    {
     "data": {
      "text/plain": [
       "'continue darryl morris b. b. c. radio manchester'"
      ]
     },
     "execution_count": 5,
     "metadata": {},
     "output_type": "execute_result"
    }
   ],
   "source": [
    "data.at['PlayPodcastIntent', 6374]"
   ]
  },
  {
   "cell_type": "code",
   "execution_count": 6,
   "metadata": {},
   "outputs": [
    {
     "data": {
      "text/plain": [
       "0                    what is this station\n",
       "1                    what channel is this\n",
       "2                            what channel\n",
       "3          what station I am listening to\n",
       "4                    what station this is\n",
       "                        ...              \n",
       "1959815                              None\n",
       "1959816                              None\n",
       "1959817                              None\n",
       "1959818                              None\n",
       "1959819                              None\n",
       "Name: WhatStationIsPlayingIntent, Length: 1959820, dtype: object"
      ]
     },
     "execution_count": 6,
     "metadata": {},
     "output_type": "execute_result"
    }
   ],
   "source": [
    "data.loc['WhatStationIsPlayingIntent']"
   ]
  },
  {
   "cell_type": "code",
   "execution_count": 7,
   "metadata": {},
   "outputs": [
    {
     "data": {
      "text/plain": [
       "0                                         continue the forum\n",
       "1                       continue the forum bbc world service\n",
       "2                       continue bbc world service the forum\n",
       "3                  continue the forum from bbc world service\n",
       "4                    continue the forum on bbc world service\n",
       "                                 ...                        \n",
       "1959815    activate podcast letter from america by alista...\n",
       "1959816    activate podcast letter from america by alista...\n",
       "1959817    activate podcast bbc radio four letter from am...\n",
       "1959818    activate podcast letter from america by alista...\n",
       "1959819    activate podcast b. b. c. radio four letter fr...\n",
       "Name: PlayPodcastIntent, Length: 1959820, dtype: object"
      ]
     },
     "execution_count": 7,
     "metadata": {},
     "output_type": "execute_result"
    }
   ],
   "source": [
    "data.loc['PlayPodcastIntent']"
   ]
  },
  {
   "cell_type": "code",
   "execution_count": 8,
   "metadata": {},
   "outputs": [
    {
     "data": {
      "text/plain": [
       "'activate podcast b. b. c. radio four letter from america by alistair cooke the early years (1940s 1950s and 1960s)'"
      ]
     },
     "execution_count": 8,
     "metadata": {},
     "output_type": "execute_result"
    }
   ],
   "source": [
    "data.at['PlayPodcastIntent', 1959819]"
   ]
  },
  {
   "cell_type": "code",
   "execution_count": 9,
   "metadata": {},
   "outputs": [
    {
     "data": {
      "text/plain": [
       "'activate podcast letter from america by alistair cooke the early years (1940s 1950s and 1960s) b. b. c. radio four'"
      ]
     },
     "execution_count": 9,
     "metadata": {},
     "output_type": "execute_result"
    }
   ],
   "source": [
    "data.at['PlayPodcastIntent', 1959818]"
   ]
  },
  {
   "cell_type": "code",
   "execution_count": 24,
   "metadata": {},
   "outputs": [],
   "source": [
    "sentenceWithPunc=data.at['PlayPodcastIntent', 1959817]"
   ]
  },
  {
   "cell_type": "code",
   "execution_count": 12,
   "metadata": {},
   "outputs": [
    {
     "data": {
      "text/plain": [
       "(7, 1959820)"
      ]
     },
     "execution_count": 12,
     "metadata": {},
     "output_type": "execute_result"
    }
   ],
   "source": [
    "data.shape"
   ]
  },
  {
   "cell_type": "code",
   "execution_count": 18,
   "metadata": {},
   "outputs": [
    {
     "name": "stderr",
     "output_type": "stream",
     "text": [
      "[nltk_data] Downloading package stopwords to\n",
      "[nltk_data]     /Users/leives01/nltk_data...\n",
      "[nltk_data]   Unzipping corpora/stopwords.zip.\n"
     ]
    },
    {
     "data": {
      "text/plain": [
       "True"
      ]
     },
     "execution_count": 18,
     "metadata": {},
     "output_type": "execute_result"
    }
   ],
   "source": [
    "import nltk\n",
    "nltk.download('stopwords')"
   ]
  },
  {
   "cell_type": "code",
   "execution_count": 21,
   "metadata": {},
   "outputs": [],
   "source": [
    "from string import punctuation\n",
    "from nltk.corpus import stopwords"
   ]
  },
  {
   "cell_type": "code",
   "execution_count": 23,
   "metadata": {},
   "outputs": [],
   "source": [
    "stopwords=set(stopwords.words('english')+list(punctuation))"
   ]
  },
  {
   "cell_type": "code",
   "execution_count": 31,
   "metadata": {},
   "outputs": [],
   "source": [
    "from nltk.tokenize import word_tokenize"
   ]
  },
  {
   "cell_type": "code",
   "execution_count": 32,
   "metadata": {},
   "outputs": [
    {
     "data": {
      "text/plain": [
       "['activate',\n",
       " 'podcast',\n",
       " 'bbc',\n",
       " 'radio',\n",
       " 'four',\n",
       " 'letter',\n",
       " 'america',\n",
       " 'alistair',\n",
       " 'cooke',\n",
       " 'early',\n",
       " 'years',\n",
       " '1940s',\n",
       " '1950s',\n",
       " '1960s']"
      ]
     },
     "execution_count": 32,
     "metadata": {},
     "output_type": "execute_result"
    }
   ],
   "source": [
    "[word for word in word_tokenize(sentenceWithPunc) if word not in stopwords]"
   ]
  },
  {
   "cell_type": "markdown",
   "metadata": {},
   "source": [
    "[term frequency–inverse document frequency](https://en.wikipedia.org/wiki/Tf%E2%80%93idf) \n",
    "\n",
    "... is a numerical statistic that is intended to reflect how important a word is to a document in a collection or corpus.[1] It is often used as a weighting factor in searches of information retrieval, text mining, and user modeling. The tf–idf value increases proportionally to the number of times a word appears in the document and is offset by the number of documents in the corpus that contain the word, which helps to adjust for the fact that some words appear more frequently in general. tf–idf is one of the most popular term-weighting schemes today; 83% of text-based recommender systems in digital libraries use tf–idf."
   ]
  },
  {
   "cell_type": "code",
   "execution_count": 36,
   "metadata": {},
   "outputs": [],
   "source": [
    "import sklearn\n",
    "from sklearn.feature_extraction.text import TfidfVectorizer"
   ]
  },
  {
   "cell_type": "code",
   "execution_count": 38,
   "metadata": {},
   "outputs": [],
   "source": [
    "vectorizer=TfidfVectorizer(max_df=0.5,min_df=2,stop_words=stopwords)"
   ]
  },
  {
   "cell_type": "code",
   "execution_count": 61,
   "metadata": {},
   "outputs": [],
   "source": [
    "# using the sklearn built in stop_words for english seems to be better. \n",
    "vectorizer2=TfidfVectorizer(max_df=0.5,min_df=2,stop_words='english')"
   ]
  },
  {
   "cell_type": "code",
   "execution_count": 53,
   "metadata": {},
   "outputs": [],
   "source": [
    "X = vectorizer.fit_transform(training_data_json['PodcastOnlyIntent'])"
   ]
  },
  {
   "cell_type": "code",
   "execution_count": 59,
   "metadata": {},
   "outputs": [],
   "source": [
    "X2 = vectorizer2.fit_transform(training_data_json['PodcastOnlyIntent'])"
   ]
  },
  {
   "cell_type": "code",
   "execution_count": 54,
   "metadata": {},
   "outputs": [
    {
     "data": {
      "text/plain": [
       "<17980x3620 sparse matrix of type '<class 'numpy.float64'>'\n",
       "\twith 68359 stored elements in Compressed Sparse Row format>"
      ]
     },
     "execution_count": 54,
     "metadata": {},
     "output_type": "execute_result"
    }
   ],
   "source": [
    "X"
   ]
  },
  {
   "cell_type": "code",
   "execution_count": 60,
   "metadata": {},
   "outputs": [
    {
     "data": {
      "text/plain": [
       "<17980x3542 sparse matrix of type '<class 'numpy.float64'>'\n",
       "\twith 61060 stored elements in Compressed Sparse Row format>"
      ]
     },
     "execution_count": 60,
     "metadata": {},
     "output_type": "execute_result"
    }
   ],
   "source": [
    "X2"
   ]
  },
  {
   "cell_type": "code",
   "execution_count": 64,
   "metadata": {},
   "outputs": [
    {
     "name": "stdout",
     "output_type": "stream",
     "text": [
      "  (0, 2013)\t0.4110582020789968\n",
      "  (0, 2080)\t0.4494588993784889\n",
      "  (0, 2920)\t0.6404569092481525\n",
      "  (0, 3209)\t0.46779568154202095\n"
     ]
    }
   ],
   "source": [
    "print(X2[30])"
   ]
  },
  {
   "cell_type": "markdown",
   "metadata": {},
   "source": [
    "## Working with the CSV file instead"
   ]
  },
  {
   "cell_type": "code",
   "execution_count": 5,
   "metadata": {},
   "outputs": [],
   "source": [
    "import pandas as pd"
   ]
  },
  {
   "cell_type": "code",
   "execution_count": 6,
   "metadata": {},
   "outputs": [],
   "source": [
    "intents_df = pd.read_csv('./data/training-data.csv')"
   ]
  },
  {
   "cell_type": "code",
   "execution_count": 7,
   "metadata": {},
   "outputs": [
    {
     "data": {
      "text/html": [
       "<div>\n",
       "<style scoped>\n",
       "    .dataframe tbody tr th:only-of-type {\n",
       "        vertical-align: middle;\n",
       "    }\n",
       "\n",
       "    .dataframe tbody tr th {\n",
       "        vertical-align: top;\n",
       "    }\n",
       "\n",
       "    .dataframe thead th {\n",
       "        text-align: right;\n",
       "    }\n",
       "</style>\n",
       "<table border=\"1\" class=\"dataframe\">\n",
       "  <thead>\n",
       "    <tr style=\"text-align: right;\">\n",
       "      <th></th>\n",
       "      <th>Intent</th>\n",
       "      <th>Utterance</th>\n",
       "    </tr>\n",
       "  </thead>\n",
       "  <tbody>\n",
       "    <tr>\n",
       "      <td>0</td>\n",
       "      <td>PlayPodcastIntent</td>\n",
       "      <td>continue the forum</td>\n",
       "    </tr>\n",
       "    <tr>\n",
       "      <td>1</td>\n",
       "      <td>PlayPodcastIntent</td>\n",
       "      <td>continue the forum bbc world service</td>\n",
       "    </tr>\n",
       "    <tr>\n",
       "      <td>2</td>\n",
       "      <td>PlayPodcastIntent</td>\n",
       "      <td>continue bbc world service the forum</td>\n",
       "    </tr>\n",
       "    <tr>\n",
       "      <td>3</td>\n",
       "      <td>PlayPodcastIntent</td>\n",
       "      <td>continue the forum from bbc world service</td>\n",
       "    </tr>\n",
       "    <tr>\n",
       "      <td>4</td>\n",
       "      <td>PlayPodcastIntent</td>\n",
       "      <td>continue the forum on bbc world service</td>\n",
       "    </tr>\n",
       "  </tbody>\n",
       "</table>\n",
       "</div>"
      ],
      "text/plain": [
       "              Intent                                  Utterance\n",
       "0  PlayPodcastIntent                         continue the forum\n",
       "1  PlayPodcastIntent       continue the forum bbc world service\n",
       "2  PlayPodcastIntent       continue bbc world service the forum\n",
       "3  PlayPodcastIntent  continue the forum from bbc world service\n",
       "4  PlayPodcastIntent    continue the forum on bbc world service"
      ]
     },
     "execution_count": 7,
     "metadata": {},
     "output_type": "execute_result"
    }
   ],
   "source": [
    "intents_df.head()"
   ]
  },
  {
   "cell_type": "code",
   "execution_count": 7,
   "metadata": {},
   "outputs": [
    {
     "data": {
      "text/plain": [
       "(1995053, 2)"
      ]
     },
     "execution_count": 7,
     "metadata": {},
     "output_type": "execute_result"
    }
   ],
   "source": [
    "intents_df.shape"
   ]
  },
  {
   "cell_type": "markdown",
   "metadata": {},
   "source": [
    "It is standard practice to split out a bit of the training data to test the model later. This is done with the sklearn `train_test_split`."
   ]
  },
  {
   "cell_type": "code",
   "execution_count": 9,
   "metadata": {},
   "outputs": [],
   "source": [
    "from sklearn.model_selection import train_test_split"
   ]
  },
  {
   "cell_type": "code",
   "execution_count": 8,
   "metadata": {},
   "outputs": [],
   "source": [
    "X = intents_df['Utterance'] # data to train from"
   ]
  },
  {
   "cell_type": "code",
   "execution_count": 9,
   "metadata": {},
   "outputs": [],
   "source": [
    "Y = intents_df['Intent'] # answers"
   ]
  },
  {
   "cell_type": "markdown",
   "metadata": {},
   "source": [
    "`train_test_split` shuffles the data for you."
   ]
  },
  {
   "cell_type": "code",
   "execution_count": 14,
   "metadata": {},
   "outputs": [],
   "source": [
    "x_train, x_test, y_train, y_test = train_test_split(X, Y, test_size=0.2) # 20% of data held for testing"
   ]
  },
  {
   "cell_type": "code",
   "execution_count": 15,
   "metadata": {},
   "outputs": [
    {
     "data": {
      "text/plain": [
       "((1596042,), (1596042,))"
      ]
     },
     "execution_count": 15,
     "metadata": {},
     "output_type": "execute_result"
    }
   ],
   "source": [
    "x_train.shape, y_train.shape"
   ]
  },
  {
   "cell_type": "code",
   "execution_count": 16,
   "metadata": {},
   "outputs": [
    {
     "data": {
      "text/plain": [
       "((399011,), (399011,))"
      ]
     },
     "execution_count": 16,
     "metadata": {},
     "output_type": "execute_result"
    }
   ],
   "source": [
    "x_test.shape, y_test.shape"
   ]
  },
  {
   "cell_type": "markdown",
   "metadata": {},
   "source": [
    "### Linear Regression"
   ]
  },
  {
   "cell_type": "code",
   "execution_count": 1,
   "metadata": {},
   "outputs": [],
   "source": [
    "from sklearn.linear_model import LogisticRegression"
   ]
  },
  {
   "cell_type": "code",
   "execution_count": 2,
   "metadata": {},
   "outputs": [
    {
     "name": "stdout",
     "output_type": "stream",
     "text": [
      "/bin/sh: -c: line 0: syntax error near unexpected token `('\r\n",
      "/bin/sh: -c: line 0: ` logistic_model = LogisticRegression(penalty='l2', C=1.0, solver='sag').fit(x_train, y_train)'\r\n"
     ]
    }
   ],
   "source": [
    "! logistic_model = LogisticRegression(penalty='l2', C=1.0, solver='sag').fit(x_train, y_train)"
   ]
  },
  {
   "cell_type": "markdown",
   "metadata": {},
   "source": [
    "From [youtube tutorial ](https://www.youtube.com/watch?v=5xDE06RRMFk)"
   ]
  },
  {
   "cell_type": "code",
   "execution_count": 3,
   "metadata": {},
   "outputs": [
    {
     "name": "stderr",
     "output_type": "stream",
     "text": [
      "[nltk_data] Downloading package stopwords to\n",
      "[nltk_data]     /Users/leives01/nltk_data...\n",
      "[nltk_data]   Package stopwords is already up-to-date!\n"
     ]
    }
   ],
   "source": [
    "import nltk\n",
    "nltk.download('stopwords')\n",
    "\n",
    "from string import punctuation\n",
    "from nltk.corpus import stopwords\n",
    "\n",
    "stopwords=set(stopwords.words('english')+list(punctuation))"
   ]
  },
  {
   "cell_type": "code",
   "execution_count": 11,
   "metadata": {},
   "outputs": [],
   "source": [
    "from nltk.tokenize import word_tokenize"
   ]
  },
  {
   "cell_type": "code",
   "execution_count": 24,
   "metadata": {},
   "outputs": [],
   "source": [
    "intents_df['processed_utterance'] = intents_df['Utterance'].apply(lambda x: ' '.join([word for word in word_tokenize(x) if word not in stopwords]))\n"
   ]
  },
  {
   "cell_type": "code",
   "execution_count": 25,
   "metadata": {},
   "outputs": [
    {
     "data": {
      "text/html": [
       "<div>\n",
       "<style scoped>\n",
       "    .dataframe tbody tr th:only-of-type {\n",
       "        vertical-align: middle;\n",
       "    }\n",
       "\n",
       "    .dataframe tbody tr th {\n",
       "        vertical-align: top;\n",
       "    }\n",
       "\n",
       "    .dataframe thead th {\n",
       "        text-align: right;\n",
       "    }\n",
       "</style>\n",
       "<table border=\"1\" class=\"dataframe\">\n",
       "  <thead>\n",
       "    <tr style=\"text-align: right;\">\n",
       "      <th></th>\n",
       "      <th>Intent</th>\n",
       "      <th>Utterance</th>\n",
       "      <th>processed_utterance</th>\n",
       "    </tr>\n",
       "  </thead>\n",
       "  <tbody>\n",
       "    <tr>\n",
       "      <td>0</td>\n",
       "      <td>PlayPodcastIntent</td>\n",
       "      <td>continue the forum</td>\n",
       "      <td>continue forum</td>\n",
       "    </tr>\n",
       "    <tr>\n",
       "      <td>1</td>\n",
       "      <td>PlayPodcastIntent</td>\n",
       "      <td>continue the forum bbc world service</td>\n",
       "      <td>continue forum bbc world service</td>\n",
       "    </tr>\n",
       "    <tr>\n",
       "      <td>2</td>\n",
       "      <td>PlayPodcastIntent</td>\n",
       "      <td>continue bbc world service the forum</td>\n",
       "      <td>continue bbc world service forum</td>\n",
       "    </tr>\n",
       "    <tr>\n",
       "      <td>3</td>\n",
       "      <td>PlayPodcastIntent</td>\n",
       "      <td>continue the forum from bbc world service</td>\n",
       "      <td>continue forum bbc world service</td>\n",
       "    </tr>\n",
       "    <tr>\n",
       "      <td>4</td>\n",
       "      <td>PlayPodcastIntent</td>\n",
       "      <td>continue the forum on bbc world service</td>\n",
       "      <td>continue forum bbc world service</td>\n",
       "    </tr>\n",
       "  </tbody>\n",
       "</table>\n",
       "</div>"
      ],
      "text/plain": [
       "              Intent                                  Utterance  \\\n",
       "0  PlayPodcastIntent                         continue the forum   \n",
       "1  PlayPodcastIntent       continue the forum bbc world service   \n",
       "2  PlayPodcastIntent       continue bbc world service the forum   \n",
       "3  PlayPodcastIntent  continue the forum from bbc world service   \n",
       "4  PlayPodcastIntent    continue the forum on bbc world service   \n",
       "\n",
       "                processed_utterance  \n",
       "0                    continue forum  \n",
       "1  continue forum bbc world service  \n",
       "2  continue bbc world service forum  \n",
       "3  continue forum bbc world service  \n",
       "4  continue forum bbc world service  "
      ]
     },
     "execution_count": 25,
     "metadata": {},
     "output_type": "execute_result"
    }
   ],
   "source": [
    "intents_df.head()"
   ]
  },
  {
   "cell_type": "code",
   "execution_count": 26,
   "metadata": {},
   "outputs": [
    {
     "data": {
      "text/html": [
       "<div>\n",
       "<style scoped>\n",
       "    .dataframe tbody tr th:only-of-type {\n",
       "        vertical-align: middle;\n",
       "    }\n",
       "\n",
       "    .dataframe tbody tr th {\n",
       "        vertical-align: top;\n",
       "    }\n",
       "\n",
       "    .dataframe thead th {\n",
       "        text-align: right;\n",
       "    }\n",
       "</style>\n",
       "<table border=\"1\" class=\"dataframe\">\n",
       "  <thead>\n",
       "    <tr style=\"text-align: right;\">\n",
       "      <th></th>\n",
       "      <th>Intent</th>\n",
       "      <th>Utterance</th>\n",
       "      <th>processed_utterance</th>\n",
       "    </tr>\n",
       "  </thead>\n",
       "  <tbody>\n",
       "    <tr>\n",
       "      <td>1995048</td>\n",
       "      <td>WhatStationIsPlayingIntent</td>\n",
       "      <td>what station this is</td>\n",
       "      <td>station</td>\n",
       "    </tr>\n",
       "    <tr>\n",
       "      <td>1995049</td>\n",
       "      <td>WhatStationIsPlayingIntent</td>\n",
       "      <td>what station</td>\n",
       "      <td>station</td>\n",
       "    </tr>\n",
       "    <tr>\n",
       "      <td>1995050</td>\n",
       "      <td>WhatStationIsPlayingIntent</td>\n",
       "      <td>what radio station I am listening to</td>\n",
       "      <td>radio station I listening</td>\n",
       "    </tr>\n",
       "    <tr>\n",
       "      <td>1995051</td>\n",
       "      <td>WhatStationIsPlayingIntent</td>\n",
       "      <td>what radio station this is</td>\n",
       "      <td>radio station</td>\n",
       "    </tr>\n",
       "    <tr>\n",
       "      <td>1995052</td>\n",
       "      <td>WhatStationIsPlayingIntent</td>\n",
       "      <td>what radio station</td>\n",
       "      <td>radio station</td>\n",
       "    </tr>\n",
       "  </tbody>\n",
       "</table>\n",
       "</div>"
      ],
      "text/plain": [
       "                             Intent                             Utterance  \\\n",
       "1995048  WhatStationIsPlayingIntent                  what station this is   \n",
       "1995049  WhatStationIsPlayingIntent                          what station   \n",
       "1995050  WhatStationIsPlayingIntent  what radio station I am listening to   \n",
       "1995051  WhatStationIsPlayingIntent            what radio station this is   \n",
       "1995052  WhatStationIsPlayingIntent                    what radio station   \n",
       "\n",
       "               processed_utterance  \n",
       "1995048                    station  \n",
       "1995049                    station  \n",
       "1995050  radio station I listening  \n",
       "1995051              radio station  \n",
       "1995052              radio station  "
      ]
     },
     "execution_count": 26,
     "metadata": {},
     "output_type": "execute_result"
    }
   ],
   "source": [
    "intents_df.tail()"
   ]
  },
  {
   "cell_type": "code",
   "execution_count": 27,
   "metadata": {},
   "outputs": [
    {
     "data": {
      "text/plain": [
       "0                           continue the forum\n",
       "1         continue the forum bbc world service\n",
       "2         continue bbc world service the forum\n",
       "3    continue the forum from bbc world service\n",
       "4      continue the forum on bbc world service\n",
       "Name: Utterance, dtype: object"
      ]
     },
     "execution_count": 27,
     "metadata": {},
     "output_type": "execute_result"
    }
   ],
   "source": [
    "intents_df.Utterance.head()"
   ]
  },
  {
   "cell_type": "code",
   "execution_count": 29,
   "metadata": {},
   "outputs": [
    {
     "data": {
      "text/plain": [
       "(1995053, 3)"
      ]
     },
     "execution_count": 29,
     "metadata": {},
     "output_type": "execute_result"
    }
   ],
   "source": [
    "intents_df.shape"
   ]
  },
  {
   "cell_type": "code",
   "execution_count": 30,
   "metadata": {},
   "outputs": [],
   "source": [
    "from sklearn.model_selection import train_test_split"
   ]
  },
  {
   "cell_type": "code",
   "execution_count": 31,
   "metadata": {},
   "outputs": [],
   "source": [
    "X = intents_df['processed_utterance'] # data to train from\n",
    "Y = intents_df['Intent'] # answers"
   ]
  },
  {
   "cell_type": "code",
   "execution_count": 32,
   "metadata": {},
   "outputs": [],
   "source": [
    "x_train, x_test, y_train, y_test = train_test_split(X, Y, test_size=0.2) # 20% of data held for testing"
   ]
  },
  {
   "cell_type": "code",
   "execution_count": 41,
   "metadata": {},
   "outputs": [],
   "source": [
    "from sklearn.feature_extraction.text import TfidfVectorizer\n",
    "#creates the bag of words matrix and tfidf vectorizer in one method call\n",
    "\n",
    "from sklearn.pipeline import Pipeline\n",
    "from sklearn.feature_selection import SelectKBest, chi2\n",
    "from sklearn.svm import LinearSVC"
   ]
  },
  {
   "cell_type": "code",
   "execution_count": 45,
   "metadata": {},
   "outputs": [],
   "source": [
    "pipeline = Pipeline([('vect', TfidfVectorizer(ngram_range=(1,2), sublinear_tf=True)),\n",
    "                     ('chi', SelectKBest(chi2, k=10000)),\n",
    "                     ('clf', LinearSVC(C=1.0, penalty='l1', max_iter=10000, dual=False))])"
   ]
  },
  {
   "cell_type": "code",
   "execution_count": 46,
   "metadata": {},
   "outputs": [],
   "source": [
    "model = pipeline.fit(x_train, y_train)"
   ]
  },
  {
   "cell_type": "code",
   "execution_count": 47,
   "metadata": {},
   "outputs": [],
   "source": [
    "vectorizer = model.named_steps['vect']\n",
    "chi = model.named_steps['chi']\n",
    "clf = model.named_steps['clf']"
   ]
  },
  {
   "cell_type": "code",
   "execution_count": 48,
   "metadata": {},
   "outputs": [],
   "source": [
    "import numpy as np"
   ]
  },
  {
   "cell_type": "code",
   "execution_count": 50,
   "metadata": {},
   "outputs": [],
   "source": [
    "feature_names = vectorizer.get_feature_names()\n",
    "feature_names = [feature_names[i] for i in chi.get_support(indices=True)]\n",
    "feature_names = np.asarray(feature_names)"
   ]
  },
  {
   "cell_type": "code",
   "execution_count": 63,
   "metadata": {},
   "outputs": [],
   "source": [
    "\n",
    "target_names = [ 'PlayRadioIntent', 'RadioOnlyIntent', 'PlayPodcastIntent', 'PodcastOnlyIntent', 'WhatStationIsPlayingIntent', 'WhatsPlayingIntent', 'WhatsPlayingTitleAndSynopsisIntent']\n",
    "\n"
   ]
  },
  {
   "cell_type": "code",
   "execution_count": 64,
   "metadata": {},
   "outputs": [
    {
     "name": "stdout",
     "output_type": "stream",
     "text": [
      "PlayRadioIntent: listen hear start begin play please launch resume continue podcast\n",
      "RadioOnlyIntent: gaidheal counties midlands cwr sports extra coventry five shropshire leicester derby\n",
      "PlayPodcastIntent: get job crowther gardening global news radio hour naked podcast fresh start early start let get young reporter listen play\n",
      "PodcastOnlyIntent: midlands cambridge southampton 3cr cymru gaidheal asian network somerset worcester radio\n",
      "WhatStationIsPlayingIntent: get nottingham get noughties get one get oxford get physical get please get norfolk òrain mhòra channel station\n",
      "WhatsPlayingIntent: show singing artist listening singer song playing song playing title singing right\n",
      "WhatsPlayingTitleAndSynopsisIntent: get northampton get noughties get one get oxford get physical get please get podcast get nottingham òrain mhòra programme\n"
     ]
    }
   ],
   "source": [
    "# top 10 keywords per class\n",
    "for i, label in enumerate(target_names):\n",
    "    top10 = np.argsort(clf.coef_[i])[-10:]\n",
    "    print('%s: %s' %(label, ' '.join(feature_names[top10])))"
   ]
  },
  {
   "cell_type": "code",
   "execution_count": 53,
   "metadata": {},
   "outputs": [
    {
     "data": {
      "text/plain": [
       "0.9989173230813185"
      ]
     },
     "execution_count": 53,
     "metadata": {},
     "output_type": "execute_result"
    }
   ],
   "source": [
    "#accuracy score\n",
    "model.score(x_test, y_test)"
   ]
  },
  {
   "cell_type": "code",
   "execution_count": 54,
   "metadata": {},
   "outputs": [
    {
     "data": {
      "text/plain": [
       "array(['PlayPodcastIntent'], dtype=object)"
      ]
     },
     "execution_count": 54,
     "metadata": {},
     "output_type": "execute_result"
    }
   ],
   "source": [
    "model.predict(['can i listen to the new bbc womens show'])"
   ]
  },
  {
   "cell_type": "code",
   "execution_count": 56,
   "metadata": {},
   "outputs": [
    {
     "data": {
      "text/plain": [
       "array(['PlayPodcastIntent'], dtype=object)"
      ]
     },
     "execution_count": 56,
     "metadata": {},
     "output_type": "execute_result"
    }
   ],
   "source": [
    "model.predict(['i want to listen to bbc radio four'])"
   ]
  },
  {
   "cell_type": "code",
   "execution_count": 57,
   "metadata": {},
   "outputs": [
    {
     "data": {
      "text/plain": [
       "array(['PlayPodcastIntent'], dtype=object)"
      ]
     },
     "execution_count": 57,
     "metadata": {},
     "output_type": "execute_result"
    }
   ],
   "source": [
    "model.predict(['listen to bbc radio four'])"
   ]
  },
  {
   "cell_type": "code",
   "execution_count": 58,
   "metadata": {},
   "outputs": [
    {
     "data": {
      "text/plain": [
       "array(['PlayPodcastIntent'], dtype=object)"
      ]
     },
     "execution_count": 58,
     "metadata": {},
     "output_type": "execute_result"
    }
   ],
   "source": [
    "model.predict(['can you play bbc radio four'])"
   ]
  },
  {
   "cell_type": "code",
   "execution_count": 59,
   "metadata": {},
   "outputs": [
    {
     "data": {
      "text/plain": [
       "array(['PodcastOnlyIntent'], dtype=object)"
      ]
     },
     "execution_count": 59,
     "metadata": {},
     "output_type": "execute_result"
    }
   ],
   "source": [
    "model.predict(['bbc radio four'])"
   ]
  },
  {
   "cell_type": "code",
   "execution_count": 60,
   "metadata": {},
   "outputs": [
    {
     "data": {
      "text/plain": [
       "array(['PodcastOnlyIntent'], dtype=object)"
      ]
     },
     "execution_count": 60,
     "metadata": {},
     "output_type": "execute_result"
    }
   ],
   "source": [
    "model.predict(['what am i listening to'])"
   ]
  },
  {
   "cell_type": "code",
   "execution_count": 65,
   "metadata": {},
   "outputs": [
    {
     "data": {
      "text/plain": [
       "array(['WhatsPlayingIntent'], dtype=object)"
      ]
     },
     "execution_count": 65,
     "metadata": {},
     "output_type": "execute_result"
    }
   ],
   "source": [
    "model.predict(['what artist is singing'])"
   ]
  },
  {
   "cell_type": "code",
   "execution_count": null,
   "metadata": {},
   "outputs": [],
   "source": []
  }
 ],
 "metadata": {
  "kernelspec": {
   "display_name": "Python 3",
   "language": "python",
   "name": "python3"
  },
  "language_info": {
   "codemirror_mode": {
    "name": "ipython",
    "version": 3
   },
   "file_extension": ".py",
   "mimetype": "text/x-python",
   "name": "python",
   "nbconvert_exporter": "python",
   "pygments_lexer": "ipython3",
   "version": "3.7.4"
  }
 },
 "nbformat": 4,
 "nbformat_minor": 2
}
