{
 "cells": [
  {
   "cell_type": "markdown",
   "metadata": {},
   "source": [
    "# Classification"
   ]
  },
  {
   "cell_type": "markdown",
   "metadata": {},
   "source": [
    "## Creating a Test Set\n",
    "\n",
    "### Importing The Data\n",
    "I have created a JS script `createShuffledIntentsUtterancesEntitiesCsv.js`, that gives more information about each utterance. In addition to the intent and complete utterance, it has the entitiy and content ID if applicable. "
   ]
  },
  {
   "cell_type": "code",
   "execution_count": 1,
   "metadata": {},
   "outputs": [],
   "source": [
    "import pandas as pd"
   ]
  },
  {
   "cell_type": "code",
   "execution_count": 2,
   "metadata": {},
   "outputs": [],
   "source": [
    "df = pd.read_csv('./data/training-data-with-entities.csv')"
   ]
  },
  {
   "cell_type": "code",
   "execution_count": 3,
   "metadata": {},
   "outputs": [
    {
     "data": {
      "text/html": [
       "<div>\n",
       "<style scoped>\n",
       "    .dataframe tbody tr th:only-of-type {\n",
       "        vertical-align: middle;\n",
       "    }\n",
       "\n",
       "    .dataframe tbody tr th {\n",
       "        vertical-align: top;\n",
       "    }\n",
       "\n",
       "    .dataframe thead th {\n",
       "        text-align: right;\n",
       "    }\n",
       "</style>\n",
       "<table border=\"1\" class=\"dataframe\">\n",
       "  <thead>\n",
       "    <tr style=\"text-align: right;\">\n",
       "      <th></th>\n",
       "      <th>Intent</th>\n",
       "      <th>Utterance</th>\n",
       "      <th>Entitiy</th>\n",
       "      <th>Id</th>\n",
       "    </tr>\n",
       "  </thead>\n",
       "  <tbody>\n",
       "    <tr>\n",
       "      <td>0</td>\n",
       "      <td>PlayRadioIntent</td>\n",
       "      <td>start playing radio w. m. ninety five point six</td>\n",
       "      <td>radio w. m. ninety five point six</td>\n",
       "      <td>bbc_wm</td>\n",
       "    </tr>\n",
       "    <tr>\n",
       "      <td>1</td>\n",
       "      <td>PlayRadioIntent</td>\n",
       "      <td>start radio shropshire please</td>\n",
       "      <td>radio shropshire</td>\n",
       "      <td>bbc_radio_shropshire</td>\n",
       "    </tr>\n",
       "    <tr>\n",
       "      <td>2</td>\n",
       "      <td>PlayRadioIntent</td>\n",
       "      <td>let me listen to b. b. c. london please</td>\n",
       "      <td>b. b. c. london</td>\n",
       "      <td>bbc_london</td>\n",
       "    </tr>\n",
       "    <tr>\n",
       "      <td>3</td>\n",
       "      <td>PlayRadioIntent</td>\n",
       "      <td>find me wales radio</td>\n",
       "      <td>wales radio</td>\n",
       "      <td>bbc_radio_wales_fm</td>\n",
       "    </tr>\n",
       "    <tr>\n",
       "      <td>4</td>\n",
       "      <td>PlayRadioIntent</td>\n",
       "      <td>can I play b. b. c. york please</td>\n",
       "      <td>b. b. c. york</td>\n",
       "      <td>bbc_radio_york</td>\n",
       "    </tr>\n",
       "  </tbody>\n",
       "</table>\n",
       "</div>"
      ],
      "text/plain": [
       "            Intent                                        Utterance  \\\n",
       "0  PlayRadioIntent  start playing radio w. m. ninety five point six   \n",
       "1  PlayRadioIntent                    start radio shropshire please   \n",
       "2  PlayRadioIntent          let me listen to b. b. c. london please   \n",
       "3  PlayRadioIntent                              find me wales radio   \n",
       "4  PlayRadioIntent                  can I play b. b. c. york please   \n",
       "\n",
       "                             Entitiy                    Id  \n",
       "0  radio w. m. ninety five point six                bbc_wm  \n",
       "1                   radio shropshire  bbc_radio_shropshire  \n",
       "2                    b. b. c. london            bbc_london  \n",
       "3                        wales radio    bbc_radio_wales_fm  \n",
       "4                      b. b. c. york        bbc_radio_york  "
      ]
     },
     "execution_count": 3,
     "metadata": {},
     "output_type": "execute_result"
    }
   ],
   "source": [
    "df.head()"
   ]
  },
  {
   "cell_type": "code",
   "execution_count": 4,
   "metadata": {},
   "outputs": [
    {
     "data": {
      "text/html": [
       "<div>\n",
       "<style scoped>\n",
       "    .dataframe tbody tr th:only-of-type {\n",
       "        vertical-align: middle;\n",
       "    }\n",
       "\n",
       "    .dataframe tbody tr th {\n",
       "        vertical-align: top;\n",
       "    }\n",
       "\n",
       "    .dataframe thead th {\n",
       "        text-align: right;\n",
       "    }\n",
       "</style>\n",
       "<table border=\"1\" class=\"dataframe\">\n",
       "  <thead>\n",
       "    <tr style=\"text-align: right;\">\n",
       "      <th></th>\n",
       "      <th>Intent</th>\n",
       "      <th>Utterance</th>\n",
       "      <th>Entitiy</th>\n",
       "      <th>Id</th>\n",
       "    </tr>\n",
       "  </thead>\n",
       "  <tbody>\n",
       "    <tr>\n",
       "      <td>1976576</td>\n",
       "      <td>PlayPodcastIntent</td>\n",
       "      <td>start podcast five live science podcast bbc ra...</td>\n",
       "      <td>five live science podcast bbc radio five live</td>\n",
       "      <td>p02pc9ny</td>\n",
       "    </tr>\n",
       "    <tr>\n",
       "      <td>1976577</td>\n",
       "      <td>PlayPodcastIntent</td>\n",
       "      <td>let me hear bbc newcastle rebecca o'neill</td>\n",
       "      <td>bbc newcastle rebecca o'neill</td>\n",
       "      <td>p06nzv9h</td>\n",
       "    </tr>\n",
       "    <tr>\n",
       "      <td>1976578</td>\n",
       "      <td>PlayPodcastIntent</td>\n",
       "      <td>continue listening to bbc world service world ...</td>\n",
       "      <td>bbc world service world update</td>\n",
       "      <td>p007dhp8</td>\n",
       "    </tr>\n",
       "    <tr>\n",
       "      <td>1976579</td>\n",
       "      <td>PlayPodcastIntent</td>\n",
       "      <td>start playing the five faces of leonardo please</td>\n",
       "      <td>the five faces of leonardo</td>\n",
       "      <td>m0004l8g</td>\n",
       "    </tr>\n",
       "    <tr>\n",
       "      <td>1976580</td>\n",
       "      <td>PlayPodcastIntent</td>\n",
       "      <td>can I hear podcast b. b. c. radio cumbria joe ...</td>\n",
       "      <td>b. b. c. radio cumbria joe costin</td>\n",
       "      <td>p001d72n</td>\n",
       "    </tr>\n",
       "  </tbody>\n",
       "</table>\n",
       "</div>"
      ],
      "text/plain": [
       "                    Intent                                          Utterance  \\\n",
       "1976576  PlayPodcastIntent  start podcast five live science podcast bbc ra...   \n",
       "1976577  PlayPodcastIntent          let me hear bbc newcastle rebecca o'neill   \n",
       "1976578  PlayPodcastIntent  continue listening to bbc world service world ...   \n",
       "1976579  PlayPodcastIntent    start playing the five faces of leonardo please   \n",
       "1976580  PlayPodcastIntent  can I hear podcast b. b. c. radio cumbria joe ...   \n",
       "\n",
       "                                               Entitiy        Id  \n",
       "1976576  five live science podcast bbc radio five live  p02pc9ny  \n",
       "1976577                  bbc newcastle rebecca o'neill  p06nzv9h  \n",
       "1976578                 bbc world service world update  p007dhp8  \n",
       "1976579                     the five faces of leonardo  m0004l8g  \n",
       "1976580              b. b. c. radio cumbria joe costin  p001d72n  "
      ]
     },
     "execution_count": 4,
     "metadata": {},
     "output_type": "execute_result"
    }
   ],
   "source": [
    "df.tail()"
   ]
  },
  {
   "cell_type": "code",
   "execution_count": 5,
   "metadata": {},
   "outputs": [
    {
     "data": {
      "text/plain": [
       "(1976581, 4)"
      ]
     },
     "execution_count": 5,
     "metadata": {},
     "output_type": "execute_result"
    }
   ],
   "source": [
    "df.shape"
   ]
  },
  {
   "cell_type": "code",
   "execution_count": null,
   "metadata": {},
   "outputs": [],
   "source": [
    "df['Intent'].apply(pd.value_counts)"
   ]
  },
  {
   "cell_type": "markdown",
   "metadata": {},
   "source": [
    "There are far more examples of `PlayRadioIntent` and `PlayPodcastIntent` than the other intents. I am aware that this will undoubtedly affect the performance of the model."
   ]
  },
  {
   "cell_type": "markdown",
   "metadata": {},
   "source": [
    "### Creating a Stratified Training Set\n",
    "\n",
    "Stratified to ensure that the information going into the training set is proportional to the overall data."
   ]
  },
  {
   "cell_type": "code",
   "execution_count": 9,
   "metadata": {},
   "outputs": [],
   "source": [
    "from sklearn.model_selection import train_test_split"
   ]
  },
  {
   "cell_type": "code",
   "execution_count": 10,
   "metadata": {},
   "outputs": [],
   "source": [
    "X = df['Utterance']"
   ]
  },
  {
   "cell_type": "code",
   "execution_count": 11,
   "metadata": {},
   "outputs": [],
   "source": [
    "Y = df['Intent']"
   ]
  },
  {
   "cell_type": "markdown",
   "metadata": {},
   "source": [
    "Shuffle and split out 20% of the data to not be trained on at all."
   ]
  },
  {
   "cell_type": "code",
   "execution_count": 12,
   "metadata": {},
   "outputs": [],
   "source": [
    "x_in, x_out, y_in, y_out = train_test_split(X, Y, test_size=0.2, stratify=Y)"
   ]
  },
  {
   "cell_type": "code",
   "execution_count": 13,
   "metadata": {},
   "outputs": [
    {
     "data": {
      "text/plain": [
       "((1581264,), (1581264,))"
      ]
     },
     "execution_count": 13,
     "metadata": {},
     "output_type": "execute_result"
    }
   ],
   "source": [
    "x_in.shape, y_in.shape"
   ]
  },
  {
   "cell_type": "code",
   "execution_count": 14,
   "metadata": {},
   "outputs": [
    {
     "data": {
      "text/plain": [
       "((395317,), (395317,))"
      ]
     },
     "execution_count": 14,
     "metadata": {},
     "output_type": "execute_result"
    }
   ],
   "source": [
    "x_out.shape, y_out.shape"
   ]
  },
  {
   "cell_type": "code",
   "execution_count": 15,
   "metadata": {},
   "outputs": [],
   "source": [
    "df_y_in = pd.DataFrame(y_in)"
   ]
  },
  {
   "cell_type": "code",
   "execution_count": 16,
   "metadata": {},
   "outputs": [],
   "source": [
    "df_y_out = pd.DataFrame(y_out)"
   ]
  },
  {
   "cell_type": "code",
   "execution_count": 17,
   "metadata": {},
   "outputs": [
    {
     "data": {
      "text/html": [
       "<div>\n",
       "<style scoped>\n",
       "    .dataframe tbody tr th:only-of-type {\n",
       "        vertical-align: middle;\n",
       "    }\n",
       "\n",
       "    .dataframe tbody tr th {\n",
       "        vertical-align: top;\n",
       "    }\n",
       "\n",
       "    .dataframe thead th {\n",
       "        text-align: right;\n",
       "    }\n",
       "</style>\n",
       "<table border=\"1\" class=\"dataframe\">\n",
       "  <thead>\n",
       "    <tr style=\"text-align: right;\">\n",
       "      <th></th>\n",
       "      <th>Intent</th>\n",
       "    </tr>\n",
       "  </thead>\n",
       "  <tbody>\n",
       "    <tr>\n",
       "      <td>PlayPodcastIntent</td>\n",
       "      <td>1567855</td>\n",
       "    </tr>\n",
       "    <tr>\n",
       "      <td>PlayRadioIntent</td>\n",
       "      <td>13409</td>\n",
       "    </tr>\n",
       "  </tbody>\n",
       "</table>\n",
       "</div>"
      ],
      "text/plain": [
       "                    Intent\n",
       "PlayPodcastIntent  1567855\n",
       "PlayRadioIntent      13409"
      ]
     },
     "execution_count": 17,
     "metadata": {},
     "output_type": "execute_result"
    }
   ],
   "source": [
    "df_y_in.apply(pd.value_counts)"
   ]
  },
  {
   "cell_type": "code",
   "execution_count": 18,
   "metadata": {},
   "outputs": [
    {
     "data": {
      "text/html": [
       "<div>\n",
       "<style scoped>\n",
       "    .dataframe tbody tr th:only-of-type {\n",
       "        vertical-align: middle;\n",
       "    }\n",
       "\n",
       "    .dataframe tbody tr th {\n",
       "        vertical-align: top;\n",
       "    }\n",
       "\n",
       "    .dataframe thead th {\n",
       "        text-align: right;\n",
       "    }\n",
       "</style>\n",
       "<table border=\"1\" class=\"dataframe\">\n",
       "  <thead>\n",
       "    <tr style=\"text-align: right;\">\n",
       "      <th></th>\n",
       "      <th>Intent</th>\n",
       "    </tr>\n",
       "  </thead>\n",
       "  <tbody>\n",
       "    <tr>\n",
       "      <td>PlayPodcastIntent</td>\n",
       "      <td>391965</td>\n",
       "    </tr>\n",
       "    <tr>\n",
       "      <td>PlayRadioIntent</td>\n",
       "      <td>3352</td>\n",
       "    </tr>\n",
       "  </tbody>\n",
       "</table>\n",
       "</div>"
      ],
      "text/plain": [
       "                   Intent\n",
       "PlayPodcastIntent  391965\n",
       "PlayRadioIntent      3352"
      ]
     },
     "execution_count": 18,
     "metadata": {},
     "output_type": "execute_result"
    }
   ],
   "source": [
    "df_y_out.apply(pd.value_counts)"
   ]
  },
  {
   "cell_type": "markdown",
   "metadata": {},
   "source": [
    "## Parameter Tuning\n",
    "To find the best performing parameters to train my model with."
   ]
  },
  {
   "cell_type": "code",
   "execution_count": 20,
   "metadata": {},
   "outputs": [],
   "source": [
    "from sklearn.feature_extraction.text import TfidfVectorizer\n",
    "from sklearn.pipeline import Pipeline\n",
    "from sklearn.feature_selection import SelectKBest, chi2, f_classif\n",
    "from sklearn.svm import LinearSVC"
   ]
  },
  {
   "cell_type": "code",
   "execution_count": 27,
   "metadata": {},
   "outputs": [],
   "source": [
    "pipeline = Pipeline([('tfidf', TfidfVectorizer(sublinear_tf=True)),\n",
    "                     ('selectkbest', SelectKBest(chi2, k=10000)),\n",
    "                     ('linearscv', LinearSVC(max_iter=10000, dual=False))])"
   ]
  },
  {
   "cell_type": "markdown",
   "metadata": {},
   "source": [
    "Listing out all the Params that I _could_ tune."
   ]
  },
  {
   "cell_type": "code",
   "execution_count": 22,
   "metadata": {},
   "outputs": [
    {
     "data": {
      "text/plain": [
       "{'memory': None,\n",
       " 'steps': [('tfidf',\n",
       "   TfidfVectorizer(analyzer='word', binary=False, decode_error='strict',\n",
       "                   dtype=<class 'numpy.float64'>, encoding='utf-8',\n",
       "                   input='content', lowercase=True, max_df=1.0, max_features=None,\n",
       "                   min_df=1, ngram_range=(1, 1), norm='l2', preprocessor=None,\n",
       "                   smooth_idf=True, stop_words=None, strip_accents=None,\n",
       "                   sublinear_tf=True, token_pattern='(?u)\\\\b\\\\w\\\\w+\\\\b',\n",
       "                   tokenizer=None, use_idf=True, vocabulary=None)),\n",
       "  ('selectkbest',\n",
       "   SelectKBest(k=10, score_func=<function f_classif at 0x139841c20>)),\n",
       "  ('linearscv',\n",
       "   LinearSVC(C=1.0, class_weight=None, dual=False, fit_intercept=True,\n",
       "             intercept_scaling=1, loss='squared_hinge', max_iter=10000,\n",
       "             multi_class='ovr', penalty='l2', random_state=None, tol=0.0001,\n",
       "             verbose=0))],\n",
       " 'verbose': False,\n",
       " 'tfidf': TfidfVectorizer(analyzer='word', binary=False, decode_error='strict',\n",
       "                 dtype=<class 'numpy.float64'>, encoding='utf-8',\n",
       "                 input='content', lowercase=True, max_df=1.0, max_features=None,\n",
       "                 min_df=1, ngram_range=(1, 1), norm='l2', preprocessor=None,\n",
       "                 smooth_idf=True, stop_words=None, strip_accents=None,\n",
       "                 sublinear_tf=True, token_pattern='(?u)\\\\b\\\\w\\\\w+\\\\b',\n",
       "                 tokenizer=None, use_idf=True, vocabulary=None),\n",
       " 'selectkbest': SelectKBest(k=10, score_func=<function f_classif at 0x139841c20>),\n",
       " 'linearscv': LinearSVC(C=1.0, class_weight=None, dual=False, fit_intercept=True,\n",
       "           intercept_scaling=1, loss='squared_hinge', max_iter=10000,\n",
       "           multi_class='ovr', penalty='l2', random_state=None, tol=0.0001,\n",
       "           verbose=0),\n",
       " 'tfidf__analyzer': 'word',\n",
       " 'tfidf__binary': False,\n",
       " 'tfidf__decode_error': 'strict',\n",
       " 'tfidf__dtype': numpy.float64,\n",
       " 'tfidf__encoding': 'utf-8',\n",
       " 'tfidf__input': 'content',\n",
       " 'tfidf__lowercase': True,\n",
       " 'tfidf__max_df': 1.0,\n",
       " 'tfidf__max_features': None,\n",
       " 'tfidf__min_df': 1,\n",
       " 'tfidf__ngram_range': (1, 1),\n",
       " 'tfidf__norm': 'l2',\n",
       " 'tfidf__preprocessor': None,\n",
       " 'tfidf__smooth_idf': True,\n",
       " 'tfidf__stop_words': None,\n",
       " 'tfidf__strip_accents': None,\n",
       " 'tfidf__sublinear_tf': True,\n",
       " 'tfidf__token_pattern': '(?u)\\\\b\\\\w\\\\w+\\\\b',\n",
       " 'tfidf__tokenizer': None,\n",
       " 'tfidf__use_idf': True,\n",
       " 'tfidf__vocabulary': None,\n",
       " 'selectkbest__k': 10,\n",
       " 'selectkbest__score_func': <function sklearn.feature_selection.univariate_selection.f_classif(X, y)>,\n",
       " 'linearscv__C': 1.0,\n",
       " 'linearscv__class_weight': None,\n",
       " 'linearscv__dual': False,\n",
       " 'linearscv__fit_intercept': True,\n",
       " 'linearscv__intercept_scaling': 1,\n",
       " 'linearscv__loss': 'squared_hinge',\n",
       " 'linearscv__max_iter': 10000,\n",
       " 'linearscv__multi_class': 'ovr',\n",
       " 'linearscv__penalty': 'l2',\n",
       " 'linearscv__random_state': None,\n",
       " 'linearscv__tol': 0.0001,\n",
       " 'linearscv__verbose': 0}"
      ]
     },
     "execution_count": 22,
     "metadata": {},
     "output_type": "execute_result"
    }
   ],
   "source": [
    "pipeline.get_params()"
   ]
  },
  {
   "cell_type": "code",
   "execution_count": 28,
   "metadata": {},
   "outputs": [],
   "source": [
    "from sklearn.model_selection import cross_val_score\n",
    "\n",
    "scores = cross_val_score(pipeline, x_in, y_in, scoring='accuracy', cv=5, n_jobs=1)"
   ]
  },
  {
   "cell_type": "code",
   "execution_count": 47,
   "metadata": {},
   "outputs": [],
   "source": [
    "from sklearn.model_selection import GridSearchCV\n",
    "\n",
    "grid = {\n",
    "    'tfidf__ngram_range':[(1,2),(2,3)],\n",
    "    'tfidf__stop_words': [None, 'english'],\n",
    "    'selectkbest__k': [10000, 15000],\n",
    "    'selectkbest__score_func': [f_classif, chi2],\n",
    "    'linearscv__penalty': ['l1', 'l2'] }"
   ]
  },
  {
   "cell_type": "code",
   "execution_count": 48,
   "metadata": {},
   "outputs": [
    {
     "data": {
      "text/plain": [
       "GridSearchCV(cv=5, error_score='raise-deprecating',\n",
       "             estimator=Pipeline(memory=None,\n",
       "                                steps=[('tfidf',\n",
       "                                        TfidfVectorizer(analyzer='word',\n",
       "                                                        binary=False,\n",
       "                                                        decode_error='strict',\n",
       "                                                        dtype=<class 'numpy.float64'>,\n",
       "                                                        encoding='utf-8',\n",
       "                                                        input='content',\n",
       "                                                        lowercase=True,\n",
       "                                                        max_df=1.0,\n",
       "                                                        max_features=None,\n",
       "                                                        min_df=1,\n",
       "                                                        ngram_range=(1, 1),\n",
       "                                                        norm='l2',\n",
       "                                                        preprocessor=None,\n",
       "                                                        smooth_idf=True,\n",
       "                                                        stop_word...\n",
       "                                verbose=False),\n",
       "             iid='warn', n_jobs=-1,\n",
       "             param_grid={'linearscv__penalty': ['l1', 'l2'],\n",
       "                         'selectkbest__k': [10000, 15000],\n",
       "                         'selectkbest__score_func': [<function f_classif at 0x139841c20>,\n",
       "                                                     <function chi2 at 0x139845050>],\n",
       "                         'tfidf__ngram_range': [(1, 2), (2, 3)],\n",
       "                         'tfidf__stop_words': [None, 'english']},\n",
       "             pre_dispatch='2*n_jobs', refit=True, return_train_score=False,\n",
       "             scoring='accuracy', verbose=0)"
      ]
     },
     "execution_count": 48,
     "metadata": {},
     "output_type": "execute_result"
    }
   ],
   "source": [
    "grid_search = GridSearchCV(pipeline, param_grid=grid, scoring='accuracy', n_jobs=-1, cv=5)\n",
    "grid_search.fit(X=x_in, y=y_in)"
   ]
  },
  {
   "cell_type": "code",
   "execution_count": 49,
   "metadata": {},
   "outputs": [
    {
     "data": {
      "text/plain": [
       "0.9997546266784041"
      ]
     },
     "execution_count": 49,
     "metadata": {},
     "output_type": "execute_result"
    }
   ],
   "source": [
    "grid_search.best_score_"
   ]
  },
  {
   "cell_type": "markdown",
   "metadata": {},
   "source": [
    "This below was found to be the best combination."
   ]
  },
  {
   "cell_type": "code",
   "execution_count": 50,
   "metadata": {},
   "outputs": [
    {
     "data": {
      "text/plain": [
       "{'linearscv__penalty': 'l1',\n",
       " 'selectkbest__k': 15000,\n",
       " 'selectkbest__score_func': <function sklearn.feature_selection.univariate_selection.f_classif(X, y)>,\n",
       " 'tfidf__ngram_range': (1, 2),\n",
       " 'tfidf__stop_words': None}"
      ]
     },
     "execution_count": 50,
     "metadata": {},
     "output_type": "execute_result"
    }
   ],
   "source": [
    "grid_search.best_params_"
   ]
  },
  {
   "cell_type": "code",
   "execution_count": 52,
   "metadata": {},
   "outputs": [
    {
     "data": {
      "text/plain": [
       "0.9997369199907922"
      ]
     },
     "execution_count": 52,
     "metadata": {},
     "output_type": "execute_result"
    }
   ],
   "source": [
    "grid_search.score(x_out, y_out)"
   ]
  },
  {
   "cell_type": "markdown",
   "metadata": {},
   "source": [
    "## Training a Model\n",
    "\n",
    "Make a model using the best parameters from the parameter tuning earlier. I increased the `max_iter` because it didn't converge on first try"
   ]
  },
  {
   "cell_type": "code",
   "execution_count": 51,
   "metadata": {},
   "outputs": [],
   "source": [
    "tuned_pipeline = Pipeline([('tfidf', TfidfVectorizer(sublinear_tf=True, ngram_range=(1,2), stop_words=None)),\n",
    "                         ('selectkbest', SelectKBest(f_classif, k=15000)),\n",
    "                         ('linearscv', LinearSVC(max_iter=15000, dual=False, penalty='l1'))])"
   ]
  },
  {
   "cell_type": "code",
   "execution_count": 67,
   "metadata": {},
   "outputs": [],
   "source": [
    "model = tuned_pipeline.fit(x_in, y_in)"
   ]
  },
  {
   "cell_type": "markdown",
   "metadata": {},
   "source": [
    "Test the output with a test set that hasn't been tested against yet."
   ]
  },
  {
   "cell_type": "code",
   "execution_count": 68,
   "metadata": {},
   "outputs": [
    {
     "data": {
      "text/plain": [
       "0.9997369199907922"
      ]
     },
     "execution_count": 68,
     "metadata": {},
     "output_type": "execute_result"
    }
   ],
   "source": [
    "model.score(x_out, y_out)"
   ]
  },
  {
   "cell_type": "markdown",
   "metadata": {},
   "source": [
    "## Testing the Model\n",
    "Trying out some example utterances that I made up. "
   ]
  },
  {
   "cell_type": "code",
   "execution_count": 106,
   "metadata": {},
   "outputs": [],
   "source": [
    "model_results = [['utterance', 'expectation', 'actual', 'correct?']]"
   ]
  },
  {
   "cell_type": "code",
   "execution_count": 108,
   "metadata": {},
   "outputs": [],
   "source": [
    "samples = [['PlayPodcastIntent', 'can i listen to the new bbc womens show'],\n",
    "          ['PlayPodcastIntent', 'can you play unexpected fluids for me'],\n",
    "          ['PlayPodcastIntent', 'i want to listen to yesterdays quiz'],\n",
    "          ['PlayPodcastIntent', 'play womans hour podcast'],\n",
    "          ['PlayPodcastIntent', 'play me the nixtape'],\n",
    "          ['PlayPodcastIntent', 'i want to hear the health show on demand'],\n",
    "          ['PlayRadioIntent', 'play bbc radio one extra station'],\n",
    "          ['PlayRadioIntent', 'stream bbc radio nottingham for me'],\n",
    "          ['PlayRadioIntent', 'please may i listen to scottish radio'],\n",
    "          ['PlayRadioIntent', 'i want to listen to new welsh radio station'],\n",
    "          ['PlayRadioIntent', 'can i listen to radio leicester'],\n",
    "          ['PlayRadioIntent', 'can you kindly play me bbc radio four']]"
   ]
  },
  {
   "cell_type": "code",
   "execution_count": 109,
   "metadata": {},
   "outputs": [],
   "source": [
    "for sample in samples:\n",
    "    prediction = model.predict([sample[1]])\n",
    "    model_results.append([sample[1], sample[0], prediction[0], prediction[0] == sample[0]])"
   ]
  },
  {
   "cell_type": "code",
   "execution_count": 110,
   "metadata": {},
   "outputs": [],
   "source": [
    "results_df = pd.DataFrame(model_results)"
   ]
  },
  {
   "cell_type": "code",
   "execution_count": 111,
   "metadata": {},
   "outputs": [
    {
     "data": {
      "text/html": [
       "<div>\n",
       "<style scoped>\n",
       "    .dataframe tbody tr th:only-of-type {\n",
       "        vertical-align: middle;\n",
       "    }\n",
       "\n",
       "    .dataframe tbody tr th {\n",
       "        vertical-align: top;\n",
       "    }\n",
       "\n",
       "    .dataframe thead th {\n",
       "        text-align: right;\n",
       "    }\n",
       "</style>\n",
       "<table border=\"1\" class=\"dataframe\">\n",
       "  <thead>\n",
       "    <tr style=\"text-align: right;\">\n",
       "      <th></th>\n",
       "      <th>0</th>\n",
       "      <th>1</th>\n",
       "      <th>2</th>\n",
       "      <th>3</th>\n",
       "    </tr>\n",
       "  </thead>\n",
       "  <tbody>\n",
       "    <tr>\n",
       "      <td>0</td>\n",
       "      <td>utterance</td>\n",
       "      <td>expectation</td>\n",
       "      <td>actual</td>\n",
       "      <td>correct?</td>\n",
       "    </tr>\n",
       "    <tr>\n",
       "      <td>1</td>\n",
       "      <td>can i listen to the new bbc womens show</td>\n",
       "      <td>PlayPodcastIntent</td>\n",
       "      <td>PlayPodcastIntent</td>\n",
       "      <td>True</td>\n",
       "    </tr>\n",
       "    <tr>\n",
       "      <td>2</td>\n",
       "      <td>can you play unexpected fluids for me</td>\n",
       "      <td>PlayPodcastIntent</td>\n",
       "      <td>PlayPodcastIntent</td>\n",
       "      <td>True</td>\n",
       "    </tr>\n",
       "    <tr>\n",
       "      <td>3</td>\n",
       "      <td>i want to listen to yesterdays quiz</td>\n",
       "      <td>PlayPodcastIntent</td>\n",
       "      <td>PlayPodcastIntent</td>\n",
       "      <td>True</td>\n",
       "    </tr>\n",
       "    <tr>\n",
       "      <td>4</td>\n",
       "      <td>play womans hour podcast</td>\n",
       "      <td>PlayPodcastIntent</td>\n",
       "      <td>PlayPodcastIntent</td>\n",
       "      <td>True</td>\n",
       "    </tr>\n",
       "    <tr>\n",
       "      <td>5</td>\n",
       "      <td>play me the nixtape</td>\n",
       "      <td>PlayPodcastIntent</td>\n",
       "      <td>PlayPodcastIntent</td>\n",
       "      <td>True</td>\n",
       "    </tr>\n",
       "    <tr>\n",
       "      <td>6</td>\n",
       "      <td>i want to hear the health show on demand</td>\n",
       "      <td>PlayPodcastIntent</td>\n",
       "      <td>PlayPodcastIntent</td>\n",
       "      <td>True</td>\n",
       "    </tr>\n",
       "    <tr>\n",
       "      <td>7</td>\n",
       "      <td>play bbc radio one extra station</td>\n",
       "      <td>PlayRadioIntent</td>\n",
       "      <td>PlayRadioIntent</td>\n",
       "      <td>True</td>\n",
       "    </tr>\n",
       "    <tr>\n",
       "      <td>8</td>\n",
       "      <td>stream bbc radio nottingham for me</td>\n",
       "      <td>PlayRadioIntent</td>\n",
       "      <td>PlayRadioIntent</td>\n",
       "      <td>True</td>\n",
       "    </tr>\n",
       "    <tr>\n",
       "      <td>9</td>\n",
       "      <td>please may i listen to scottish radio</td>\n",
       "      <td>PlayRadioIntent</td>\n",
       "      <td>PlayPodcastIntent</td>\n",
       "      <td>False</td>\n",
       "    </tr>\n",
       "    <tr>\n",
       "      <td>10</td>\n",
       "      <td>i want to listen to new welsh radio station</td>\n",
       "      <td>PlayRadioIntent</td>\n",
       "      <td>PlayPodcastIntent</td>\n",
       "      <td>False</td>\n",
       "    </tr>\n",
       "    <tr>\n",
       "      <td>11</td>\n",
       "      <td>can i listen to radio leicester</td>\n",
       "      <td>PlayRadioIntent</td>\n",
       "      <td>PlayRadioIntent</td>\n",
       "      <td>True</td>\n",
       "    </tr>\n",
       "    <tr>\n",
       "      <td>12</td>\n",
       "      <td>can you kindly play me bbc radio four</td>\n",
       "      <td>PlayRadioIntent</td>\n",
       "      <td>PlayRadioIntent</td>\n",
       "      <td>True</td>\n",
       "    </tr>\n",
       "  </tbody>\n",
       "</table>\n",
       "</div>"
      ],
      "text/plain": [
       "                                              0                  1  \\\n",
       "0                                     utterance        expectation   \n",
       "1       can i listen to the new bbc womens show  PlayPodcastIntent   \n",
       "2         can you play unexpected fluids for me  PlayPodcastIntent   \n",
       "3           i want to listen to yesterdays quiz  PlayPodcastIntent   \n",
       "4                      play womans hour podcast  PlayPodcastIntent   \n",
       "5                           play me the nixtape  PlayPodcastIntent   \n",
       "6      i want to hear the health show on demand  PlayPodcastIntent   \n",
       "7              play bbc radio one extra station    PlayRadioIntent   \n",
       "8            stream bbc radio nottingham for me    PlayRadioIntent   \n",
       "9         please may i listen to scottish radio    PlayRadioIntent   \n",
       "10  i want to listen to new welsh radio station    PlayRadioIntent   \n",
       "11              can i listen to radio leicester    PlayRadioIntent   \n",
       "12        can you kindly play me bbc radio four    PlayRadioIntent   \n",
       "\n",
       "                    2         3  \n",
       "0              actual  correct?  \n",
       "1   PlayPodcastIntent      True  \n",
       "2   PlayPodcastIntent      True  \n",
       "3   PlayPodcastIntent      True  \n",
       "4   PlayPodcastIntent      True  \n",
       "5   PlayPodcastIntent      True  \n",
       "6   PlayPodcastIntent      True  \n",
       "7     PlayRadioIntent      True  \n",
       "8     PlayRadioIntent      True  \n",
       "9   PlayPodcastIntent     False  \n",
       "10  PlayPodcastIntent     False  \n",
       "11    PlayRadioIntent      True  \n",
       "12    PlayRadioIntent      True  "
      ]
     },
     "execution_count": 111,
     "metadata": {},
     "output_type": "execute_result"
    }
   ],
   "source": [
    "results_df"
   ]
  },
  {
   "cell_type": "markdown",
   "metadata": {},
   "source": [
    "The results don't seem to be too bad. My human brain is suprised that the model hasn't associated the word \"radio\" with \"PlayRadioIntent\", but I'm only a human. 🤷🏻‍♀️"
   ]
  },
  {
   "cell_type": "code",
   "execution_count": null,
   "metadata": {},
   "outputs": [],
   "source": []
  }
 ],
 "metadata": {
  "kernelspec": {
   "display_name": "Python 3",
   "language": "python",
   "name": "python3"
  },
  "language_info": {
   "codemirror_mode": {
    "name": "ipython",
    "version": 3
   },
   "file_extension": ".py",
   "mimetype": "text/x-python",
   "name": "python",
   "nbconvert_exporter": "python",
   "pygments_lexer": "ipython3",
   "version": "3.7.4"
  }
 },
 "nbformat": 4,
 "nbformat_minor": 2
}
